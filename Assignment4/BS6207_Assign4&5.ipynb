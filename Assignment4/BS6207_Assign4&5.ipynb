{
 "cells": [
  {
   "cell_type": "code",
   "execution_count": 309,
   "metadata": {},
   "outputs": [],
   "source": [
    "import glob\n",
    "import os\n",
    "import numpy as np\n",
    "import shutil\n",
    "import time\n",
    "import matplotlib.pyplot as plt\n",
    "import seaborn as sns\n",
    "import pickle"
   ]
  },
  {
   "cell_type": "code",
   "execution_count": 310,
   "metadata": {},
   "outputs": [],
   "source": [
    "data_dir=r'D:\\CS\\NTU\\BS6207\\Assign\\BS6207-assignment4'\n",
    "artifacts_dir=\"artifacts\"\n",
    "cancer_regions='cancer_regions'\n",
    "normal_regions='normal_regions'\n",
    "other='other'"
   ]
  },
  {
   "cell_type": "code",
   "execution_count": null,
   "metadata": {},
   "outputs": [],
   "source": []
  },
  {
   "cell_type": "markdown",
   "metadata": {},
   "source": [
    "# Utils"
   ]
  },
  {
   "cell_type": "code",
   "execution_count": 314,
   "metadata": {},
   "outputs": [],
   "source": [
    "def save_pickle(a,path):\n",
    "    with open(path,'wb') as f:\n",
    "        pickle.dump(a,f)\n",
    "def load_pickle(path):\n",
    "    with open(path,'rb') as f:\n",
    "        res=pickle.load(f)\n",
    "    return res\n",
    "\n",
    "def return_sort_image_list(data_dir,file_dir):\n",
    "    file_list=os.listdir(os.path.join(data_dir, file_dir))\n",
    "    li=[]\n",
    "    for file in file_list:\n",
    "        num=int(file.split('.')[0])\n",
    "        li.append(num)\n",
    "    li.sort()\n",
    "    return_list=[]\n",
    "    for i in li:\n",
    "        name=str(i)+'.png'\n",
    "        return_list.append(name)\n",
    "    return return_list"
   ]
  },
  {
   "cell_type": "code",
   "execution_count": 326,
   "metadata": {},
   "outputs": [],
   "source": [
    "artifacts_li=return_sort_image_list(data_dir,artifacts_dir)\n",
    "cancer_li=return_sort_image_list(data_dir,cancer_regions)\n",
    "normal_li=return_sort_image_list(data_dir,normal_regions)\n",
    "other_li=return_sort_image_list(data_dir,other)\n"
   ]
  },
  {
   "cell_type": "code",
   "execution_count": null,
   "metadata": {},
   "outputs": [],
   "source": []
  },
  {
   "cell_type": "code",
   "execution_count": 318,
   "metadata": {},
   "outputs": [],
   "source": [
    "from PIL import Image\n",
    "def mkdir_if_not_exist(path): \n",
    "    if not os.path.exists(path):\n",
    "        os.makedirs(path)\n",
    "\n",
    "def change_name(data_dir,file_dir,file_list):\n",
    "    i=0\n",
    "    new_path=data_dir+\"\\\\new\"\n",
    "    new_name_list=[]\n",
    "    for image_name in file_list:\n",
    "        path=os.path.join(data_dir,file_dir,image_name)\n",
    "        im=Image.open(path)\n",
    "        new_name=file_dir+\"_{}.png\".format(str(i))\n",
    "        save_path=os.path.join(new_path,file_dir)\n",
    "        mkdir_if_not_exist(save_path)\n",
    "        im.save(os.path.join(new_path,file_dir,new_name))\n",
    "        new_name_list.append(new_name)\n",
    "        i=i+1\n",
    "    return new_name_list\n",
    "        "
   ]
  },
  {
   "cell_type": "code",
   "execution_count": 321,
   "metadata": {},
   "outputs": [],
   "source": [
    "artifacts_new_li=change_name(data_dir,artifacts_dir,artifacts_li)\n",
    "cancer__new_li=change_name(data_dir,cancer_regions,cancer_li)\n",
    "normal_new_li=change_name(data_dir,normal_regions,normal_li)\n",
    "other_new_li=change_name(data_dir,other,other_li)\n"
   ]
  },
  {
   "cell_type": "markdown",
   "metadata": {},
   "source": [
    "### get means and stds "
   ]
  },
  {
   "cell_type": "code",
   "execution_count": 143,
   "metadata": {},
   "outputs": [
    {
     "name": "stdout",
     "output_type": "stream",
     "text": [
      "0\n",
      "500\n",
      "1000\n",
      "1500\n",
      "2000\n",
      "2500\n",
      "3000\n",
      "3500\n",
      "4000\n",
      "4500\n",
      "5000\n",
      "5500\n",
      "6000\n",
      "6500\n"
     ]
    }
   ],
   "source": [
    "\n",
    "import cv2\n",
    "# calculate means and std\n",
    " \n",
    "img_h, img_w = 128, 128\n",
    "imgs = np.zeros([img_w, img_h, 3, 1])\n",
    "means, stdevs = [], []\n",
    "\n",
    "\n",
    "all_image_files=glob.glob(os.path.join(data_dir,artifacts_dir,\"*\"))\\\n",
    "+glob.glob(os.path.join(data_dir,cancer_regions,\"*\"))\\\n",
    "+glob.glob(os.path.join(data_dir,normal_regions,\"*\"))\\\n",
    "+glob.glob(os.path.join(data_dir,other,\"*\"))\n",
    "\n",
    "for i in range(len(all_image_files)):\n",
    "    img_path = all_image_files[i]\n",
    "    img = cv2.imread(img_path)\n",
    "    img = img[:, :, :, np.newaxis]    \n",
    "    imgs = np.concatenate((imgs, img), axis=3)\n",
    "    if i%500==0:\n",
    "        print(i)\n",
    "imgs = imgs.astype(np.float32)/255\n",
    " "
   ]
  },
  {
   "cell_type": "code",
   "execution_count": 146,
   "metadata": {},
   "outputs": [],
   "source": [
    "for i in range(3):\n",
    "    pixels = imgs[:,:,i,:].ravel()  \n",
    "    means.append(np.mean(pixels))\n",
    "    stdevs.append(np.std(pixels))\n",
    "\n",
    "means.reverse()\n",
    "stdevs.reverse()"
   ]
  },
  {
   "cell_type": "code",
   "execution_count": 147,
   "metadata": {},
   "outputs": [
    {
     "data": {
      "text/plain": [
       "[0.6341895, 0.4980002, 0.64840436]"
      ]
     },
     "execution_count": 147,
     "metadata": {},
     "output_type": "execute_result"
    }
   ],
   "source": [
    "means"
   ]
  },
  {
   "cell_type": "code",
   "execution_count": 5,
   "metadata": {},
   "outputs": [],
   "source": [
    "path='./means.pkl'\n",
    "path2='./stds.pkl'\n"
   ]
  },
  {
   "cell_type": "code",
   "execution_count": null,
   "metadata": {},
   "outputs": [],
   "source": [
    "save_pickle(means,path)\n",
    "save_pickle(stdevs,path2)"
   ]
  },
  {
   "cell_type": "code",
   "execution_count": 148,
   "metadata": {},
   "outputs": [
    {
     "data": {
      "text/plain": [
       "[0.22627775, 0.27285302, 0.22700454]"
      ]
     },
     "execution_count": 148,
     "metadata": {},
     "output_type": "execute_result"
    }
   ],
   "source": [
    "stdevs"
   ]
  },
  {
   "cell_type": "code",
   "execution_count": 6,
   "metadata": {},
   "outputs": [],
   "source": [
    "means=load_pickle(path)\n",
    "stdevs=load_pickle(path2)"
   ]
  },
  {
   "cell_type": "markdown",
   "metadata": {},
   "source": [
    "### generate train，valid and test files"
   ]
  },
  {
   "cell_type": "code",
   "execution_count": 323,
   "metadata": {},
   "outputs": [
    {
     "data": {
      "text/plain": [
       "'D:\\\\CS\\\\NTU\\\\BS6207\\\\Assign\\\\BS6207-assignment4\\\\new\\\\train_valid_Set'"
      ]
     },
     "execution_count": 323,
     "metadata": {},
     "output_type": "execute_result"
    }
   ],
   "source": [
    "train_dir=os.path.join(data_dir,'new','trainSet')\n",
    "train_valid_dir=os.path.join(data_dir,'new','train_valid_Set')\n",
    "valid_dir=os.path.join(data_dir,'new','validSet')\n",
    "test_dir=os.path.join(data_dir,'new','testSet')\n",
    "train_valid_dir"
   ]
  },
  {
   "cell_type": "code",
   "execution_count": null,
   "metadata": {},
   "outputs": [],
   "source": []
  },
  {
   "cell_type": "code",
   "execution_count": 324,
   "metadata": {},
   "outputs": [],
   "source": [
    "def copy_to_files(new_data_dir,data_dir,file_dir,file_list,test_size,valid_ratio):\n",
    "    train_dir,valid_dir,test_dir,train_valid_dir=new_data_dir\n",
    "    train_dir=train_dir+'\\\\'+file_dir\n",
    "    valid_dir=valid_dir+\"\\\\\"+file_dir\n",
    "    test_dir=test_dir+\"\\\\\"+file_dir\n",
    "    trian_valid_dir=train_valid_dir+\"\\\\\"+file_dir\n",
    "    \n",
    "    mkdir_if_not_exist(train_dir)\n",
    "    mkdir_if_not_exist(valid_dir)\n",
    "    mkdir_if_not_exist(test_dir)\n",
    "    mkdir_if_not_exist(trian_valid_dir)\n",
    "    \n",
    "    #get test_files\n",
    "    test_lists=file_list[0:test_size]    \n",
    "    \n",
    "    #get train and valid files\n",
    "    remain_list=list(set(file_list)-set(test_lists))\n",
    "    \n",
    "    #copy to train_set\n",
    "    for i_name in remain_list:\n",
    "        shutil.copy(os.path.join(data_dir,'new',file_dir,i_name),trian_valid_dir+'\\\\'+i_name)\n",
    "    \n",
    "    valid_lists=np.random.choice(remain_list,size=int(len(remain_list)*valid_ratio),replace=False)\n",
    "    train_lists=list(set(remain_list)-set(valid_lists))\n",
    "    np.random.shuffle(train_lists)\n",
    "    \n",
    "\n",
    "    \n",
    "    #copy to train_set\n",
    "    for i_name in train_lists:\n",
    "        shutil.copy(os.path.join(data_dir,'new',file_dir,i_name),train_dir+'\\\\'+i_name)\n",
    "        \n",
    "    #copy to valid_set\n",
    "    for i_name in valid_lists:\n",
    "        shutil.copy(os.path.join(data_dir,'new',file_dir,i_name),valid_dir+'\\\\'+i_name)\n",
    "        \n",
    "    #copy to test_set\n",
    "    for i_name in test_lists:\n",
    "        shutil.copy(os.path.join(data_dir,'new',file_dir,i_name),test_dir+\"\\\\\"+i_name)"
   ]
  },
  {
   "cell_type": "code",
   "execution_count": 325,
   "metadata": {},
   "outputs": [],
   "source": [
    "new_data_dir=[train_dir,valid_dir,test_dir,train_valid_dir]\n",
    "copy_to_files(new_data_dir,data_dir,artifacts_dir,artifacts_new_li,100,0.2)\n",
    "copy_to_files(new_data_dir,data_dir,cancer_regions,cancer__new_li,100,0.2)\n",
    "copy_to_files(new_data_dir,data_dir,normal_regions,normal_new_li,100,0.2)\n",
    "copy_to_files(new_data_dir,data_dir,other,other_new_li,100,0.2)"
   ]
  },
  {
   "cell_type": "markdown",
   "metadata": {},
   "source": [
    "### implement hyperparamters"
   ]
  },
  {
   "cell_type": "code",
   "execution_count": 150,
   "metadata": {},
   "outputs": [],
   "source": []
  },
  {
   "cell_type": "markdown",
   "metadata": {},
   "source": [
    "### transforms and get labels"
   ]
  },
  {
   "cell_type": "code",
   "execution_count": 142,
   "metadata": {},
   "outputs": [],
   "source": [
    "from torchvision import transforms\n",
    "from torchvision.datasets import ImageFolder\n",
    "from torch.utils.data import DataLoader\n",
    "train_transform=transforms.Compose([\n",
    "    transforms.RandomResizedCrop(128, scale=(0.64, 1.0),ratio=(1.0,1.0)),\n",
    "    transforms.RandomHorizontalFlip(),\n",
    "    transforms.ColorJitter(brightness=0.4, contrast=0.4, saturation=0.4),\n",
    "    transforms.ToTensor(),\n",
    "    transforms.Normalize(means,stdevs)\n",
    "])\n",
    "\n",
    "test_transform=transforms.Compose([\n",
    "    transforms.ToTensor(),\n",
    "    transforms.Normalize(means,stdevs)\n",
    "])\n",
    "\n",
    "#generate dataloader\n",
    "train_ds=ImageFolder(train_dir,transform=train_transform)\n",
    "valid_ds=ImageFolder(valid_dir,transform=test_transform)\n",
    "test_ds=ImageFolder(test_dir,transform=test_transform)\n",
    "\n"
   ]
  },
  {
   "cell_type": "code",
   "execution_count": null,
   "metadata": {},
   "outputs": [],
   "source": []
  },
  {
   "cell_type": "markdown",
   "metadata": {},
   "source": [
    "# Models"
   ]
  },
  {
   "cell_type": "code",
   "execution_count": 267,
   "metadata": {},
   "outputs": [],
   "source": [
    "import torch\n",
    "from torch import nn\n",
    "import torch.nn.functional as F\n",
    "\n",
    "class Residual(nn.Module):\n",
    "    def __init__(self,in_channels,out_channels,use_1x1conv=False,stride=1):\n",
    "        super(Residual,self).__init__()\n",
    "        self.conv1 = nn.Conv2d(in_channels,out_channels,kernel_size=3, padding=1,stride=stride)\n",
    "        self.conv2 = nn.Conv2d(out_channels,out_channels,kernel_size=3, padding=1)\n",
    "        if use_1x1conv:\n",
    "            self.conv3 = nn.Conv2d(in_channels,out_channels, kernel_size=1,stride=stride)\n",
    "        else:\n",
    "            self.conv3 = None\n",
    "        self.bn1 = nn.BatchNorm2d(out_channels)\n",
    "        self.bn2 = nn.BatchNorm2d(out_channels)\n",
    "\n",
    "    def forward(self,X):\n",
    "        Y = F.relu(self.bn1(self.conv1(X)))\n",
    "        Y = self.bn2(self.conv2(Y))\n",
    "        if self.conv3:\n",
    "            X = self.conv3(X)\n",
    "        return F.relu(Y + X)\n",
    "\n",
    "\n",
    "class CNNModel_pool_residual(nn.Module):\n",
    "    def __init__(self,in_channels,out_dim,lin_architecture,res_architecture,kernel_params,dropout=False,pooling_method='max'):\n",
    "        super(CNNModel_pool_residual,self).__init__()\n",
    "        \n",
    "        kernel_size,strides,res_stride=kernel_params\n",
    "        \n",
    "\n",
    "        x_in=in_channels\n",
    "        #residual nets\n",
    "        self.cnn = nn.Sequential(\n",
    "            nn.Conv2d(3, res_architecture[0], kernel_size=3, padding=1,stride=2),  # [64, 64, 64]\n",
    "            nn.BatchNorm2d(res_architecture[0]),\n",
    "            nn.ReLU(),\n",
    "        )\n",
    "        \n",
    "        H=res_architecture[0]\n",
    "        W=res_architecture[0]\n",
    "        \n",
    "        def resnet_block(in_channels, out_channels, num_residuals,H,W,first_block=False):\n",
    "            if first_block:\n",
    "                assert in_channels == out_channels \n",
    "            blk = []\n",
    "            for i in range(num_residuals):\n",
    "                if i == 0 and not first_block:\n",
    "                    blk.append(Residual(in_channels, out_channels, use_1x1conv=True, stride=res_stride))\n",
    "                    H=int((H+2*1-2-1)/res_stride+1)\n",
    "                    W=int((W+2*1-2-1)/res_stride+1)\n",
    "                else:\n",
    "                    blk.append(Residual(out_channels, out_channels))\n",
    "            return blk,H,W\n",
    "        \n",
    "        self.residual=[]\n",
    "        for i in range(len(res_architecture)):\n",
    "            if i==0:\n",
    "                blk,H,W=resnet_block(res_architecture[i],res_architecture[i],2,H,W,first_block=True)\n",
    "                self.residual+=blk\n",
    "            else:\n",
    "                blk,H,W=resnet_block(x_in,res_architecture[i],2,H,W)\n",
    "                self.residual+=blk\n",
    "            if pooling_method=='max':\n",
    "                self.residual.append(nn.MaxPool2d(kernel_size=kernel_size,stride=strides))\n",
    "                H=(H+0-(kernel_size-1)-1)//strides+1\n",
    "                W=(W+0-(kernel_size-1)-1)//strides+1\n",
    "            elif pooling_method=='ave':\n",
    "                self.residual.append(torch.nn.AvgPool2d(kernel_size=2,stride=strides))\n",
    "                H=(H+2*0-kernel_size)//strides+1\n",
    "                W=(W+2*0-kernel_size)//strides+1\n",
    "            x_in=res_architecture[i]\n",
    "        \n",
    "        _shape=res_architecture[-1]*W*H #256*2*2\n",
    "        # linear classifer\n",
    "        self.fc=[]\n",
    "        for i in range(len(lin_architecture)):\n",
    "            self.fc.append(nn.Linear(_shape,lin_architecture[i]))\n",
    "            self.fc.append(nn.ReLU())\n",
    "            if dropout==False:\n",
    "                self.dropout=None\n",
    "            else:\n",
    "                self.fc.append(nn.Dropout(dropout))\n",
    "            _shape=lin_architecture[i]\n",
    "            \n",
    "        self.output=nn.Linear(_shape,out_dim)\n",
    "        self.flatten=nn.Flatten()\n",
    "    def forward(self,X):\n",
    "        X=self.cnn(X)\n",
    "        for net in self.residual:\n",
    "            X=net(X)\n",
    "        X=self.flatten(X)\n",
    "        for net2 in self.fc:\n",
    "            X=net2(X)\n",
    "        \n",
    "        return self.output(X)"
   ]
  },
  {
   "cell_type": "code",
   "execution_count": 161,
   "metadata": {},
   "outputs": [
    {
     "data": {
      "text/plain": [
       "torch.Size([4, 3, 6, 6])"
      ]
     },
     "execution_count": 161,
     "metadata": {},
     "output_type": "execute_result"
    }
   ],
   "source": [
    "blk = Residual(3, 3)\n",
    "X = torch.rand((4, 3, 6, 6))\n",
    "blk(X).shape"
   ]
  },
  {
   "cell_type": "code",
   "execution_count": 162,
   "metadata": {},
   "outputs": [
    {
     "data": {
      "text/plain": [
       "torch.Size([4, 3, 3, 3])"
      ]
     },
     "execution_count": 162,
     "metadata": {},
     "output_type": "execute_result"
    }
   ],
   "source": [
    "blk = Residual(3, 3,True,2)\n",
    "X = torch.rand((4, 3, 6, 6))\n",
    "blk(X).shape "
   ]
  },
  {
   "cell_type": "code",
   "execution_count": 284,
   "metadata": {},
   "outputs": [],
   "source": [
    "class CNNModel_pool_normal(nn.Module):\n",
    "    def __init__(self,dropout=None):\n",
    "        super(CNNModel_pool_normal, self).__init__()\n",
    "\n",
    "        self.cnn = nn.Sequential(\n",
    "            nn.Conv2d(3, 64, kernel_size=3, padding=1,stride=2),  # [64, 64, 64]\n",
    "            nn.BatchNorm2d(64),\n",
    "            nn.ReLU(),\n",
    "            nn.MaxPool2d(2, 2, 0),      # [64, 32, 32]\n",
    "\n",
    "            nn.Conv2d(64, 128, kernel_size=3, padding=1,stride=2), # [128, 16, 16]\n",
    "            nn.BatchNorm2d(128),\n",
    "            nn.ReLU(),\n",
    "            nn.MaxPool2d(2, 2, 0),      # [128, 8, 8]\n",
    "\n",
    "            nn.Conv2d(128, 256, kernel_size=3, padding=1,stride=2), # [256, 4, 4]\n",
    "            nn.BatchNorm2d(256),\n",
    "            nn.ReLU(),\n",
    "            nn.MaxPool2d(2, 2, 0),      # [256, 2, 2]\n",
    "        )\n",
    "        self.flatten=nn.Flatten()\n",
    "        self.fc = nn.Sequential(\n",
    "            nn.Linear(1024, 512),\n",
    "            nn.ReLU(),\n",
    "            nn.Linear(512, 4)\n",
    "        )\n",
    "\n",
    "    def forward(self, x):\n",
    "        out = self.cnn(x)\n",
    "        out = self.flatten(out)\n",
    "        return self.fc(out)"
   ]
  },
  {
   "cell_type": "markdown",
   "metadata": {},
   "source": [
    "# Main()"
   ]
  },
  {
   "cell_type": "code",
   "execution_count": 143,
   "metadata": {},
   "outputs": [],
   "source": [
    "batch_size=128\n",
    "train_iter=DataLoader(train_ds,batch_size, shuffle=True)\n",
    "valid_iter=DataLoader(valid_ds,batch_size, shuffle=True)\n"
   ]
  },
  {
   "cell_type": "code",
   "execution_count": 169,
   "metadata": {},
   "outputs": [],
   "source": [
    "# hyperparameters\n",
    "\n",
    "lr=0.01\n",
    "dropout=0.6"
   ]
  },
  {
   "cell_type": "code",
   "execution_count": 344,
   "metadata": {},
   "outputs": [],
   "source": [
    "def train(net,train_iter,valid_iter,optim,epoches,early_stop=False,name=None):\n",
    "    history_loss=dict()\n",
    "    history_acc=dict()\n",
    "    history_loss[\"val\"]=[]\n",
    "    history_loss[\"train\"]=[]\n",
    "        \n",
    "    history_acc[\"val\"]=[]\n",
    "    history_acc[\"train\"]=[]\n",
    "    best_acc=0\n",
    "    for epoch in range(epoches):\n",
    "        print(\"processing the {} epoch\".format(epoch))\n",
    "        epoch_start_time = time.time()\n",
    "        train_acc = []\n",
    "        train_loss = []\n",
    "        val_acc = []\n",
    "        val_loss = []\n",
    "        len_train=0\n",
    "        net.train()\n",
    "        for batch_x,batch_y in train_iter:\n",
    "#             print(batch_x.shape)\n",
    "#             print(batch_y.shape)\n",
    "            y_hat=net(batch_x)\n",
    "            l=loss(y_hat,batch_y)\n",
    "            optim.zero_grad()\n",
    "            l.backward()\n",
    "            optim.step()\n",
    "            train_acc.append(np.sum(np.argmax(y_hat.detach().numpy(),axis=1)==batch_y.detach().numpy()))\n",
    "            train_loss.append(l.item())\n",
    "#             print(\"finish {} batch in {} epoch\".format(i,epoch))\n",
    "            len_train+=batch_x.shape[0]\n",
    "\n",
    "        train_loss=np.sum(train_loss)/len_train\n",
    "        train_acc=np.sum(train_acc)/len_train\n",
    "        history_loss[\"train\"].append(train_loss)\n",
    "        history_acc[\"train\"].append(train_acc)\n",
    "        if valid_iter is not None:\n",
    "            #eval\n",
    "            net.eval()\n",
    "            len_val=0\n",
    "            with torch.no_grad():\n",
    "                for batch_x,batch_y in valid_iter:\n",
    "                    y_hat=net(batch_x)\n",
    "                    l=loss(y_hat,batch_y)\n",
    "                    val_acc.append(np.sum(np.argmax(y_hat.numpy(),axis=1)==batch_y.numpy()))\n",
    "                    val_loss.append(l.item())\n",
    "                    len_val+=batch_x.shape[0]\n",
    "\n",
    "            val_loss=np.sum(val_loss)/len_val\n",
    "            val_acc=np.sum(val_acc)/len_val\n",
    "            history_loss[\"val\"].append(val_loss)\n",
    "            history_acc[\"val\"].append(val_acc)\n",
    "            print('[%03d/%03d] %2.2f sec(s) Train Acc: %3.6f Loss: %3.6f | Val Acc: %3.6f loss: %3.6f' % \\\n",
    "                    (epoch + 1, epoches, time.time()-epoch_start_time, \\\n",
    "                     train_acc, train_loss, val_acc, val_loss))          \n",
    "        else:\n",
    "            print('[%03d/%03d] %2.2f sec(s) Train Acc: %3.6f Loss: %3.6f' % \\\n",
    "                    (epoch + 1, epoches, time.time()-epoch_start_time, \\\n",
    "                     train_acc, train_loss))\n",
    "        if name==None:\n",
    "            PATH =r'D:\\CS\\NTU\\BS6207\\Assign\\BS6207-assignment4\\Model\\model_epoch_{}'.format(epoch)\n",
    "        else:\n",
    "            PATH =r'D:\\CS\\NTU\\BS6207\\Assign\\BS6207-assignment4\\Model\\{}_epoch_{}'.format(name,epoch)\n",
    "            \n",
    "        #self-implement early stop\n",
    "        if early_stop==True:\n",
    "            if val_acc > best_acc:\n",
    "                best_acc = val_acc\n",
    "                es = 0\n",
    "                torch.save(net.state_dict(), PATH)\n",
    "                print('Model saved at {}'.format(PATH))\n",
    "            else:\n",
    "                es += 1\n",
    "                print(\"Counter {} of 10\".format(es))\n",
    "            if es > 9:\n",
    "                print(\"Early stopping with best_acc: \", best_acc, \"and val_acc for this epoch: \", val_acc, \"...\")\n",
    "                break\n",
    "        else:\n",
    "            if epoch%2==0:\n",
    "                torch.save(net.state_dict(), PATH)\n",
    "                print('Model saved at {}'.format(PATH))\n",
    "            \n",
    "    return history_loss,history_acc"
   ]
  },
  {
   "cell_type": "code",
   "execution_count": 363,
   "metadata": {},
   "outputs": [],
   "source": [
    "def test(net,test_iter):\n",
    "    \n",
    "    for epoch in range(1):\n",
    "        print(\"processing the {} epoch\".format(epoch))\n",
    "        epoch_start_time = time.time()\n",
    "        #eval\n",
    "        net.eval()\n",
    "        test_acc=[]\n",
    "        test_loss=[]\n",
    "        len_test=0\n",
    "        with torch.no_grad():\n",
    "            for batch_x,batch_y in test_iter:\n",
    "                y_hat=net(batch_x)\n",
    "                l=loss(y_hat,batch_y)\n",
    "                test_acc.append(np.sum(np.argmax(y_hat.numpy(),axis=1)==batch_y.numpy()))\n",
    "                test_loss.append(l.item())\n",
    "                len_test+=batch_x.shape[0]\n",
    "            \n",
    "        test_loss=np.sum(test_loss)/len_test\n",
    "        test_acc=np.sum(test_acc)/len_test\n",
    "        print('[%03d/%03d] %2.2f sec(s) Test Acc: %3.6f Loss: %3.6f' % \\\n",
    "                (epoch + 1, 1, time.time()-epoch_start_time, \\\n",
    "                 test_acc, test_loss))\n",
    "        return test_loss,test_acc"
   ]
  },
  {
   "cell_type": "code",
   "execution_count": null,
   "metadata": {},
   "outputs": [],
   "source": []
  },
  {
   "cell_type": "code",
   "execution_count": null,
   "metadata": {},
   "outputs": [],
   "source": []
  },
  {
   "cell_type": "code",
   "execution_count": 128,
   "metadata": {},
   "outputs": [],
   "source": [
    "model_normal=CNNModel_pool_normal()\n",
    "optim=torch.optim.Adam(model_normal.parameters(),lr=lr)\n",
    "loss=nn.CrossEntropyLoss()"
   ]
  },
  {
   "cell_type": "code",
   "execution_count": 129,
   "metadata": {},
   "outputs": [
    {
     "name": "stdout",
     "output_type": "stream",
     "text": [
      "processing the 0 epoch\n",
      "[001/030] 70.00 sec(s) Train Acc: 0.620478 Loss: 0.015586 | Val Acc: 0.736196 loss: 0.005363\n",
      "Model saved at D:\\CS\\NTU\\BS6207\\Assign\\BS6207-assignment4\\Model\\model_normal_epoch_0\n",
      "processing the 1 epoch\n",
      "[002/030] 69.56 sec(s) Train Acc: 0.714833 Loss: 0.005569 | Val Acc: 0.793712 loss: 0.004313\n",
      "processing the 2 epoch\n",
      "[003/030] 68.66 sec(s) Train Acc: 0.772249 Loss: 0.004516 | Val Acc: 0.799847 loss: 0.004504\n",
      "Model saved at D:\\CS\\NTU\\BS6207\\Assign\\BS6207-assignment4\\Model\\model_normal_epoch_2\n",
      "processing the 3 epoch\n",
      "[004/030] 69.65 sec(s) Train Acc: 0.804211 Loss: 0.004003 | Val Acc: 0.865798 loss: 0.003088\n",
      "processing the 4 epoch\n",
      "[005/030] 70.72 sec(s) Train Acc: 0.829856 Loss: 0.003514 | Val Acc: 0.865798 loss: 0.003472\n",
      "Model saved at D:\\CS\\NTU\\BS6207\\Assign\\BS6207-assignment4\\Model\\model_normal_epoch_4\n",
      "processing the 5 epoch\n",
      "[006/030] 71.67 sec(s) Train Acc: 0.854354 Loss: 0.003159 | Val Acc: 0.773773 loss: 0.006310\n",
      "processing the 6 epoch\n",
      "[007/030] 69.80 sec(s) Train Acc: 0.873493 Loss: 0.002770 | Val Acc: 0.859663 loss: 0.003276\n",
      "Model saved at D:\\CS\\NTU\\BS6207\\Assign\\BS6207-assignment4\\Model\\model_normal_epoch_6\n",
      "processing the 7 epoch\n",
      "[008/030] 68.54 sec(s) Train Acc: 0.863923 Loss: 0.002880 | Val Acc: 0.879601 loss: 0.003297\n",
      "processing the 8 epoch\n",
      "[009/030] 70.15 sec(s) Train Acc: 0.869474 Loss: 0.002966 | Val Acc: 0.909509 loss: 0.002183\n",
      "Model saved at D:\\CS\\NTU\\BS6207\\Assign\\BS6207-assignment4\\Model\\model_normal_epoch_8\n",
      "processing the 9 epoch\n",
      "[010/030] 70.59 sec(s) Train Acc: 0.892249 Loss: 0.002398 | Val Acc: 0.937117 loss: 0.001481\n",
      "processing the 10 epoch\n",
      "[011/030] 69.18 sec(s) Train Acc: 0.891100 Loss: 0.002401 | Val Acc: 0.851994 loss: 0.003248\n",
      "Model saved at D:\\CS\\NTU\\BS6207\\Assign\\BS6207-assignment4\\Model\\model_normal_epoch_10\n",
      "processing the 11 epoch\n",
      "[012/030] 69.37 sec(s) Train Acc: 0.901627 Loss: 0.002194 | Val Acc: 0.854294 loss: 0.003443\n",
      "processing the 12 epoch\n",
      "[013/030] 69.56 sec(s) Train Acc: 0.906411 Loss: 0.002039 | Val Acc: 0.929448 loss: 0.001615\n",
      "Model saved at D:\\CS\\NTU\\BS6207\\Assign\\BS6207-assignment4\\Model\\model_normal_epoch_12\n",
      "processing the 13 epoch\n",
      "[014/030] 68.63 sec(s) Train Acc: 0.918469 Loss: 0.001788 | Val Acc: 0.919479 loss: 0.001858\n",
      "processing the 14 epoch\n",
      "[015/030] 68.06 sec(s) Train Acc: 0.917703 Loss: 0.001853 | Val Acc: 0.879601 loss: 0.003087\n",
      "Model saved at D:\\CS\\NTU\\BS6207\\Assign\\BS6207-assignment4\\Model\\model_normal_epoch_14\n",
      "processing the 15 epoch\n",
      "[016/030] 69.58 sec(s) Train Acc: 0.918852 Loss: 0.001801 | Val Acc: 0.932515 loss: 0.001765\n",
      "processing the 16 epoch\n",
      "[017/030] 68.04 sec(s) Train Acc: 0.914641 Loss: 0.001859 | Val Acc: 0.947853 loss: 0.001320\n",
      "Model saved at D:\\CS\\NTU\\BS6207\\Assign\\BS6207-assignment4\\Model\\model_normal_epoch_16\n",
      "processing the 17 epoch\n",
      "[018/030] 68.68 sec(s) Train Acc: 0.920383 Loss: 0.001781 | Val Acc: 0.923313 loss: 0.001867\n",
      "processing the 18 epoch\n",
      "[019/030] 70.72 sec(s) Train Acc: 0.921340 Loss: 0.001850 | Val Acc: 0.945552 loss: 0.001299\n",
      "Model saved at D:\\CS\\NTU\\BS6207\\Assign\\BS6207-assignment4\\Model\\model_normal_epoch_18\n",
      "processing the 19 epoch\n",
      "[020/030] 69.87 sec(s) Train Acc: 0.920957 Loss: 0.001832 | Val Acc: 0.912577 loss: 0.002310\n",
      "processing the 20 epoch\n",
      "[021/030] 70.25 sec(s) Train Acc: 0.921531 Loss: 0.001703 | Val Acc: 0.932515 loss: 0.001506\n",
      "Model saved at D:\\CS\\NTU\\BS6207\\Assign\\BS6207-assignment4\\Model\\model_normal_epoch_20\n",
      "processing the 21 epoch\n",
      "[022/030] 71.58 sec(s) Train Acc: 0.930526 Loss: 0.001589 | Val Acc: 0.888804 loss: 0.002518\n",
      "processing the 22 epoch\n",
      "[023/030] 70.03 sec(s) Train Acc: 0.926316 Loss: 0.001677 | Val Acc: 0.939417 loss: 0.001495\n",
      "Model saved at D:\\CS\\NTU\\BS6207\\Assign\\BS6207-assignment4\\Model\\model_normal_epoch_22\n",
      "processing the 23 epoch\n",
      "[024/030] 69.81 sec(s) Train Acc: 0.938373 Loss: 0.001366 | Val Acc: 0.941718 loss: 0.001561\n",
      "processing the 24 epoch\n",
      "[025/030] 69.67 sec(s) Train Acc: 0.937990 Loss: 0.001393 | Val Acc: 0.921779 loss: 0.002153\n",
      "Model saved at D:\\CS\\NTU\\BS6207\\Assign\\BS6207-assignment4\\Model\\model_normal_epoch_24\n",
      "processing the 25 epoch\n",
      "[026/030] 70.41 sec(s) Train Acc: 0.929952 Loss: 0.001626 | Val Acc: 0.944018 loss: 0.001304\n",
      "processing the 26 epoch\n",
      "[027/030] 69.68 sec(s) Train Acc: 0.938565 Loss: 0.001397 | Val Acc: 0.936350 loss: 0.001939\n",
      "Model saved at D:\\CS\\NTU\\BS6207\\Assign\\BS6207-assignment4\\Model\\model_normal_epoch_26\n",
      "processing the 27 epoch\n",
      "[028/030] 70.48 sec(s) Train Acc: 0.937225 Loss: 0.001429 | Val Acc: 0.857362 loss: 0.003720\n",
      "processing the 28 epoch\n",
      "[029/030] 72.43 sec(s) Train Acc: 0.938565 Loss: 0.001338 | Val Acc: 0.947853 loss: 0.001510\n",
      "Model saved at D:\\CS\\NTU\\BS6207\\Assign\\BS6207-assignment4\\Model\\model_normal_epoch_28\n",
      "processing the 29 epoch\n",
      "[030/030] 71.27 sec(s) Train Acc: 0.940478 Loss: 0.001354 | Val Acc: 0.912577 loss: 0.002079\n"
     ]
    }
   ],
   "source": [
    "his_loss,his_acc=train(model_normal,train_iter,valid_iter,optim,30,early_stop=False,name=\"model_normal\")"
   ]
  },
  {
   "cell_type": "code",
   "execution_count": 236,
   "metadata": {},
   "outputs": [],
   "source": [
    "train_acc_normal=[0.620478,0.714833,0.772249,0.804211,0.829856,0.854354,0.873493,0.863923,0.869474,0.892249,0.891100,0.901627,0.906411,0.918469,0.917703,\n",
    "0.918852 ,0.914641 ,0.920383 ,0.921340 ,0.920957 ,0.921531 ,0.930526,0.926316,0.938373  ,0.937990  ,0.929952,0.938565 ,0.937225  ,0.938565 ,0.940478 ]"
   ]
  },
  {
   "cell_type": "code",
   "execution_count": 237,
   "metadata": {},
   "outputs": [
    {
     "data": {
      "text/plain": [
       "30"
      ]
     },
     "execution_count": 237,
     "metadata": {},
     "output_type": "execute_result"
    }
   ],
   "source": [
    "len(train_acc_normal)"
   ]
  },
  {
   "cell_type": "code",
   "execution_count": 238,
   "metadata": {},
   "outputs": [],
   "source": [
    "val_acc_normal=[0.736196 ,0.793712 ,0.799847 ,0.865798 ,0.865798 ,0.773773 ,0.859663 ,0.879601 ,0.909509 ,0.937117 ,0.851994 ,0.854294 ,0.929448 ,\n",
    "        0.919479 ,0.879601 ,0.932515 ,0.947853 ,0.923313 ,0.945552 ,0.912577 ,0.932515 ,0.888804 ,0.939417 ,0.941718 ,0.921779 ,0.944018 ,\n",
    "        0.936350 ,0.857362,0.947853 ,0.912577  ]"
   ]
  },
  {
   "cell_type": "code",
   "execution_count": 235,
   "metadata": {},
   "outputs": [
    {
     "data": {
      "text/plain": [
       "30"
      ]
     },
     "execution_count": 235,
     "metadata": {},
     "output_type": "execute_result"
    }
   ],
   "source": [
    "len(val_acc_normal)"
   ]
  },
  {
   "cell_type": "code",
   "execution_count": 239,
   "metadata": {},
   "outputs": [
    {
     "data": {
      "text/plain": [
       "[<matplotlib.lines.Line2D at 0x1b306141608>]"
      ]
     },
     "execution_count": 239,
     "metadata": {},
     "output_type": "execute_result"
    },
    {
     "data": {
      "image/png": "[encoded data removed]",
      "text/plain": [
       "<Figure size 432x288 with 1 Axes>"
      ]
     },
     "metadata": {
      "needs_background": "light"
     },
     "output_type": "display_data"
    }
   ],
   "source": [
    "plt.plot(train_acc_normal)\n",
    "plt.plot(val_acc_normal)"
   ]
  },
  {
   "cell_type": "code",
   "execution_count": 158,
   "metadata": {},
   "outputs": [
    {
     "data": {
      "text/plain": [
       "<All keys matched successfully>"
      ]
     },
     "execution_count": 158,
     "metadata": {},
     "output_type": "execute_result"
    }
   ],
   "source": [
    "path=r'D:\\CS\\NTU\\BS6207\\Assign\\BS6207-assignment4\\Model\\model_normal_epoch_16'\n",
    "\n",
    "model_normal=CNNModel_pool_normal()\n",
    "model_normal.load_state_dict(torch.load(path))"
   ]
  },
  {
   "cell_type": "code",
   "execution_count": 159,
   "metadata": {},
   "outputs": [
    {
     "name": "stdout",
     "output_type": "stream",
     "text": [
      "processing the 0 epoch\n",
      "[001/001] 2.11 sec(s) Test Acc: 0.945000 Loss: 0.001620\n"
     ]
    }
   ],
   "source": [
    "test(model_normal,test_iter)"
   ]
  },
  {
   "cell_type": "markdown",
   "metadata": {},
   "source": [
    "### start to train with no dropout,no maxpooling in residual, kernelsize==2,stride==2, residual_stride==2"
   ]
  },
  {
   "cell_type": "code",
   "execution_count": 222,
   "metadata": {},
   "outputs": [],
   "source": [
    "out_dim=4\n",
    "in_channel=3\n",
    "lin_architecture=[512]\n",
    "res_architecture=[64,128,256]\n",
    "kernel_params=[2,2,2]"
   ]
  },
  {
   "cell_type": "code",
   "execution_count": 223,
   "metadata": {},
   "outputs": [],
   "source": [
    "Model_pool_residual=CNNModel_pool_residual(in_channel,out_dim,lin_architecture,res_architecture,kernel_params)\n",
    "optim=torch.optim.Adam(Model_pool_residual.parameters(),lr=lr)\n",
    "loss=nn.CrossEntropyLoss()"
   ]
  },
  {
   "cell_type": "code",
   "execution_count": 224,
   "metadata": {
    "scrolled": true
   },
   "outputs": [
    {
     "name": "stdout",
     "output_type": "stream",
     "text": [
      "processing the 0 epoch\n",
      "[001/030] 466.06 sec(s) Train Acc: 0.644211 Loss: 0.007507 | Val Acc: 0.720859 loss: 0.005653\n",
      "Model saved at D:\\CS\\NTU\\BS6207\\Assign\\BS6207-assignment4\\Model\\model_epoch_0\n",
      "processing the 1 epoch\n",
      "[002/030] 452.78 sec(s) Train Acc: 0.694163 Loss: 0.006104 | Val Acc: 0.723160 loss: 0.005584\n",
      "processing the 2 epoch\n",
      "[003/030] 462.97 sec(s) Train Acc: 0.702775 Loss: 0.005993 | Val Acc: 0.694018 loss: 0.006374\n",
      "Model saved at D:\\CS\\NTU\\BS6207\\Assign\\BS6207-assignment4\\Model\\model_epoch_2\n",
      "processing the 3 epoch\n",
      "[004/030] 465.22 sec(s) Train Acc: 0.717321 Loss: 0.005597 | Val Acc: 0.728528 loss: 0.005573\n",
      "processing the 4 epoch\n",
      "[005/030] 470.79 sec(s) Train Acc: 0.719617 Loss: 0.005633 | Val Acc: 0.752301 loss: 0.004843\n",
      "Model saved at D:\\CS\\NTU\\BS6207\\Assign\\BS6207-assignment4\\Model\\model_epoch_4\n",
      "processing the 5 epoch\n",
      "[006/030] 467.36 sec(s) Train Acc: 0.729761 Loss: 0.005315 | Val Acc: 0.790644 loss: 0.004509\n",
      "processing the 6 epoch\n",
      "[007/030] 456.31 sec(s) Train Acc: 0.725550 Loss: 0.005494 | Val Acc: 0.782975 loss: 0.004846\n",
      "Model saved at D:\\CS\\NTU\\BS6207\\Assign\\BS6207-assignment4\\Model\\model_epoch_6\n",
      "processing the 7 epoch\n",
      "[008/030] 461.16 sec(s) Train Acc: 0.735694 Loss: 0.005281 | Val Acc: 0.778374 loss: 0.004482\n",
      "processing the 8 epoch\n",
      "[009/030] 451.78 sec(s) Train Acc: 0.740287 Loss: 0.005273 | Val Acc: 0.782975 loss: 0.004521\n",
      "Model saved at D:\\CS\\NTU\\BS6207\\Assign\\BS6207-assignment4\\Model\\model_epoch_8\n",
      "processing the 9 epoch\n",
      "[010/030] 469.64 sec(s) Train Acc: 0.728038 Loss: 0.005407 | Val Acc: 0.800613 loss: 0.004305\n",
      "processing the 10 epoch\n",
      "[011/030] 573.60 sec(s) Train Acc: 0.739904 Loss: 0.005214 | Val Acc: 0.779141 loss: 0.004302\n",
      "Model saved at D:\\CS\\NTU\\BS6207\\Assign\\BS6207-assignment4\\Model\\model_epoch_10\n",
      "processing the 11 epoch\n",
      "[012/030] 568.88 sec(s) Train Acc: 0.742201 Loss: 0.005168 | Val Acc: 0.797546 loss: 0.004496\n",
      "processing the 12 epoch\n",
      "[013/030] 568.31 sec(s) Train Acc: 0.755981 Loss: 0.005020 | Val Acc: 0.815951 loss: 0.004101\n",
      "Model saved at D:\\CS\\NTU\\BS6207\\Assign\\BS6207-assignment4\\Model\\model_epoch_12\n",
      "processing the 13 epoch\n",
      "[014/030] 565.22 sec(s) Train Acc: 0.754833 Loss: 0.005084 | Val Acc: 0.805215 loss: 0.004523\n",
      "processing the 14 epoch\n",
      "[015/030] 512.40 sec(s) Train Acc: 0.758086 Loss: 0.004885 | Val Acc: 0.784509 loss: 0.004803\n",
      "Model saved at D:\\CS\\NTU\\BS6207\\Assign\\BS6207-assignment4\\Model\\model_epoch_14\n",
      "processing the 15 epoch\n",
      "[016/030] 462.14 sec(s) Train Acc: 0.755789 Loss: 0.005009 | Val Acc: 0.800613 loss: 0.004550\n",
      "processing the 16 epoch\n",
      "[017/030] 463.54 sec(s) Train Acc: 0.749665 Loss: 0.005115 | Val Acc: 0.769172 loss: 0.004747\n",
      "Model saved at D:\\CS\\NTU\\BS6207\\Assign\\BS6207-assignment4\\Model\\model_epoch_16\n",
      "processing the 17 epoch\n",
      "[018/030] 460.03 sec(s) Train Acc: 0.741053 Loss: 0.005172 | Val Acc: 0.762270 loss: 0.005420\n",
      "processing the 18 epoch\n",
      "[019/030] 456.43 sec(s) Train Acc: 0.760574 Loss: 0.004924 | Val Acc: 0.805982 loss: 0.004399\n",
      "Model saved at D:\\CS\\NTU\\BS6207\\Assign\\BS6207-assignment4\\Model\\model_epoch_18\n",
      "processing the 19 epoch\n",
      "[020/030] 465.68 sec(s) Train Acc: 0.753493 Loss: 0.005072 | Val Acc: 0.802914 loss: 0.004549\n",
      "processing the 20 epoch\n",
      "[021/030] 452.50 sec(s) Train Acc: 0.757512 Loss: 0.004868 | Val Acc: 0.800613 loss: 0.004355\n",
      "Model saved at D:\\CS\\NTU\\BS6207\\Assign\\BS6207-assignment4\\Model\\model_epoch_20\n",
      "processing the 21 epoch\n",
      "[022/030] 455.89 sec(s) Train Acc: 0.766316 Loss: 0.004791 | Val Acc: 0.791411 loss: 0.004279\n",
      "processing the 22 epoch\n",
      "[023/030] 456.01 sec(s) Train Acc: 0.759043 Loss: 0.004916 | Val Acc: 0.797546 loss: 0.004383\n",
      "Model saved at D:\\CS\\NTU\\BS6207\\Assign\\BS6207-assignment4\\Model\\model_epoch_22\n",
      "processing the 23 epoch\n",
      "[024/030] 455.98 sec(s) Train Acc: 0.764211 Loss: 0.004773 | Val Acc: 0.801380 loss: 0.004516\n",
      "processing the 24 epoch\n",
      "[025/030] 452.02 sec(s) Train Acc: 0.766890 Loss: 0.004662 | Val Acc: 0.758436 loss: 0.005145\n",
      "Model saved at D:\\CS\\NTU\\BS6207\\Assign\\BS6207-assignment4\\Model\\model_epoch_24\n",
      "processing the 25 epoch\n",
      "[026/030] 452.04 sec(s) Train Acc: 0.755407 Loss: 0.004923 | Val Acc: 0.815184 loss: 0.004175\n",
      "processing the 26 epoch\n",
      "[027/030] 454.69 sec(s) Train Acc: 0.762871 Loss: 0.004975 | Val Acc: 0.780675 loss: 0.004858\n",
      "Model saved at D:\\CS\\NTU\\BS6207\\Assign\\BS6207-assignment4\\Model\\model_epoch_26\n",
      "processing the 27 epoch\n",
      "[028/030] 464.77 sec(s) Train Acc: 0.760191 Loss: 0.004816 | Val Acc: 0.800613 loss: 0.004283\n",
      "processing the 28 epoch\n",
      "[029/030] 449.17 sec(s) Train Acc: 0.764211 Loss: 0.004842 | Val Acc: 0.746933 loss: 0.004906\n",
      "Model saved at D:\\CS\\NTU\\BS6207\\Assign\\BS6207-assignment4\\Model\\model_epoch_28\n",
      "processing the 29 epoch\n",
      "[030/030] 452.45 sec(s) Train Acc: 0.756938 Loss: 0.005062 | Val Acc: 0.778374 loss: 0.005002\n"
     ]
    }
   ],
   "source": [
    "hist_loss,hist_acc=train(Model_pool_residual,train_iter,valid_iter,optim,30,early_stop=False)"
   ]
  },
  {
   "cell_type": "code",
   "execution_count": 229,
   "metadata": {},
   "outputs": [
    {
     "data": {
      "text/plain": [
       "[<matplotlib.lines.Line2D at 0x1b306020f08>]"
      ]
     },
     "execution_count": 229,
     "metadata": {},
     "output_type": "execute_result"
    },
    {
     "data": {
      "image/png": "[encoded data removed]",
      "text/plain": [
       "<Figure size 432x288 with 1 Axes>"
      ]
     },
     "metadata": {
      "needs_background": "light"
     },
     "output_type": "display_data"
    }
   ],
   "source": [
    "plt.plot(hist_loss[\"train\"])\n",
    "plt.plot(hist_loss[\"val\"])"
   ]
  },
  {
   "cell_type": "code",
   "execution_count": 437,
   "metadata": {},
   "outputs": [
    {
     "data": {
      "text/plain": [
       "Text(0, 0.5, 'epoches')"
      ]
     },
     "execution_count": 437,
     "metadata": {},
     "output_type": "execute_result"
    },
    {
     "data": {
      "image/png": "[encoded data removed]",
      "text/plain": [
       "<Figure size 432x288 with 1 Axes>"
      ]
     },
     "metadata": {
      "needs_background": "light"
     },
     "output_type": "display_data"
    }
   ],
   "source": [
    "plt.plot(train_acc_normal)\n",
    "plt.plot(val_acc_normal)\n",
    "plt.plot(hist_acc[\"train\"])\n",
    "plt.plot(hist_acc[\"val\"])\n",
    "plt.legend([\"norm_train\",\"norm_val\",\"res_train\",\"res_val\"])\n",
    "plt.ylabel(\"accuracy\")\n",
    "plt.ylabel(\"epoches\")"
   ]
  },
  {
   "cell_type": "markdown",
   "metadata": {},
   "source": [
    "### fine tune the learning rate\n"
   ]
  },
  {
   "cell_type": "code",
   "execution_count": 253,
   "metadata": {},
   "outputs": [
    {
     "name": "stdout",
     "output_type": "stream",
     "text": [
      "processing the 0 epoch\n",
      "[001/030] 69.94 sec(s) Train Acc: 0.515024 Loss: 0.336066 | Val Acc: 0.681748 loss: 0.008050\n",
      "processing the 1 epoch\n",
      "[002/030] 67.41 sec(s) Train Acc: 0.660478 Loss: 0.007553 | Val Acc: 0.703988 loss: 0.007267\n",
      "processing the 2 epoch\n",
      "[003/030] 68.83 sec(s) Train Acc: 0.669091 Loss: 0.007112 | Val Acc: 0.695552 loss: 0.006876\n",
      "Counter 1 of 10\n",
      "processing the 3 epoch\n",
      "[004/030] 69.18 sec(s) Train Acc: 0.681531 Loss: 0.006772 | Val Acc: 0.717791 loss: 0.006427\n",
      "processing the 4 epoch\n",
      "[005/030] 67.57 sec(s) Train Acc: 0.694354 Loss: 0.006549 | Val Acc: 0.736963 loss: 0.006212\n",
      "processing the 5 epoch\n",
      "[006/030] 68.34 sec(s) Train Acc: 0.698947 Loss: 0.006263 | Val Acc: 0.730061 loss: 0.006085\n",
      "Counter 1 of 10\n",
      "processing the 6 epoch\n",
      "[007/030] 66.71 sec(s) Train Acc: 0.705263 Loss: 0.006128 | Val Acc: 0.733896 loss: 0.006088\n",
      "Counter 2 of 10\n",
      "processing the 7 epoch\n",
      "[008/030] 70.35 sec(s) Train Acc: 0.710622 Loss: 0.005951 | Val Acc: 0.746933 loss: 0.005670\n",
      "processing the 8 epoch\n",
      "[009/030] 67.22 sec(s) Train Acc: 0.708900 Loss: 0.005902 | Val Acc: 0.709356 loss: 0.006346\n",
      "Counter 1 of 10\n",
      "processing the 9 epoch\n",
      "[010/030] 68.49 sec(s) Train Acc: 0.706603 Loss: 0.005991 | Val Acc: 0.703988 loss: 0.006258\n",
      "Counter 2 of 10\n",
      "processing the 10 epoch\n",
      "[011/030] 69.51 sec(s) Train Acc: 0.708708 Loss: 0.005910 | Val Acc: 0.740798 loss: 0.005619\n",
      "Counter 3 of 10\n",
      "processing the 11 epoch\n",
      "[012/030] 67.43 sec(s) Train Acc: 0.714450 Loss: 0.005720 | Val Acc: 0.733896 loss: 0.005701\n",
      "Counter 4 of 10\n",
      "processing the 12 epoch\n",
      "[013/030] 67.25 sec(s) Train Acc: 0.715215 Loss: 0.005644 | Val Acc: 0.720859 loss: 0.005502\n",
      "Counter 5 of 10\n",
      "processing the 13 epoch\n",
      "[014/030] 69.30 sec(s) Train Acc: 0.711005 Loss: 0.005722 | Val Acc: 0.733896 loss: 0.005486\n",
      "Counter 6 of 10\n",
      "processing the 14 epoch\n",
      "[015/030] 66.66 sec(s) Train Acc: 0.709856 Loss: 0.005637 | Val Acc: 0.730061 loss: 0.005385\n",
      "Counter 7 of 10\n",
      "processing the 15 epoch\n",
      "[016/030] 67.31 sec(s) Train Acc: 0.718278 Loss: 0.005618 | Val Acc: 0.653374 loss: 0.007792\n",
      "Counter 8 of 10\n",
      "processing the 16 epoch\n",
      "[017/030] 71.19 sec(s) Train Acc: 0.717895 Loss: 0.005635 | Val Acc: 0.728528 loss: 0.005127\n",
      "Counter 9 of 10\n",
      "processing the 17 epoch\n",
      "[018/030] 69.52 sec(s) Train Acc: 0.728995 Loss: 0.005333 | Val Acc: 0.738497 loss: 0.005431\n",
      "Counter 10 of 10\n",
      "Early stopping with best_acc:  0.7469325153374233 and val_acc for this epoch:  0.7384969325153374 ...\n",
      "Finish the learning rate 0.1\n",
      "__________\n",
      "processing the 0 epoch\n",
      "[001/030] 71.19 sec(s) Train Acc: 0.686699 Loss: 0.006128 | Val Acc: 0.801380 loss: 0.004706\n",
      "processing the 1 epoch\n",
      "[002/030] 70.49 sec(s) Train Acc: 0.803254 Loss: 0.004071 | Val Acc: 0.772239 loss: 0.004409\n",
      "Counter 1 of 10\n",
      "processing the 2 epoch\n",
      "[003/030] 68.87 sec(s) Train Acc: 0.836746 Loss: 0.003352 | Val Acc: 0.891871 loss: 0.002821\n",
      "processing the 3 epoch\n",
      "[004/030] 69.34 sec(s) Train Acc: 0.860861 Loss: 0.002916 | Val Acc: 0.871166 loss: 0.003396\n",
      "Counter 1 of 10\n",
      "processing the 4 epoch\n",
      "[005/030] 68.50 sec(s) Train Acc: 0.892440 Loss: 0.002344 | Val Acc: 0.846626 loss: 0.004468\n",
      "Counter 2 of 10\n",
      "processing the 5 epoch\n",
      "[006/030] 69.99 sec(s) Train Acc: 0.898373 Loss: 0.002223 | Val Acc: 0.934049 loss: 0.001467\n",
      "processing the 6 epoch\n",
      "[007/030] 71.05 sec(s) Train Acc: 0.897033 Loss: 0.002196 | Val Acc: 0.924847 loss: 0.001685\n",
      "Counter 1 of 10\n",
      "processing the 7 epoch\n",
      "[008/030] 72.35 sec(s) Train Acc: 0.905263 Loss: 0.002161 | Val Acc: 0.868865 loss: 0.002935\n",
      "Counter 2 of 10\n",
      "processing the 8 epoch\n",
      "[009/030] 71.97 sec(s) Train Acc: 0.916172 Loss: 0.001866 | Val Acc: 0.919479 loss: 0.001754\n",
      "Counter 3 of 10\n",
      "processing the 9 epoch\n",
      "[010/030] 70.74 sec(s) Train Acc: 0.919617 Loss: 0.001742 | Val Acc: 0.913344 loss: 0.002018\n",
      "Counter 4 of 10\n",
      "processing the 10 epoch\n",
      "[011/030] 72.50 sec(s) Train Acc: 0.923636 Loss: 0.001611 | Val Acc: 0.942485 loss: 0.001262\n",
      "processing the 11 epoch\n",
      "[012/030] 69.42 sec(s) Train Acc: 0.937990 Loss: 0.001425 | Val Acc: 0.901074 loss: 0.002431\n",
      "Counter 1 of 10\n",
      "processing the 12 epoch\n",
      "[013/030] 70.64 sec(s) Train Acc: 0.920766 Loss: 0.001693 | Val Acc: 0.930982 loss: 0.001694\n",
      "Counter 2 of 10\n",
      "processing the 13 epoch\n",
      "[014/030] 72.19 sec(s) Train Acc: 0.932823 Loss: 0.001428 | Val Acc: 0.927147 loss: 0.001958\n",
      "Counter 3 of 10\n",
      "processing the 14 epoch\n",
      "[015/030] 71.61 sec(s) Train Acc: 0.932057 Loss: 0.001417 | Val Acc: 0.935583 loss: 0.001563\n",
      "Counter 4 of 10\n",
      "processing the 15 epoch\n",
      "[016/030] 72.12 sec(s) Train Acc: 0.934737 Loss: 0.001410 | Val Acc: 0.878834 loss: 0.003415\n",
      "Counter 5 of 10\n",
      "processing the 16 epoch\n",
      "[017/030] 71.02 sec(s) Train Acc: 0.931100 Loss: 0.001584 | Val Acc: 0.890337 loss: 0.002684\n",
      "Counter 6 of 10\n",
      "processing the 17 epoch\n",
      "[018/030] 70.66 sec(s) Train Acc: 0.939522 Loss: 0.001331 | Val Acc: 0.938650 loss: 0.001710\n",
      "Counter 7 of 10\n",
      "processing the 18 epoch\n",
      "[019/030] 71.57 sec(s) Train Acc: 0.942967 Loss: 0.001193 | Val Acc: 0.925613 loss: 0.001876\n",
      "Counter 8 of 10\n",
      "processing the 19 epoch\n",
      "[020/030] 71.31 sec(s) Train Acc: 0.938565 Loss: 0.001348 | Val Acc: 0.949387 loss: 0.001253\n",
      "processing the 20 epoch\n",
      "[021/030] 71.17 sec(s) Train Acc: 0.943923 Loss: 0.001251 | Val Acc: 0.898006 loss: 0.002384\n",
      "Counter 1 of 10\n",
      "processing the 21 epoch\n",
      "[022/030] 70.92 sec(s) Train Acc: 0.929952 Loss: 0.001519 | Val Acc: 0.744632 loss: 0.007127\n",
      "Counter 2 of 10\n",
      "processing the 22 epoch\n",
      "[023/030] 71.69 sec(s) Train Acc: 0.942775 Loss: 0.001190 | Val Acc: 0.959356 loss: 0.001051\n",
      "processing the 23 epoch\n",
      "[024/030] 71.20 sec(s) Train Acc: 0.951005 Loss: 0.001094 | Val Acc: 0.953221 loss: 0.001421\n",
      "Counter 1 of 10\n",
      "processing the 24 epoch\n",
      "[025/030] 71.54 sec(s) Train Acc: 0.941053 Loss: 0.001221 | Val Acc: 0.940184 loss: 0.001591\n",
      "Counter 2 of 10\n",
      "processing the 25 epoch\n",
      "[026/030] 71.17 sec(s) Train Acc: 0.940861 Loss: 0.001278 | Val Acc: 0.938650 loss: 0.001516\n",
      "Counter 3 of 10\n",
      "processing the 26 epoch\n",
      "[027/030] 75.28 sec(s) Train Acc: 0.948708 Loss: 0.001168 | Val Acc: 0.902607 loss: 0.002594\n",
      "Counter 4 of 10\n",
      "processing the 27 epoch\n",
      "[028/030] 75.75 sec(s) Train Acc: 0.948325 Loss: 0.001151 | Val Acc: 0.953221 loss: 0.001399\n",
      "Counter 5 of 10\n",
      "processing the 28 epoch\n",
      "[029/030] 69.99 sec(s) Train Acc: 0.954833 Loss: 0.000999 | Val Acc: 0.881902 loss: 0.003365\n",
      "Counter 6 of 10\n",
      "processing the 29 epoch\n",
      "[030/030] 70.93 sec(s) Train Acc: 0.950239 Loss: 0.001086 | Val Acc: 0.944018 loss: 0.001858\n",
      "Counter 7 of 10\n",
      "Finish the learning rate 0.001\n",
      "__________\n",
      "processing the 0 epoch\n",
      "[001/030] 68.53 sec(s) Train Acc: 0.669856 Loss: 0.006399 | Val Acc: 0.801380 loss: 0.004565\n",
      "processing the 1 epoch\n",
      "[002/030] 68.24 sec(s) Train Acc: 0.772632 Loss: 0.004760 | Val Acc: 0.809816 loss: 0.003905\n",
      "processing the 2 epoch\n",
      "[003/030] 68.29 sec(s) Train Acc: 0.807656 Loss: 0.004113 | Val Acc: 0.762270 loss: 0.004523\n",
      "Counter 1 of 10\n",
      "processing the 3 epoch\n",
      "[004/030] 68.70 sec(s) Train Acc: 0.832727 Loss: 0.003596 | Val Acc: 0.819785 loss: 0.003528\n",
      "processing the 4 epoch\n",
      "[005/030] 68.38 sec(s) Train Acc: 0.848804 Loss: 0.003213 | Val Acc: 0.856595 loss: 0.003516\n",
      "processing the 5 epoch\n",
      "[006/030] 68.39 sec(s) Train Acc: 0.874641 Loss: 0.002762 | Val Acc: 0.822086 loss: 0.003663\n",
      "Counter 1 of 10\n",
      "processing the 6 epoch\n",
      "[007/030] 68.22 sec(s) Train Acc: 0.876746 Loss: 0.002697 | Val Acc: 0.886503 loss: 0.002724\n",
      "processing the 7 epoch\n",
      "[008/030] 68.57 sec(s) Train Acc: 0.885167 Loss: 0.002503 | Val Acc: 0.914110 loss: 0.002019\n",
      "processing the 8 epoch\n",
      "[009/030] 68.30 sec(s) Train Acc: 0.898565 Loss: 0.002192 | Val Acc: 0.924847 loss: 0.002010\n",
      "processing the 9 epoch\n",
      "[010/030] 69.18 sec(s) Train Acc: 0.897033 Loss: 0.002297 | Val Acc: 0.916411 loss: 0.001974\n",
      "Counter 1 of 10\n",
      "processing the 10 epoch\n",
      "[011/030] 69.42 sec(s) Train Acc: 0.902967 Loss: 0.002079 | Val Acc: 0.915644 loss: 0.002246\n",
      "Counter 2 of 10\n",
      "processing the 11 epoch\n",
      "[012/030] 70.32 sec(s) Train Acc: 0.907943 Loss: 0.002053 | Val Acc: 0.902607 loss: 0.002158\n",
      "Counter 3 of 10\n",
      "processing the 12 epoch\n",
      "[013/030] 70.32 sec(s) Train Acc: 0.915789 Loss: 0.001954 | Val Acc: 0.792178 loss: 0.005380\n",
      "Counter 4 of 10\n",
      "processing the 13 epoch\n",
      "[014/030] 71.21 sec(s) Train Acc: 0.915598 Loss: 0.001842 | Val Acc: 0.915644 loss: 0.002158\n",
      "Counter 5 of 10\n",
      "processing the 14 epoch\n",
      "[015/030] 68.50 sec(s) Train Acc: 0.917512 Loss: 0.001796 | Val Acc: 0.914877 loss: 0.002093\n",
      "Counter 6 of 10\n",
      "processing the 15 epoch\n"
     ]
    },
    {
     "name": "stdout",
     "output_type": "stream",
     "text": [
      "[016/030] 67.82 sec(s) Train Acc: 0.913684 Loss: 0.001806 | Val Acc: 0.940184 loss: 0.001430\n",
      "processing the 16 epoch\n",
      "[017/030] 67.94 sec(s) Train Acc: 0.922871 Loss: 0.001731 | Val Acc: 0.907209 loss: 0.002160\n",
      "Counter 1 of 10\n",
      "processing the 17 epoch\n",
      "[018/030] 68.91 sec(s) Train Acc: 0.923636 Loss: 0.001702 | Val Acc: 0.941718 loss: 0.001613\n",
      "processing the 18 epoch\n",
      "[019/030] 70.74 sec(s) Train Acc: 0.928804 Loss: 0.001577 | Val Acc: 0.911810 loss: 0.001855\n",
      "Counter 1 of 10\n",
      "processing the 19 epoch\n",
      "[020/030] 68.71 sec(s) Train Acc: 0.926316 Loss: 0.001541 | Val Acc: 0.927914 loss: 0.001836\n",
      "Counter 2 of 10\n",
      "processing the 20 epoch\n",
      "[021/030] 68.44 sec(s) Train Acc: 0.930909 Loss: 0.001493 | Val Acc: 0.941718 loss: 0.001500\n",
      "Counter 3 of 10\n",
      "processing the 21 epoch\n",
      "[022/030] 68.25 sec(s) Train Acc: 0.923254 Loss: 0.001699 | Val Acc: 0.913344 loss: 0.002329\n",
      "Counter 4 of 10\n",
      "processing the 22 epoch\n",
      "[023/030] 68.23 sec(s) Train Acc: 0.932057 Loss: 0.001557 | Val Acc: 0.895706 loss: 0.002166\n",
      "Counter 5 of 10\n",
      "processing the 23 epoch\n",
      "[024/030] 69.15 sec(s) Train Acc: 0.926699 Loss: 0.001564 | Val Acc: 0.898773 loss: 0.002256\n",
      "Counter 6 of 10\n",
      "processing the 24 epoch\n",
      "[025/030] 69.26 sec(s) Train Acc: 0.935885 Loss: 0.001376 | Val Acc: 0.940951 loss: 0.001341\n",
      "Counter 7 of 10\n",
      "processing the 25 epoch\n",
      "[026/030] 70.99 sec(s) Train Acc: 0.934545 Loss: 0.001426 | Val Acc: 0.914877 loss: 0.002033\n",
      "Counter 8 of 10\n",
      "processing the 26 epoch\n",
      "[027/030] 69.74 sec(s) Train Acc: 0.933971 Loss: 0.001385 | Val Acc: 0.905675 loss: 0.002278\n",
      "Counter 9 of 10\n",
      "processing the 27 epoch\n",
      "[028/030] 68.46 sec(s) Train Acc: 0.933206 Loss: 0.001467 | Val Acc: 0.934816 loss: 0.001626\n",
      "Counter 10 of 10\n",
      "Early stopping with best_acc:  0.941717791411043 and val_acc for this epoch:  0.9348159509202454 ...\n",
      "Finish the learning rate 0.0001\n",
      "__________\n"
     ]
    }
   ],
   "source": [
    "lr=[0.1,0.001,0.0001]\n",
    "history=[]\n",
    "for i in lr:\n",
    "    loss=nn.CrossEntropyLoss()\n",
    "    model_normal=CNNModel_pool_normal()\n",
    "    optim=torch.optim.Adam(model_normal.parameters(),lr=i)\n",
    "    his_loss,his_acc=train(model_normal,train_iter,valid_iter,optim,30,early_stop=True,name=\"model_normal_learningrate_{}\".format(i))\n",
    "    history.append((his_loss,his_acc,model_normal,optim))\n",
    "    print(\"Finish the learning rate {}\".format(i))\n",
    "    print(\"_\"*10)"
   ]
  },
  {
   "cell_type": "code",
   "execution_count": 438,
   "metadata": {},
   "outputs": [
    {
     "data": {
      "text/plain": [
       "Text(0.5, 1.0, 'valid')"
      ]
     },
     "execution_count": 438,
     "metadata": {},
     "output_type": "execute_result"
    },
    {
     "data": {
      "image/png": "[encoded data removed]",
      "text/plain": [
       "<Figure size 432x288 with 1 Axes>"
      ]
     },
     "metadata": {
      "needs_background": "light"
     },
     "output_type": "display_data"
    }
   ],
   "source": [
    "plt.plot(history[0][1][\"val\"])\n",
    "plt.plot(val_acc_normal)\n",
    "plt.plot(history[1][1][\"val\"])\n",
    "plt.plot(history[2][1][\"val\"])\n",
    "plt.legend([0.1,0.01,0.001,0.0001])\n",
    "plt.title(\"valid\")"
   ]
  },
  {
   "cell_type": "code",
   "execution_count": 439,
   "metadata": {},
   "outputs": [
    {
     "data": {
      "text/plain": [
       "Text(0.5, 1.0, 'train')"
      ]
     },
     "execution_count": 439,
     "metadata": {},
     "output_type": "execute_result"
    },
    {
     "data": {
      "image/png": "[encoded data removed]",
      "text/plain": [
       "<Figure size 432x288 with 1 Axes>"
      ]
     },
     "metadata": {
      "needs_background": "light"
     },
     "output_type": "display_data"
    }
   ],
   "source": [
    "plt.plot(history[0][1][\"train\"])\n",
    "plt.plot(train_acc_normal)\n",
    "plt.plot(history[1][1][\"train\"])\n",
    "plt.plot(history[2][1][\"train\"])\n",
    "plt.legend([0.1,0.01,0.001,0.0001])\n",
    "plt.title(\"train\")"
   ]
  },
  {
   "cell_type": "code",
   "execution_count": 273,
   "metadata": {},
   "outputs": [],
   "source": [
    "PATH =r'D:\\CS\\NTU\\BS6207\\Assign\\BS6207-assignment4\\Model\\{}_lr_{}.txt'.format(\"model_normal\",str(0.001))\n",
    "torch.save(history[1][2].state_dict(),PATH)"
   ]
  },
  {
   "cell_type": "code",
   "execution_count": 286,
   "metadata": {},
   "outputs": [
    {
     "name": "stdout",
     "output_type": "stream",
     "text": [
      "processing the 0 epoch\n",
      "[001/001] 2.20 sec(s) Test Acc: 0.952500 Loss: 0.001533\n"
     ]
    }
   ],
   "source": [
    "test(history[1][2],test_iter)"
   ]
  },
  {
   "cell_type": "markdown",
   "metadata": {},
   "source": [
    "### Avgpooling"
   ]
  },
  {
   "cell_type": "code",
   "execution_count": 269,
   "metadata": {},
   "outputs": [],
   "source": [
    "class CNNModel_avg_pool_normal(nn.Module):\n",
    "    def __init__(self):\n",
    "        super(CNNModel_avg_pool_normal, self).__init__()\n",
    "\n",
    "        self.cnn = nn.Sequential(\n",
    "            nn.Conv2d(3, 64, kernel_size=3, padding=1,stride=2),  # [64, 64, 64]\n",
    "            nn.BatchNorm2d(64),\n",
    "            nn.ReLU(),\n",
    "            nn.AvgPool2d(kernel_size=2,stride=2),      # [64, 32, 32]\n",
    "\n",
    "            nn.Conv2d(64, 128, kernel_size=3, padding=1,stride=2), # [128, 16, 16]\n",
    "            nn.BatchNorm2d(128),\n",
    "            nn.ReLU(),\n",
    "            nn.AvgPool2d(kernel_size=2,stride=2),      # [128, 8, 8]\n",
    "\n",
    "            nn.Conv2d(128, 256, kernel_size=3, padding=1,stride=2), # [256, 4, 4]\n",
    "            nn.BatchNorm2d(256),\n",
    "            nn.ReLU(),\n",
    "            nn.AvgPool2d(kernel_size=2,stride=2),      # [256, 2, 2]\n",
    "        )\n",
    "        self.flatten=nn.Flatten()\n",
    "        self.fc = nn.Sequential(\n",
    "            nn.Linear(1024, 512),\n",
    "            nn.ReLU(),\n",
    "            nn.Linear(512, 4)\n",
    "        )\n",
    "\n",
    "    def forward(self, x):\n",
    "        out = self.cnn(x)\n",
    "        \n",
    "        out = self.flatten(out)\n",
    "        return self.fc(out)"
   ]
  },
  {
   "cell_type": "code",
   "execution_count": 271,
   "metadata": {},
   "outputs": [
    {
     "name": "stdout",
     "output_type": "stream",
     "text": [
      "processing the 0 epoch\n",
      "[001/030] 88.65 sec(s) Train Acc: 0.738182 Loss: 0.005417 | Val Acc: 0.821319 loss: 0.003944\n",
      "processing the 1 epoch\n",
      "[002/030] 86.22 sec(s) Train Acc: 0.792344 Loss: 0.004221 | Val Acc: 0.796012 loss: 0.004264\n",
      "Counter 1 of 10\n",
      "processing the 2 epoch\n",
      "[003/030] 86.22 sec(s) Train Acc: 0.797703 Loss: 0.004102 | Val Acc: 0.845859 loss: 0.003536\n",
      "processing the 3 epoch\n",
      "[004/030] 86.86 sec(s) Train Acc: 0.812440 Loss: 0.003803 | Val Acc: 0.833589 loss: 0.003525\n",
      "Counter 1 of 10\n",
      "processing the 4 epoch\n",
      "[005/030] 88.97 sec(s) Train Acc: 0.820670 Loss: 0.003601 | Val Acc: 0.861196 loss: 0.002990\n",
      "processing the 5 epoch\n",
      "[006/030] 88.41 sec(s) Train Acc: 0.836746 Loss: 0.003352 | Val Acc: 0.845859 loss: 0.003310\n",
      "Counter 1 of 10\n",
      "processing the 6 epoch\n",
      "[007/030] 85.75 sec(s) Train Acc: 0.845933 Loss: 0.003187 | Val Acc: 0.871933 loss: 0.002794\n",
      "processing the 7 epoch\n",
      "[008/030] 86.98 sec(s) Train Acc: 0.868325 Loss: 0.002807 | Val Acc: 0.888804 loss: 0.002550\n",
      "processing the 8 epoch\n",
      "[009/030] 86.17 sec(s) Train Acc: 0.881914 Loss: 0.002478 | Val Acc: 0.901840 loss: 0.002247\n",
      "processing the 9 epoch\n",
      "[010/030] 86.69 sec(s) Train Acc: 0.886507 Loss: 0.002449 | Val Acc: 0.875767 loss: 0.002678\n",
      "Counter 1 of 10\n",
      "processing the 10 epoch\n",
      "[011/030] 81.46 sec(s) Train Acc: 0.886699 Loss: 0.002425 | Val Acc: 0.910276 loss: 0.002221\n",
      "processing the 11 epoch\n",
      "[012/030] 84.94 sec(s) Train Acc: 0.904880 Loss: 0.002117 | Val Acc: 0.875000 loss: 0.002736\n",
      "Counter 1 of 10\n",
      "processing the 12 epoch\n",
      "[013/030] 79.07 sec(s) Train Acc: 0.903349 Loss: 0.002120 | Val Acc: 0.847393 loss: 0.003701\n",
      "Counter 2 of 10\n",
      "processing the 13 epoch\n",
      "[014/030] 79.46 sec(s) Train Acc: 0.899904 Loss: 0.002096 | Val Acc: 0.897239 loss: 0.002254\n",
      "Counter 3 of 10\n",
      "processing the 14 epoch\n",
      "[015/030] 79.31 sec(s) Train Acc: 0.910622 Loss: 0.001835 | Val Acc: 0.913344 loss: 0.002261\n",
      "processing the 15 epoch\n",
      "[016/030] 79.53 sec(s) Train Acc: 0.907560 Loss: 0.002019 | Val Acc: 0.897239 loss: 0.002216\n",
      "Counter 1 of 10\n",
      "processing the 16 epoch\n",
      "[017/030] 79.07 sec(s) Train Acc: 0.918278 Loss: 0.001833 | Val Acc: 0.952454 loss: 0.001276\n",
      "processing the 17 epoch\n",
      "[018/030] 84.47 sec(s) Train Acc: 0.915981 Loss: 0.001826 | Val Acc: 0.921012 loss: 0.001668\n",
      "Counter 1 of 10\n",
      "processing the 18 epoch\n",
      "[019/030] 81.37 sec(s) Train Acc: 0.924211 Loss: 0.001595 | Val Acc: 0.859663 loss: 0.003218\n",
      "Counter 2 of 10\n",
      "processing the 19 epoch\n",
      "[020/030] 80.95 sec(s) Train Acc: 0.927081 Loss: 0.001668 | Val Acc: 0.910276 loss: 0.002062\n",
      "Counter 3 of 10\n",
      "processing the 20 epoch\n",
      "[021/030] 80.98 sec(s) Train Acc: 0.922297 Loss: 0.001652 | Val Acc: 0.917945 loss: 0.001954\n",
      "Counter 4 of 10\n",
      "processing the 21 epoch\n",
      "[022/030] 82.27 sec(s) Train Acc: 0.925359 Loss: 0.001686 | Val Acc: 0.927147 loss: 0.001770\n",
      "Counter 5 of 10\n",
      "processing the 22 epoch\n",
      "[023/030] 83.80 sec(s) Train Acc: 0.928804 Loss: 0.001544 | Val Acc: 0.896472 loss: 0.002603\n",
      "Counter 6 of 10\n",
      "processing the 23 epoch\n",
      "[024/030] 79.22 sec(s) Train Acc: 0.924019 Loss: 0.001699 | Val Acc: 0.937883 loss: 0.001560\n",
      "Counter 7 of 10\n",
      "processing the 24 epoch\n",
      "[025/030] 79.40 sec(s) Train Acc: 0.923445 Loss: 0.001649 | Val Acc: 0.941718 loss: 0.001340\n",
      "Counter 8 of 10\n",
      "processing the 25 epoch\n",
      "[026/030] 79.77 sec(s) Train Acc: 0.927656 Loss: 0.001573 | Val Acc: 0.904141 loss: 0.002019\n",
      "Counter 9 of 10\n",
      "processing the 26 epoch\n",
      "[027/030] 79.68 sec(s) Train Acc: 0.922679 Loss: 0.001649 | Val Acc: 0.951687 loss: 0.001211\n",
      "Counter 10 of 10\n",
      "Early stopping with best_acc:  0.9524539877300614 and val_acc for this epoch:  0.9516871165644172 ...\n"
     ]
    }
   ],
   "source": [
    "Model_avg_pool=CNNModel_avg_pool_normal()\n",
    "optim=torch.optim.Adam(Model_avg_pool.parameters(),lr=0.001)\n",
    "loss=nn.CrossEntropyLoss()\n",
    "hist_loss_avg,hist_acc_avg=train(Model_avg_pool,train_iter,valid_iter,optim,30,early_stop=True,name=\"model_avg_pooling\")"
   ]
  },
  {
   "cell_type": "code",
   "execution_count": 285,
   "metadata": {},
   "outputs": [
    {
     "name": "stdout",
     "output_type": "stream",
     "text": [
      "processing the 0 epoch\n",
      "[001/001] 2.09 sec(s) Test Acc: 0.947500 Loss: 0.001583\n"
     ]
    }
   ],
   "source": [
    "test(Model_avg_pool,test_iter)"
   ]
  },
  {
   "cell_type": "code",
   "execution_count": 275,
   "metadata": {},
   "outputs": [],
   "source": [
    "PATH =r'D:\\CS\\NTU\\BS6207\\Assign\\BS6207-assignment4\\Model\\{}_lr_{}.txt'.format(\"model_avg_pooling\",str(0.001))\n",
    "torch.save(Model_avg_pool.state_dict(),PATH)"
   ]
  },
  {
   "cell_type": "code",
   "execution_count": 279,
   "metadata": {},
   "outputs": [
    {
     "name": "stdout",
     "output_type": "stream",
     "text": [
      "processing the 0 epoch\n",
      "[001/001] 2.76 sec(s) Test Acc: 0.917500 Loss: 0.002450\n"
     ]
    }
   ],
   "source": [
    "PATH=r'D:\\CS\\NTU\\BS6207\\Assign\\BS6207-assignment4\\Model\\model_avg_pooling_epoch_16'\n",
    "model_best_avg=CNNModel_avg_pool_normal()\n",
    "model_best_avg.load_state_dict(torch.load(PATH))\n",
    "test(model_best_avg,test_iter)"
   ]
  },
  {
   "cell_type": "code",
   "execution_count": 442,
   "metadata": {},
   "outputs": [
    {
     "data": {
      "text/plain": [
       "Text(0.5, 1.0, 'valid')"
      ]
     },
     "execution_count": 442,
     "metadata": {},
     "output_type": "execute_result"
    },
    {
     "data": {
      "image/png": "[encoded data removed]",
      "text/plain": [
       "<Figure size 432x288 with 1 Axes>"
      ]
     },
     "metadata": {
      "needs_background": "light"
     },
     "output_type": "display_data"
    }
   ],
   "source": [
    "plt.plot(history[1][1][\"val\"])\n",
    "plt.plot(hist_acc_avg[\"val\"])\n",
    "plt.legend([\"MaxPooling\",\"AvgPooling\"])\n",
    "plt.title(\"valid\")"
   ]
  },
  {
   "cell_type": "code",
   "execution_count": 441,
   "metadata": {},
   "outputs": [
    {
     "data": {
      "text/plain": [
       "Text(0.5, 1.0, 'train')"
      ]
     },
     "execution_count": 441,
     "metadata": {},
     "output_type": "execute_result"
    },
    {
     "data": {
      "image/png": "[encoded data removed]",
      "text/plain": [
       "<Figure size 432x288 with 1 Axes>"
      ]
     },
     "metadata": {
      "needs_background": "light"
     },
     "output_type": "display_data"
    }
   ],
   "source": [
    "plt.plot(history[1][1][\"train\"])\n",
    "plt.plot(hist_acc_avg[\"train\"])\n",
    "plt.legend([\"MaxPooling\",\"AvgPooling\"])\n",
    "plt.title(\"train\")"
   ]
  },
  {
   "cell_type": "markdown",
   "metadata": {},
   "source": [
    "### dropout select"
   ]
  },
  {
   "cell_type": "code",
   "execution_count": 299,
   "metadata": {},
   "outputs": [],
   "source": [
    "class CNNModel_max(nn.Module):\n",
    "    def __init__(self,dropout=None):\n",
    "        super(CNNModel_max, self).__init__()\n",
    "\n",
    "        self.cnn = nn.Sequential(\n",
    "            nn.Conv2d(3, 64, kernel_size=3, padding=1,stride=2),  # [64, 64, 64]\n",
    "            nn.BatchNorm2d(64),\n",
    "            nn.ReLU(),\n",
    "            nn.MaxPool2d(2, 2, 0),      # [64, 32, 32]\n",
    "\n",
    "            nn.Conv2d(64, 128, kernel_size=3, padding=1,stride=2), # [128, 16, 16]\n",
    "            nn.BatchNorm2d(128),\n",
    "            nn.ReLU(),\n",
    "            nn.MaxPool2d(2, 2, 0),      # [128, 8, 8]\n",
    "\n",
    "            nn.Conv2d(128, 256, kernel_size=3, padding=1,stride=2), # [256, 4, 4]\n",
    "            nn.BatchNorm2d(256),\n",
    "            nn.ReLU(),\n",
    "            nn.MaxPool2d(2, 2, 0),      # [256, 2, 2]\n",
    "        )\n",
    "        self.flatten=nn.Flatten()\n",
    "        self.fc = nn.Sequential()\n",
    "        self.fc.add_module(\"linear1\",nn.Linear(1024,512))\n",
    "        self.fc.add_module(\"activ\",nn.ReLU())\n",
    "        if dropout!=None:\n",
    "            self.fc.add_module(\"dropout\",nn.Dropout(dropout))\n",
    "        self.fc.add_module(\"linear2\",nn.Linear(512,4))\n",
    "\n",
    "    def forward(self, x):\n",
    "        out = self.cnn(x)\n",
    "        \n",
    "        out = self.flatten(out)\n",
    "        return self.fc(out)"
   ]
  },
  {
   "cell_type": "code",
   "execution_count": 302,
   "metadata": {},
   "outputs": [
    {
     "name": "stdout",
     "output_type": "stream",
     "text": [
      "processing the 0 epoch\n",
      "[001/030] 70.08 sec(s) Train Acc: 0.696077 Loss: 0.006010 | Val Acc: 0.840491 loss: 0.004745\n",
      "Model saved at D:\\CS\\NTU\\BS6207\\Assign\\BS6207-assignment4\\Model\\model_drop_out_0.4_epoch_0\n",
      "processing the 1 epoch\n",
      "[002/030] 68.56 sec(s) Train Acc: 0.802871 Loss: 0.004159 | Val Acc: 0.777607 loss: 0.004810\n",
      "Counter 1 of 10\n",
      "processing the 2 epoch\n",
      "[003/030] 67.96 sec(s) Train Acc: 0.823923 Loss: 0.003698 | Val Acc: 0.841258 loss: 0.003997\n",
      "Model saved at D:\\CS\\NTU\\BS6207\\Assign\\BS6207-assignment4\\Model\\model_drop_out_0.4_epoch_2\n",
      "processing the 3 epoch\n",
      "[004/030] 68.16 sec(s) Train Acc: 0.874258 Loss: 0.002803 | Val Acc: 0.925613 loss: 0.002048\n",
      "Model saved at D:\\CS\\NTU\\BS6207\\Assign\\BS6207-assignment4\\Model\\model_drop_out_0.4_epoch_3\n",
      "processing the 4 epoch\n",
      "[005/030] 70.25 sec(s) Train Acc: 0.863732 Loss: 0.002888 | Val Acc: 0.877301 loss: 0.002782\n",
      "Counter 1 of 10\n",
      "processing the 5 epoch\n",
      "[006/030] 71.62 sec(s) Train Acc: 0.895120 Loss: 0.002333 | Val Acc: 0.887270 loss: 0.003051\n",
      "Counter 2 of 10\n",
      "processing the 6 epoch\n",
      "[007/030] 72.05 sec(s) Train Acc: 0.904689 Loss: 0.002116 | Val Acc: 0.927147 loss: 0.001939\n",
      "Model saved at D:\\CS\\NTU\\BS6207\\Assign\\BS6207-assignment4\\Model\\model_drop_out_0.4_epoch_6\n",
      "processing the 7 epoch\n",
      "[008/030] 71.78 sec(s) Train Acc: 0.908134 Loss: 0.002010 | Val Acc: 0.775307 loss: 0.005063\n",
      "Counter 1 of 10\n",
      "processing the 8 epoch\n",
      "[009/030] 71.28 sec(s) Train Acc: 0.902967 Loss: 0.002192 | Val Acc: 0.875000 loss: 0.002749\n",
      "Counter 2 of 10\n",
      "processing the 9 epoch\n",
      "[010/030] 70.04 sec(s) Train Acc: 0.899522 Loss: 0.002224 | Val Acc: 0.908742 loss: 0.002490\n",
      "Counter 3 of 10\n",
      "processing the 10 epoch\n",
      "[011/030] 71.22 sec(s) Train Acc: 0.917895 Loss: 0.001845 | Val Acc: 0.930982 loss: 0.001636\n",
      "Model saved at D:\\CS\\NTU\\BS6207\\Assign\\BS6207-assignment4\\Model\\model_drop_out_0.4_epoch_10\n",
      "processing the 11 epoch\n",
      "[012/030] 71.45 sec(s) Train Acc: 0.924402 Loss: 0.001624 | Val Acc: 0.881902 loss: 0.002725\n",
      "Counter 1 of 10\n",
      "processing the 12 epoch\n",
      "[013/030] 71.80 sec(s) Train Acc: 0.927081 Loss: 0.001664 | Val Acc: 0.896472 loss: 0.002455\n",
      "Counter 2 of 10\n",
      "processing the 13 epoch\n",
      "[014/030] 71.05 sec(s) Train Acc: 0.922105 Loss: 0.001718 | Val Acc: 0.884202 loss: 0.002787\n",
      "Counter 3 of 10\n",
      "processing the 14 epoch\n",
      "[015/030] 71.09 sec(s) Train Acc: 0.926890 Loss: 0.001621 | Val Acc: 0.932515 loss: 0.001644\n",
      "Model saved at D:\\CS\\NTU\\BS6207\\Assign\\BS6207-assignment4\\Model\\model_drop_out_0.4_epoch_14\n",
      "processing the 15 epoch\n",
      "[016/030] 69.93 sec(s) Train Acc: 0.930144 Loss: 0.001583 | Val Acc: 0.941718 loss: 0.001276\n",
      "Model saved at D:\\CS\\NTU\\BS6207\\Assign\\BS6207-assignment4\\Model\\model_drop_out_0.4_epoch_15\n",
      "processing the 16 epoch\n",
      "[017/030] 70.36 sec(s) Train Acc: 0.934737 Loss: 0.001427 | Val Acc: 0.881902 loss: 0.002515\n",
      "Counter 1 of 10\n",
      "processing the 17 epoch\n",
      "[018/030] 70.73 sec(s) Train Acc: 0.914450 Loss: 0.001692 | Val Acc: 0.963190 loss: 0.000960\n",
      "Model saved at D:\\CS\\NTU\\BS6207\\Assign\\BS6207-assignment4\\Model\\model_drop_out_0.4_epoch_17\n",
      "processing the 18 epoch\n",
      "[019/030] 71.74 sec(s) Train Acc: 0.931675 Loss: 0.001499 | Val Acc: 0.923313 loss: 0.001775\n",
      "Counter 1 of 10\n",
      "processing the 19 epoch\n",
      "[020/030] 68.39 sec(s) Train Acc: 0.935694 Loss: 0.001418 | Val Acc: 0.840491 loss: 0.003498\n",
      "Counter 2 of 10\n",
      "processing the 20 epoch\n",
      "[021/030] 69.62 sec(s) Train Acc: 0.931675 Loss: 0.001446 | Val Acc: 0.813650 loss: 0.005410\n",
      "Counter 3 of 10\n",
      "processing the 21 epoch\n",
      "[022/030] 71.70 sec(s) Train Acc: 0.934928 Loss: 0.001500 | Val Acc: 0.933282 loss: 0.001757\n",
      "Counter 4 of 10\n",
      "processing the 22 epoch\n",
      "[023/030] 70.73 sec(s) Train Acc: 0.942201 Loss: 0.001332 | Val Acc: 0.909509 loss: 0.002112\n",
      "Counter 5 of 10\n",
      "processing the 23 epoch\n",
      "[024/030] 70.10 sec(s) Train Acc: 0.934354 Loss: 0.001474 | Val Acc: 0.934816 loss: 0.001429\n",
      "Counter 6 of 10\n",
      "processing the 24 epoch\n",
      "[025/030] 68.86 sec(s) Train Acc: 0.944689 Loss: 0.001259 | Val Acc: 0.957822 loss: 0.001123\n",
      "Counter 7 of 10\n",
      "processing the 25 epoch\n",
      "[026/030] 69.17 sec(s) Train Acc: 0.937608 Loss: 0.001326 | Val Acc: 0.940184 loss: 0.001662\n",
      "Counter 8 of 10\n",
      "processing the 26 epoch\n",
      "[027/030] 69.17 sec(s) Train Acc: 0.942584 Loss: 0.001328 | Val Acc: 0.944018 loss: 0.001318\n",
      "Counter 9 of 10\n",
      "processing the 27 epoch\n",
      "[028/030] 68.39 sec(s) Train Acc: 0.946603 Loss: 0.001174 | Val Acc: 0.904141 loss: 0.002649\n",
      "Counter 10 of 10\n",
      "Early stopping with best_acc:  0.9631901840490797 and val_acc for this epoch:  0.9041411042944786 ...\n",
      "Finish epoches in 0.4\n",
      "__________\n",
      "processing the 0 epoch\n",
      "[001/030] 69.25 sec(s) Train Acc: 0.715598 Loss: 0.005750 | Val Acc: 0.846626 loss: 0.003624\n",
      "Model saved at D:\\CS\\NTU\\BS6207\\Assign\\BS6207-assignment4\\Model\\model_drop_out_0.6_epoch_0\n",
      "processing the 1 epoch\n",
      "[002/030] 70.07 sec(s) Train Acc: 0.800383 Loss: 0.004093 | Val Acc: 0.741564 loss: 0.005534\n",
      "Counter 1 of 10\n",
      "processing the 2 epoch\n",
      "[003/030] 68.73 sec(s) Train Acc: 0.834067 Loss: 0.003515 | Val Acc: 0.861196 loss: 0.003566\n",
      "Model saved at D:\\CS\\NTU\\BS6207\\Assign\\BS6207-assignment4\\Model\\model_drop_out_0.6_epoch_2\n",
      "processing the 3 epoch\n",
      "[004/030] 68.79 sec(s) Train Acc: 0.855694 Loss: 0.003126 | Val Acc: 0.855828 loss: 0.003420\n",
      "Counter 1 of 10\n",
      "processing the 4 epoch\n",
      "[005/030] 68.80 sec(s) Train Acc: 0.878469 Loss: 0.002642 | Val Acc: 0.799847 loss: 0.004667\n",
      "Counter 2 of 10\n",
      "processing the 5 epoch\n",
      "[006/030] 68.52 sec(s) Train Acc: 0.889187 Loss: 0.002512 | Val Acc: 0.865798 loss: 0.003286\n",
      "Model saved at D:\\CS\\NTU\\BS6207\\Assign\\BS6207-assignment4\\Model\\model_drop_out_0.6_epoch_5\n",
      "processing the 6 epoch\n",
      "[007/030] 68.49 sec(s) Train Acc: 0.906603 Loss: 0.002166 | Val Acc: 0.801380 loss: 0.005026\n",
      "Counter 1 of 10\n",
      "processing the 7 epoch\n",
      "[008/030] 68.27 sec(s) Train Acc: 0.912727 Loss: 0.002057 | Val Acc: 0.900307 loss: 0.002419\n",
      "Model saved at D:\\CS\\NTU\\BS6207\\Assign\\BS6207-assignment4\\Model\\model_drop_out_0.6_epoch_7\n",
      "processing the 8 epoch\n",
      "[009/030] 70.46 sec(s) Train Acc: 0.909665 Loss: 0.002056 | Val Acc: 0.904908 loss: 0.002671\n",
      "Model saved at D:\\CS\\NTU\\BS6207\\Assign\\BS6207-assignment4\\Model\\model_drop_out_0.6_epoch_8\n",
      "processing the 9 epoch\n",
      "[010/030] 71.61 sec(s) Train Acc: 0.915024 Loss: 0.001911 | Val Acc: 0.934049 loss: 0.001515\n",
      "Model saved at D:\\CS\\NTU\\BS6207\\Assign\\BS6207-assignment4\\Model\\model_drop_out_0.6_epoch_9\n",
      "processing the 10 epoch\n",
      "[011/030] 69.14 sec(s) Train Acc: 0.918278 Loss: 0.001848 | Val Acc: 0.896472 loss: 0.002474\n",
      "Counter 1 of 10\n",
      "processing the 11 epoch\n",
      "[012/030] 68.69 sec(s) Train Acc: 0.919617 Loss: 0.001817 | Val Acc: 0.854294 loss: 0.003744\n",
      "Counter 2 of 10\n",
      "processing the 12 epoch\n",
      "[013/030] 71.00 sec(s) Train Acc: 0.917512 Loss: 0.001836 | Val Acc: 0.884969 loss: 0.002418\n",
      "Counter 3 of 10\n",
      "processing the 13 epoch\n",
      "[014/030] 71.04 sec(s) Train Acc: 0.918278 Loss: 0.001766 | Val Acc: 0.914877 loss: 0.002325\n",
      "Counter 4 of 10\n",
      "processing the 14 epoch\n",
      "[015/030] 69.96 sec(s) Train Acc: 0.927464 Loss: 0.001633 | Val Acc: 0.951687 loss: 0.001265\n",
      "Model saved at D:\\CS\\NTU\\BS6207\\Assign\\BS6207-assignment4\\Model\\model_drop_out_0.6_epoch_14\n",
      "processing the 15 epoch\n",
      "[016/030] 70.38 sec(s) Train Acc: 0.921914 Loss: 0.001741 | Val Acc: 0.900307 loss: 0.002238\n",
      "Counter 1 of 10\n",
      "processing the 16 epoch\n",
      "[017/030] 70.62 sec(s) Train Acc: 0.931866 Loss: 0.001616 | Val Acc: 0.854294 loss: 0.003052\n",
      "Counter 2 of 10\n",
      "processing the 17 epoch\n",
      "[018/030] 70.55 sec(s) Train Acc: 0.924019 Loss: 0.001682 | Val Acc: 0.940184 loss: 0.001532\n",
      "Counter 3 of 10\n",
      "processing the 18 epoch\n",
      "[019/030] 69.61 sec(s) Train Acc: 0.925167 Loss: 0.001588 | Val Acc: 0.860429 loss: 0.003267\n",
      "Counter 4 of 10\n",
      "processing the 19 epoch\n",
      "[020/030] 71.03 sec(s) Train Acc: 0.933014 Loss: 0.001451 | Val Acc: 0.946319 loss: 0.001208\n",
      "Counter 5 of 10\n",
      "processing the 20 epoch\n",
      "[021/030] 69.95 sec(s) Train Acc: 0.934163 Loss: 0.001402 | Val Acc: 0.946319 loss: 0.001275\n",
      "Counter 6 of 10\n",
      "processing the 21 epoch\n",
      "[022/030] 69.72 sec(s) Train Acc: 0.930335 Loss: 0.001470 | Val Acc: 0.922546 loss: 0.001855\n",
      "Counter 7 of 10\n",
      "processing the 22 epoch\n",
      "[023/030] 72.00 sec(s) Train Acc: 0.937608 Loss: 0.001434 | Val Acc: 0.937883 loss: 0.001615\n",
      "Counter 8 of 10\n",
      "processing the 23 epoch\n",
      "[024/030] 69.81 sec(s) Train Acc: 0.935694 Loss: 0.001409 | Val Acc: 0.894939 loss: 0.002338\n",
      "Counter 9 of 10\n",
      "processing the 24 epoch\n",
      "[025/030] 71.46 sec(s) Train Acc: 0.936459 Loss: 0.001367 | Val Acc: 0.934816 loss: 0.001779\n",
      "Counter 10 of 10\n",
      "Early stopping with best_acc:  0.9516871165644172 and val_acc for this epoch:  0.9348159509202454 ...\n",
      "Finish epoches in 0.6\n",
      "__________\n",
      "processing the 0 epoch\n"
     ]
    },
    {
     "name": "stdout",
     "output_type": "stream",
     "text": [
      "[001/030] 69.98 sec(s) Train Acc: 0.681148 Loss: 0.006522 | Val Acc: 0.782975 loss: 0.004632\n",
      "Model saved at D:\\CS\\NTU\\BS6207\\Assign\\BS6207-assignment4\\Model\\model_drop_out_0.8_epoch_0\n",
      "processing the 1 epoch\n",
      "[002/030] 68.51 sec(s) Train Acc: 0.770909 Loss: 0.004726 | Val Acc: 0.717025 loss: 0.006032\n",
      "Counter 1 of 10\n",
      "processing the 2 epoch\n",
      "[003/030] 68.35 sec(s) Train Acc: 0.811100 Loss: 0.004035 | Val Acc: 0.644939 loss: 0.006973\n",
      "Counter 2 of 10\n",
      "processing the 3 epoch\n",
      "[004/030] 68.27 sec(s) Train Acc: 0.835789 Loss: 0.003584 | Val Acc: 0.883436 loss: 0.002833\n",
      "Model saved at D:\\CS\\NTU\\BS6207\\Assign\\BS6207-assignment4\\Model\\model_drop_out_0.8_epoch_3\n",
      "processing the 4 epoch\n",
      "[005/030] 68.23 sec(s) Train Acc: 0.875981 Loss: 0.002933 | Val Acc: 0.882669 loss: 0.002399\n",
      "Counter 1 of 10\n",
      "processing the 5 epoch\n",
      "[006/030] 68.51 sec(s) Train Acc: 0.870813 Loss: 0.002850 | Val Acc: 0.905675 loss: 0.002180\n",
      "Model saved at D:\\CS\\NTU\\BS6207\\Assign\\BS6207-assignment4\\Model\\model_drop_out_0.8_epoch_5\n",
      "processing the 6 epoch\n",
      "[007/030] 67.89 sec(s) Train Acc: 0.894737 Loss: 0.002418 | Val Acc: 0.906442 loss: 0.002251\n",
      "Model saved at D:\\CS\\NTU\\BS6207\\Assign\\BS6207-assignment4\\Model\\model_drop_out_0.8_epoch_6\n",
      "processing the 7 epoch\n",
      "[008/030] 68.77 sec(s) Train Acc: 0.891292 Loss: 0.002562 | Val Acc: 0.925613 loss: 0.002165\n",
      "Model saved at D:\\CS\\NTU\\BS6207\\Assign\\BS6207-assignment4\\Model\\model_drop_out_0.8_epoch_7\n",
      "processing the 8 epoch\n",
      "[009/030] 69.95 sec(s) Train Acc: 0.902967 Loss: 0.002318 | Val Acc: 0.935583 loss: 0.001782\n",
      "Model saved at D:\\CS\\NTU\\BS6207\\Assign\\BS6207-assignment4\\Model\\model_drop_out_0.8_epoch_8\n",
      "processing the 9 epoch\n",
      "[010/030] 69.93 sec(s) Train Acc: 0.902392 Loss: 0.002364 | Val Acc: 0.851227 loss: 0.004484\n",
      "Counter 1 of 10\n",
      "processing the 10 epoch\n",
      "[011/030] 70.47 sec(s) Train Acc: 0.902584 Loss: 0.002273 | Val Acc: 0.848926 loss: 0.003906\n",
      "Counter 2 of 10\n",
      "processing the 11 epoch\n",
      "[012/030] 70.31 sec(s) Train Acc: 0.913684 Loss: 0.002056 | Val Acc: 0.894939 loss: 0.002489\n",
      "Counter 3 of 10\n",
      "processing the 12 epoch\n",
      "[013/030] 69.36 sec(s) Train Acc: 0.905646 Loss: 0.002269 | Val Acc: 0.904908 loss: 0.002547\n",
      "Counter 4 of 10\n",
      "processing the 13 epoch\n",
      "[014/030] 68.92 sec(s) Train Acc: 0.916938 Loss: 0.002048 | Val Acc: 0.899540 loss: 0.002421\n",
      "Counter 5 of 10\n",
      "processing the 14 epoch\n",
      "[015/030] 69.17 sec(s) Train Acc: 0.913301 Loss: 0.001951 | Val Acc: 0.896472 loss: 0.002935\n",
      "Counter 6 of 10\n",
      "processing the 15 epoch\n",
      "[016/030] 68.06 sec(s) Train Acc: 0.920383 Loss: 0.001875 | Val Acc: 0.832822 loss: 0.005374\n",
      "Counter 7 of 10\n",
      "processing the 16 epoch\n",
      "[017/030] 68.61 sec(s) Train Acc: 0.916364 Loss: 0.001849 | Val Acc: 0.928681 loss: 0.001623\n",
      "Counter 8 of 10\n",
      "processing the 17 epoch\n",
      "[018/030] 69.20 sec(s) Train Acc: 0.923062 Loss: 0.001766 | Val Acc: 0.936350 loss: 0.001756\n",
      "Model saved at D:\\CS\\NTU\\BS6207\\Assign\\BS6207-assignment4\\Model\\model_drop_out_0.8_epoch_17\n",
      "processing the 18 epoch\n",
      "[019/030] 68.15 sec(s) Train Acc: 0.920574 Loss: 0.001805 | Val Acc: 0.878067 loss: 0.003116\n",
      "Counter 1 of 10\n",
      "processing the 19 epoch\n",
      "[020/030] 69.01 sec(s) Train Acc: 0.914833 Loss: 0.001917 | Val Acc: 0.950920 loss: 0.001313\n",
      "Model saved at D:\\CS\\NTU\\BS6207\\Assign\\BS6207-assignment4\\Model\\model_drop_out_0.8_epoch_19\n",
      "processing the 20 epoch\n",
      "[021/030] 68.71 sec(s) Train Acc: 0.926124 Loss: 0.001783 | Val Acc: 0.847393 loss: 0.003629\n",
      "Counter 1 of 10\n",
      "processing the 21 epoch\n",
      "[022/030] 70.17 sec(s) Train Acc: 0.922488 Loss: 0.001841 | Val Acc: 0.916411 loss: 0.001927\n",
      "Counter 2 of 10\n",
      "processing the 22 epoch\n",
      "[023/030] 70.05 sec(s) Train Acc: 0.919043 Loss: 0.001900 | Val Acc: 0.940184 loss: 0.001566\n",
      "Counter 3 of 10\n",
      "processing the 23 epoch\n",
      "[024/030] 69.52 sec(s) Train Acc: 0.930909 Loss: 0.001633 | Val Acc: 0.956288 loss: 0.001134\n",
      "Model saved at D:\\CS\\NTU\\BS6207\\Assign\\BS6207-assignment4\\Model\\model_drop_out_0.8_epoch_23\n",
      "processing the 24 epoch\n",
      "[025/030] 71.43 sec(s) Train Acc: 0.926124 Loss: 0.001690 | Val Acc: 0.953221 loss: 0.001116\n",
      "Counter 1 of 10\n",
      "processing the 25 epoch\n",
      "[026/030] 71.63 sec(s) Train Acc: 0.929378 Loss: 0.001686 | Val Acc: 0.941718 loss: 0.001491\n",
      "Counter 2 of 10\n",
      "processing the 26 epoch\n",
      "[027/030] 71.08 sec(s) Train Acc: 0.919617 Loss: 0.001818 | Val Acc: 0.841258 loss: 0.003243\n",
      "Counter 3 of 10\n",
      "processing the 27 epoch\n",
      "[028/030] 70.11 sec(s) Train Acc: 0.928230 Loss: 0.001625 | Val Acc: 0.868865 loss: 0.003179\n",
      "Counter 4 of 10\n",
      "processing the 28 epoch\n",
      "[029/030] 70.22 sec(s) Train Acc: 0.936651 Loss: 0.001521 | Val Acc: 0.908742 loss: 0.002031\n",
      "Counter 5 of 10\n",
      "processing the 29 epoch\n",
      "[030/030] 68.01 sec(s) Train Acc: 0.938182 Loss: 0.001472 | Val Acc: 0.908742 loss: 0.002443\n",
      "Counter 6 of 10\n",
      "Finish epoches in 0.8\n",
      "__________\n"
     ]
    }
   ],
   "source": [
    "dropout=[0.4,0.6,0.8]\n",
    "history_dropout=[]\n",
    "for i in dropout:\n",
    "    model=CNNModel_max(dropout=i)\n",
    "    loss=nn.CrossEntropyLoss()\n",
    "    optim=torch.optim.Adam(model.parameters(),lr=0.001)\n",
    "    his_loss,his_acc=train(model,train_iter,valid_iter,optim,30,early_stop=True,name='model_drop_out_{}'.format(i))\n",
    "    history_dropout.append((his_loss,his_acc,model,optim))\n",
    "    print(\"Finish epoches in {}\".format(i))\n",
    "    print(\"_\"*10)"
   ]
  },
  {
   "cell_type": "code",
   "execution_count": 337,
   "metadata": {},
   "outputs": [
    {
     "name": "stdout",
     "output_type": "stream",
     "text": [
      "processing the 0 epoch\n",
      "[001/001] 2.56 sec(s) Test Acc: 0.937500 Loss: 0.001392\n"
     ]
    }
   ],
   "source": [
    "test(history_dropout[0][2],test_iter)"
   ]
  },
  {
   "cell_type": "code",
   "execution_count": 339,
   "metadata": {},
   "outputs": [
    {
     "name": "stdout",
     "output_type": "stream",
     "text": [
      "processing the 0 epoch\n",
      "[001/001] 2.20 sec(s) Test Acc: 0.937500 Loss: 0.001545\n"
     ]
    }
   ],
   "source": [
    "path=r\"D:\\CS\\NTU\\BS6207\\Assign\\BS6207-assignment4\\Model\\model_drop_out_0.4_epoch_17\"\n",
    "model_4=CNNModel_max(dropout=0.4)\n",
    "model_4.load_state_dict(torch.load(path))\n",
    "test(model_4,test_iter)"
   ]
  },
  {
   "cell_type": "code",
   "execution_count": 443,
   "metadata": {},
   "outputs": [
    {
     "data": {
      "text/plain": [
       "Text(0.5, 1.0, 'train')"
      ]
     },
     "execution_count": 443,
     "metadata": {},
     "output_type": "execute_result"
    },
    {
     "data": {
      "image/png": "[encoded data removed]",
      "text/plain": [
       "<Figure size 432x288 with 1 Axes>"
      ]
     },
     "metadata": {
      "needs_background": "light"
     },
     "output_type": "display_data"
    }
   ],
   "source": [
    "plt.plot(history[1][1][\"train\"])\n",
    "plt.plot(history_dropout[0][1][\"train\"])\n",
    "plt.plot(history_dropout[1][1][\"train\"])\n",
    "plt.plot(history_dropout[2][1][\"train\"])\n",
    "plt.legend(['none',0.4,0.6,0.8])\n",
    "plt.title('train')"
   ]
  },
  {
   "cell_type": "code",
   "execution_count": 444,
   "metadata": {},
   "outputs": [
    {
     "data": {
      "text/plain": [
       "Text(0.5, 1.0, 'valid')"
      ]
     },
     "execution_count": 444,
     "metadata": {},
     "output_type": "execute_result"
    },
    {
     "data": {
      "image/png": "[encoded data removed]",
      "text/plain": [
       "<Figure size 432x288 with 1 Axes>"
      ]
     },
     "metadata": {
      "needs_background": "light"
     },
     "output_type": "display_data"
    }
   ],
   "source": [
    "plt.plot(history[1][1][\"val\"])\n",
    "plt.plot(history_dropout[0][1][\"val\"])\n",
    "plt.plot(history_dropout[1][1][\"val\"])\n",
    "plt.plot(history_dropout[2][1][\"val\"])\n",
    "plt.legend(['none',0.4,0.6,0.8])\n",
    "plt.title(\"valid\")"
   ]
  },
  {
   "cell_type": "markdown",
   "metadata": {},
   "source": [
    "# Train_all with valid data"
   ]
  },
  {
   "cell_type": "code",
   "execution_count": 330,
   "metadata": {},
   "outputs": [
    {
     "data": {
      "text/plain": [
       "<torch.utils.data.dataloader.DataLoader at 0x1b30d4e0348>"
      ]
     },
     "execution_count": 330,
     "metadata": {},
     "output_type": "execute_result"
    }
   ],
   "source": [
    "train_valid_ds=ImageFolder(train_valid_dir,transform=train_transform)\n",
    "train_valid_iter=DataLoader(train_valid_ds,batch_size, shuffle=True)"
   ]
  },
  {
   "cell_type": "code",
   "execution_count": 345,
   "metadata": {},
   "outputs": [
    {
     "name": "stdout",
     "output_type": "stream",
     "text": [
      "processing the 0 epoch\n",
      "[001/050] 77.98 sec(s) Train Acc: 0.716802 Loss: 0.005818\n",
      "Model saved at D:\\CS\\NTU\\BS6207\\Assign\\BS6207-assignment4\\Model\\model_train_valid_epoch_0\n",
      "processing the 1 epoch\n",
      "[002/050] 75.86 sec(s) Train Acc: 0.798131 Loss: 0.004144\n",
      "processing the 2 epoch\n",
      "[003/050] 75.90 sec(s) Train Acc: 0.841783 Loss: 0.003560\n",
      "Model saved at D:\\CS\\NTU\\BS6207\\Assign\\BS6207-assignment4\\Model\\model_train_valid_epoch_2\n",
      "processing the 3 epoch\n",
      "[004/050] 75.89 sec(s) Train Acc: 0.839792 Loss: 0.003556\n",
      "processing the 4 epoch\n",
      "[005/050] 81.17 sec(s) Train Acc: 0.886200 Loss: 0.002604\n",
      "Model saved at D:\\CS\\NTU\\BS6207\\Assign\\BS6207-assignment4\\Model\\model_train_valid_epoch_4\n",
      "processing the 5 epoch\n",
      "[006/050] 77.05 sec(s) Train Acc: 0.891254 Loss: 0.002427\n",
      "processing the 6 epoch\n",
      "[007/050] 75.86 sec(s) Train Acc: 0.879461 Loss: 0.002681\n",
      "Model saved at D:\\CS\\NTU\\BS6207\\Assign\\BS6207-assignment4\\Model\\model_train_valid_epoch_6\n",
      "processing the 7 epoch\n",
      "[008/050] 75.95 sec(s) Train Acc: 0.912544 Loss: 0.002916\n",
      "processing the 8 epoch\n",
      "[009/050] 76.51 sec(s) Train Acc: 0.846531 Loss: 0.003715\n",
      "Model saved at D:\\CS\\NTU\\BS6207\\Assign\\BS6207-assignment4\\Model\\model_train_valid_epoch_8\n",
      "processing the 9 epoch\n",
      "[010/050] 76.73 sec(s) Train Acc: 0.886200 Loss: 0.003162\n",
      "processing the 10 epoch\n",
      "[011/050] 76.07 sec(s) Train Acc: 0.891408 Loss: 0.002520\n",
      "Model saved at D:\\CS\\NTU\\BS6207\\Assign\\BS6207-assignment4\\Model\\model_train_valid_epoch_10\n",
      "processing the 11 epoch\n",
      "[012/050] 76.12 sec(s) Train Acc: 0.901057 Loss: 0.002200\n",
      "processing the 12 epoch\n",
      "[013/050] 76.07 sec(s) Train Acc: 0.926329 Loss: 0.001773\n",
      "Model saved at D:\\CS\\NTU\\BS6207\\Assign\\BS6207-assignment4\\Model\\model_train_valid_epoch_12\n",
      "processing the 13 epoch\n",
      "[014/050] 76.28 sec(s) Train Acc: 0.920968 Loss: 0.001872\n",
      "processing the 14 epoch\n",
      "[015/050] 75.98 sec(s) Train Acc: 0.906877 Loss: 0.002499\n",
      "Model saved at D:\\CS\\NTU\\BS6207\\Assign\\BS6207-assignment4\\Model\\model_train_valid_epoch_14\n",
      "processing the 15 epoch\n",
      "[016/050] 76.33 sec(s) Train Acc: 0.898300 Loss: 0.002396\n",
      "processing the 16 epoch\n",
      "[017/050] 78.26 sec(s) Train Acc: 0.916067 Loss: 0.001883\n",
      "Model saved at D:\\CS\\NTU\\BS6207\\Assign\\BS6207-assignment4\\Model\\model_train_valid_epoch_16\n",
      "processing the 17 epoch\n",
      "[018/050] 78.12 sec(s) Train Acc: 0.924950 Loss: 0.001824\n",
      "processing the 18 epoch\n",
      "[019/050] 78.02 sec(s) Train Acc: 0.909481 Loss: 0.002089\n",
      "Model saved at D:\\CS\\NTU\\BS6207\\Assign\\BS6207-assignment4\\Model\\model_train_valid_epoch_18\n",
      "processing the 19 epoch\n",
      "[020/050] 79.24 sec(s) Train Acc: 0.927554 Loss: 0.002671\n",
      "processing the 20 epoch\n",
      "[021/050] 79.86 sec(s) Train Acc: 0.888191 Loss: 0.002776\n",
      "Model saved at D:\\CS\\NTU\\BS6207\\Assign\\BS6207-assignment4\\Model\\model_train_valid_epoch_20\n",
      "processing the 21 epoch\n",
      "[022/050] 80.16 sec(s) Train Acc: 0.881758 Loss: 0.003875\n",
      "processing the 22 epoch\n",
      "[023/050] 80.04 sec(s) Train Acc: 0.903354 Loss: 0.002653\n",
      "Model saved at D:\\CS\\NTU\\BS6207\\Assign\\BS6207-assignment4\\Model\\model_train_valid_epoch_22\n",
      "processing the 23 epoch\n",
      "[024/050] 79.43 sec(s) Train Acc: 0.893552 Loss: 0.002424\n",
      "processing the 24 epoch\n",
      "[025/050] 79.24 sec(s) Train Acc: 0.924338 Loss: 0.001750\n",
      "Model saved at D:\\CS\\NTU\\BS6207\\Assign\\BS6207-assignment4\\Model\\model_train_valid_epoch_24\n",
      "processing the 25 epoch\n",
      "[026/050] 79.85 sec(s) Train Acc: 0.919896 Loss: 0.001761\n",
      "processing the 26 epoch\n",
      "[027/050] 79.29 sec(s) Train Acc: 0.928013 Loss: 0.001586\n",
      "Model saved at D:\\CS\\NTU\\BS6207\\Assign\\BS6207-assignment4\\Model\\model_train_valid_epoch_26\n",
      "processing the 27 epoch\n",
      "[028/050] 78.60 sec(s) Train Acc: 0.926022 Loss: 0.001641\n",
      "processing the 28 epoch\n",
      "[029/050] 78.56 sec(s) Train Acc: 0.925257 Loss: 0.002644\n",
      "Model saved at D:\\CS\\NTU\\BS6207\\Assign\\BS6207-assignment4\\Model\\model_train_valid_epoch_28\n",
      "processing the 29 epoch\n",
      "[030/050] 78.47 sec(s) Train Acc: 0.917139 Loss: 0.002076\n",
      "processing the 30 epoch\n",
      "[031/050] 78.76 sec(s) Train Acc: 0.923725 Loss: 0.001786\n",
      "Model saved at D:\\CS\\NTU\\BS6207\\Assign\\BS6207-assignment4\\Model\\model_train_valid_epoch_30\n",
      "processing the 31 epoch\n",
      "[032/050] 78.93 sec(s) Train Acc: 0.932915 Loss: 0.001733\n",
      "processing the 32 epoch\n",
      "[033/050] 78.27 sec(s) Train Acc: 0.922653 Loss: 0.002170\n",
      "Model saved at D:\\CS\\NTU\\BS6207\\Assign\\BS6207-assignment4\\Model\\model_train_valid_epoch_32\n",
      "processing the 33 epoch\n",
      "[034/050] 78.44 sec(s) Train Acc: 0.924031 Loss: 0.001752\n",
      "processing the 34 epoch\n",
      "[035/050] 78.33 sec(s) Train Acc: 0.939194 Loss: 0.002411\n",
      "Model saved at D:\\CS\\NTU\\BS6207\\Assign\\BS6207-assignment4\\Model\\model_train_valid_epoch_34\n",
      "processing the 35 epoch\n",
      "[036/050] 78.35 sec(s) Train Acc: 0.929086 Loss: 0.001887\n",
      "processing the 36 epoch\n",
      "[037/050] 78.49 sec(s) Train Acc: 0.926635 Loss: 0.001746\n",
      "Model saved at D:\\CS\\NTU\\BS6207\\Assign\\BS6207-assignment4\\Model\\model_train_valid_epoch_36\n",
      "processing the 37 epoch\n",
      "[038/050] 78.12 sec(s) Train Acc: 0.931077 Loss: 0.002016\n",
      "processing the 38 epoch\n",
      "[039/050] 78.53 sec(s) Train Acc: 0.926022 Loss: 0.001578\n",
      "Model saved at D:\\CS\\NTU\\BS6207\\Assign\\BS6207-assignment4\\Model\\model_train_valid_epoch_38\n",
      "processing the 39 epoch\n",
      "[040/050] 78.69 sec(s) Train Acc: 0.939501 Loss: 0.001335\n",
      "processing the 40 epoch\n",
      "[041/050] 78.69 sec(s) Train Acc: 0.943177 Loss: 0.001429\n",
      "Model saved at D:\\CS\\NTU\\BS6207\\Assign\\BS6207-assignment4\\Model\\model_train_valid_epoch_40\n",
      "processing the 41 epoch\n",
      "[042/050] 78.71 sec(s) Train Acc: 0.931230 Loss: 0.002309\n",
      "processing the 42 epoch\n",
      "[043/050] 78.26 sec(s) Train Acc: 0.928013 Loss: 0.001969\n",
      "Model saved at D:\\CS\\NTU\\BS6207\\Assign\\BS6207-assignment4\\Model\\model_train_valid_epoch_42\n",
      "processing the 43 epoch\n",
      "[044/050] 78.92 sec(s) Train Acc: 0.935978 Loss: 0.001493\n",
      "processing the 44 epoch\n",
      "[045/050] 79.35 sec(s) Train Acc: 0.940420 Loss: 0.001376\n",
      "Model saved at D:\\CS\\NTU\\BS6207\\Assign\\BS6207-assignment4\\Model\\model_train_valid_epoch_44\n",
      "processing the 45 epoch\n",
      "[046/050] 78.39 sec(s) Train Acc: 0.947771 Loss: 0.001218\n",
      "processing the 46 epoch\n",
      "[047/050] 79.64 sec(s) Train Acc: 0.953439 Loss: 0.001100\n",
      "Model saved at D:\\CS\\NTU\\BS6207\\Assign\\BS6207-assignment4\\Model\\model_train_valid_epoch_46\n",
      "processing the 47 epoch\n",
      "[048/050] 78.04 sec(s) Train Acc: 0.941185 Loss: 0.001377\n",
      "processing the 48 epoch\n",
      "[049/050] 80.20 sec(s) Train Acc: 0.933374 Loss: 0.001538\n",
      "Model saved at D:\\CS\\NTU\\BS6207\\Assign\\BS6207-assignment4\\Model\\model_train_valid_epoch_48\n",
      "processing the 49 epoch\n",
      "[050/050] 78.02 sec(s) Train Acc: 0.941951 Loss: 0.001865\n"
     ]
    }
   ],
   "source": [
    "final_model=CNNModel_pool_normal()\n",
    "loss=nn.CrossEntropyLoss()\n",
    "optim=torch.optim.Adam(final_model.parameters(),lr=0.001)\n",
    "his_loss_all,his_acc_all=train(final_model,train_valid_iter,None,optim,50,name=\"model_train_valid\")"
   ]
  },
  {
   "cell_type": "code",
   "execution_count": 346,
   "metadata": {},
   "outputs": [
    {
     "name": "stdout",
     "output_type": "stream",
     "text": [
      "processing the 0 epoch\n",
      "[001/050] 76.43 sec(s) Train Acc: 0.935672 Loss: 0.001461\n",
      "Model saved at D:\\CS\\NTU\\BS6207\\Assign\\BS6207-assignment4\\Model\\model_train_valid_50_epoch_0\n",
      "processing the 1 epoch\n",
      "[002/050] 76.25 sec(s) Train Acc: 0.947159 Loss: 0.001182\n",
      "processing the 2 epoch\n",
      "[003/050] 76.04 sec(s) Train Acc: 0.950835 Loss: 0.001240\n",
      "Model saved at D:\\CS\\NTU\\BS6207\\Assign\\BS6207-assignment4\\Model\\model_train_valid_50_epoch_2\n",
      "processing the 3 epoch\n",
      "[004/050] 76.10 sec(s) Train Acc: 0.945321 Loss: 0.001587\n",
      "processing the 4 epoch\n",
      "[005/050] 76.03 sec(s) Train Acc: 0.941339 Loss: 0.001301\n",
      "Model saved at D:\\CS\\NTU\\BS6207\\Assign\\BS6207-assignment4\\Model\\model_train_valid_50_epoch_4\n",
      "processing the 5 epoch\n",
      "[006/050] 76.04 sec(s) Train Acc: 0.944402 Loss: 0.001455\n",
      "processing the 6 epoch\n",
      "[007/050] 76.15 sec(s) Train Acc: 0.930464 Loss: 0.001537\n",
      "Model saved at D:\\CS\\NTU\\BS6207\\Assign\\BS6207-assignment4\\Model\\model_train_valid_50_epoch_6\n",
      "processing the 7 epoch\n",
      "[008/050] 75.93 sec(s) Train Acc: 0.953745 Loss: 0.001142\n",
      "processing the 8 epoch\n",
      "[009/050] 75.89 sec(s) Train Acc: 0.955430 Loss: 0.000996\n",
      "Model saved at D:\\CS\\NTU\\BS6207\\Assign\\BS6207-assignment4\\Model\\model_train_valid_50_epoch_8\n",
      "processing the 9 epoch\n",
      "[010/050] 76.08 sec(s) Train Acc: 0.954357 Loss: 0.002079\n",
      "processing the 10 epoch\n",
      "[011/050] 77.95 sec(s) Train Acc: 0.941492 Loss: 0.001298\n",
      "Model saved at D:\\CS\\NTU\\BS6207\\Assign\\BS6207-assignment4\\Model\\model_train_valid_50_epoch_10\n",
      "processing the 11 epoch\n",
      "[012/050] 78.66 sec(s) Train Acc: 0.958646 Loss: 0.001706\n",
      "processing the 12 epoch\n",
      "[013/050] 79.15 sec(s) Train Acc: 0.931689 Loss: 0.001526\n",
      "Model saved at D:\\CS\\NTU\\BS6207\\Assign\\BS6207-assignment4\\Model\\model_train_valid_50_epoch_12\n",
      "processing the 13 epoch\n",
      "[014/050] 79.23 sec(s) Train Acc: 0.951601 Loss: 0.001920\n",
      "processing the 14 epoch\n",
      "[015/050] 79.19 sec(s) Train Acc: 0.922500 Loss: 0.002375\n",
      "Model saved at D:\\CS\\NTU\\BS6207\\Assign\\BS6207-assignment4\\Model\\model_train_valid_50_epoch_14\n",
      "processing the 15 epoch\n",
      "[016/050] 79.48 sec(s) Train Acc: 0.937050 Loss: 0.001486\n",
      "processing the 16 epoch\n",
      "[017/050] 79.40 sec(s) Train Acc: 0.941339 Loss: 0.001367\n",
      "Model saved at D:\\CS\\NTU\\BS6207\\Assign\\BS6207-assignment4\\Model\\model_train_valid_50_epoch_16\n",
      "processing the 17 epoch\n",
      "[018/050] 79.32 sec(s) Train Acc: 0.946699 Loss: 0.001267\n",
      "processing the 18 epoch\n",
      "[019/050] 78.50 sec(s) Train Acc: 0.949150 Loss: 0.001321\n",
      "Model saved at D:\\CS\\NTU\\BS6207\\Assign\\BS6207-assignment4\\Model\\model_train_valid_50_epoch_18\n",
      "processing the 19 epoch\n",
      "[020/050] 78.79 sec(s) Train Acc: 0.934140 Loss: 0.001630\n",
      "processing the 20 epoch\n",
      "[021/050] 78.59 sec(s) Train Acc: 0.938735 Loss: 0.001401\n",
      "Model saved at D:\\CS\\NTU\\BS6207\\Assign\\BS6207-assignment4\\Model\\model_train_valid_50_epoch_20\n",
      "processing the 21 epoch\n",
      "[022/050] 78.57 sec(s) Train Acc: 0.950069 Loss: 0.001076\n",
      "processing the 22 epoch\n",
      "[023/050] 78.48 sec(s) Train Acc: 0.956195 Loss: 0.001306\n",
      "Model saved at D:\\CS\\NTU\\BS6207\\Assign\\BS6207-assignment4\\Model\\model_train_valid_50_epoch_22\n",
      "processing the 23 epoch\n",
      "[024/050] 78.55 sec(s) Train Acc: 0.943942 Loss: 0.001924\n",
      "processing the 24 epoch\n",
      "[025/050] 78.72 sec(s) Train Acc: 0.935518 Loss: 0.001610\n",
      "Model saved at D:\\CS\\NTU\\BS6207\\Assign\\BS6207-assignment4\\Model\\model_train_valid_50_epoch_24\n",
      "processing the 25 epoch\n",
      "[026/050] 78.58 sec(s) Train Acc: 0.949763 Loss: 0.001158\n",
      "processing the 26 epoch\n",
      "[027/050] 78.63 sec(s) Train Acc: 0.956808 Loss: 0.000950\n",
      "Model saved at D:\\CS\\NTU\\BS6207\\Assign\\BS6207-assignment4\\Model\\model_train_valid_50_epoch_26\n",
      "processing the 27 epoch\n",
      "[028/050] 78.59 sec(s) Train Acc: 0.960484 Loss: 0.000963\n",
      "processing the 28 epoch\n",
      "[029/050] 75.66 sec(s) Train Acc: 0.954357 Loss: 0.001081\n",
      "Model saved at D:\\CS\\NTU\\BS6207\\Assign\\BS6207-assignment4\\Model\\model_train_valid_50_epoch_28\n",
      "processing the 29 epoch\n",
      "[030/050] 76.00 sec(s) Train Acc: 0.947312 Loss: 0.001659\n",
      "processing the 30 epoch\n",
      "[031/050] 75.68 sec(s) Train Acc: 0.944249 Loss: 0.001574\n",
      "Model saved at D:\\CS\\NTU\\BS6207\\Assign\\BS6207-assignment4\\Model\\model_train_valid_50_epoch_30\n",
      "processing the 31 epoch\n",
      "[032/050] 75.41 sec(s) Train Acc: 0.941951 Loss: 0.001440\n",
      "processing the 32 epoch\n",
      "[033/050] 76.52 sec(s) Train Acc: 0.953592 Loss: 0.001027\n",
      "Model saved at D:\\CS\\NTU\\BS6207\\Assign\\BS6207-assignment4\\Model\\model_train_valid_50_epoch_32\n",
      "processing the 33 epoch\n",
      "[034/050] 75.80 sec(s) Train Acc: 0.962781 Loss: 0.001129\n",
      "processing the 34 epoch\n",
      "[035/050] 75.67 sec(s) Train Acc: 0.944096 Loss: 0.001661\n",
      "Model saved at D:\\CS\\NTU\\BS6207\\Assign\\BS6207-assignment4\\Model\\model_train_valid_50_epoch_34\n",
      "processing the 35 epoch\n",
      "[036/050] 76.33 sec(s) Train Acc: 0.949916 Loss: 0.001077\n",
      "processing the 36 epoch\n",
      "[037/050] 75.39 sec(s) Train Acc: 0.958952 Loss: 0.001275\n",
      "Model saved at D:\\CS\\NTU\\BS6207\\Assign\\BS6207-assignment4\\Model\\model_train_valid_50_epoch_36\n",
      "processing the 37 epoch\n",
      "[038/050] 75.84 sec(s) Train Acc: 0.958952 Loss: 0.001040\n",
      "processing the 38 epoch\n",
      "[039/050] 75.54 sec(s) Train Acc: 0.961862 Loss: 0.000856\n",
      "Model saved at D:\\CS\\NTU\\BS6207\\Assign\\BS6207-assignment4\\Model\\model_train_valid_50_epoch_38\n",
      "processing the 39 epoch\n",
      "[040/050] 75.91 sec(s) Train Acc: 0.960943 Loss: 0.000842\n",
      "processing the 40 epoch\n",
      "[041/050] 76.13 sec(s) Train Acc: 0.966764 Loss: 0.000753\n",
      "Model saved at D:\\CS\\NTU\\BS6207\\Assign\\BS6207-assignment4\\Model\\model_train_valid_50_epoch_40\n",
      "processing the 41 epoch\n",
      "[042/050] 75.80 sec(s) Train Acc: 0.961250 Loss: 0.000859\n",
      "processing the 42 epoch\n",
      "[043/050] 75.75 sec(s) Train Acc: 0.962169 Loss: 0.000820\n",
      "Model saved at D:\\CS\\NTU\\BS6207\\Assign\\BS6207-assignment4\\Model\\model_train_valid_50_epoch_42\n",
      "processing the 43 epoch\n",
      "[044/050] 76.00 sec(s) Train Acc: 0.965998 Loss: 0.000784\n",
      "processing the 44 epoch\n",
      "[045/050] 77.66 sec(s) Train Acc: 0.967989 Loss: 0.000707\n",
      "Model saved at D:\\CS\\NTU\\BS6207\\Assign\\BS6207-assignment4\\Model\\model_train_valid_50_epoch_44\n",
      "processing the 45 epoch\n",
      "[046/050] 78.29 sec(s) Train Acc: 0.963700 Loss: 0.001095\n",
      "processing the 46 epoch\n",
      "[047/050] 79.25 sec(s) Train Acc: 0.941492 Loss: 0.001227\n",
      "Model saved at D:\\CS\\NTU\\BS6207\\Assign\\BS6207-assignment4\\Model\\model_train_valid_50_epoch_46\n",
      "processing the 47 epoch\n",
      "[048/050] 79.10 sec(s) Train Acc: 0.962322 Loss: 0.001447\n",
      "processing the 48 epoch\n",
      "[049/050] 78.96 sec(s) Train Acc: 0.951447 Loss: 0.001272\n",
      "Model saved at D:\\CS\\NTU\\BS6207\\Assign\\BS6207-assignment4\\Model\\model_train_valid_50_epoch_48\n",
      "processing the 49 epoch\n",
      "[050/050] 79.24 sec(s) Train Acc: 0.961403 Loss: 0.000868\n"
     ]
    }
   ],
   "source": [
    "his_loss_all_2,his_acc_all_2=train(final_model,train_valid_iter,None,optim,50,name=\"model_train_valid_50\")"
   ]
  },
  {
   "cell_type": "code",
   "execution_count": 352,
   "metadata": {},
   "outputs": [
    {
     "data": {
      "text/plain": [
       "[<matplotlib.lines.Line2D at 0x1b30ec13688>]"
      ]
     },
     "execution_count": 352,
     "metadata": {},
     "output_type": "execute_result"
    },
    {
     "data": {
      "image/png": "[encoded data removed]",
      "text/plain": [
       "<Figure size 432x288 with 1 Axes>"
      ]
     },
     "metadata": {
      "needs_background": "light"
     },
     "output_type": "display_data"
    }
   ],
   "source": [
    "\n"
   ]
  },
  {
   "cell_type": "code",
   "execution_count": 353,
   "metadata": {},
   "outputs": [
    {
     "data": {
      "text/plain": [
       "[<matplotlib.lines.Line2D at 0x1b30f574648>]"
      ]
     },
     "execution_count": 353,
     "metadata": {},
     "output_type": "execute_result"
    },
    {
     "data": {
      "image/png": "[encoded data removed]",
      "text/plain": [
       "<Figure size 432x288 with 1 Axes>"
      ]
     },
     "metadata": {
      "needs_background": "light"
     },
     "output_type": "display_data"
    }
   ],
   "source": [
    "plt.plot(his_loss_all[\"train\"]+his_loss_all_2[\"train\"])"
   ]
  },
  {
   "cell_type": "markdown",
   "metadata": {},
   "source": [
    "# set different data size"
   ]
  },
  {
   "cell_type": "code",
   "execution_count": 354,
   "metadata": {},
   "outputs": [
    {
     "name": "stdout",
     "output_type": "stream",
     "text": [
      "processing the 0 epoch\n",
      "[001/001] 2.41 sec(s) Test Acc: 0.905000 Loss: 0.002401\n"
     ]
    }
   ],
   "source": [
    "test(final_model,test_iter)"
   ]
  },
  {
   "cell_type": "code",
   "execution_count": 371,
   "metadata": {},
   "outputs": [],
   "source": [
    "test_iter=DataLoader(test_ds,batch_size, shuffle=False)"
   ]
  },
  {
   "cell_type": "code",
   "execution_count": 372,
   "metadata": {},
   "outputs": [
    {
     "name": "stdout",
     "output_type": "stream",
     "text": [
      "processing the 0 epoch\n",
      "[001/001] 2.25 sec(s) Test Acc: 0.740000 Loss: 0.006994\n",
      "processing the 0 epoch\n",
      "[001/001] 2.21 sec(s) Test Acc: 0.775000 Loss: 0.004926\n",
      "processing the 0 epoch\n",
      "[001/001] 2.20 sec(s) Test Acc: 0.692500 Loss: 0.010215\n",
      "processing the 0 epoch\n",
      "[001/001] 2.17 sec(s) Test Acc: 0.740000 Loss: 0.007949\n",
      "processing the 0 epoch\n",
      "[001/001] 2.14 sec(s) Test Acc: 0.780000 Loss: 0.006631\n",
      "processing the 0 epoch\n",
      "[001/001] 2.19 sec(s) Test Acc: 0.875000 Loss: 0.005391\n",
      "processing the 0 epoch\n",
      "[001/001] 2.18 sec(s) Test Acc: 0.930000 Loss: 0.003290\n",
      "processing the 0 epoch\n",
      "[001/001] 2.21 sec(s) Test Acc: 0.895000 Loss: 0.004641\n",
      "processing the 0 epoch\n",
      "[001/001] 2.31 sec(s) Test Acc: 0.887500 Loss: 0.004813\n",
      "processing the 0 epoch\n",
      "[001/001] 2.15 sec(s) Test Acc: 0.935000 Loss: 0.003619\n",
      "processing the 0 epoch\n",
      "[001/001] 2.18 sec(s) Test Acc: 0.750000 Loss: 0.006703\n",
      "processing the 0 epoch\n",
      "[001/001] 2.18 sec(s) Test Acc: 0.920000 Loss: 0.002841\n",
      "processing the 0 epoch\n",
      "[001/001] 2.20 sec(s) Test Acc: 0.902500 Loss: 0.002887\n",
      "processing the 0 epoch\n",
      "[001/001] 2.21 sec(s) Test Acc: 0.732500 Loss: 0.007960\n",
      "processing the 0 epoch\n",
      "[001/001] 2.29 sec(s) Test Acc: 0.770000 Loss: 0.006536\n",
      "processing the 0 epoch\n",
      "[001/001] 2.29 sec(s) Test Acc: 0.935000 Loss: 0.003104\n",
      "processing the 0 epoch\n",
      "[001/001] 2.17 sec(s) Test Acc: 0.927500 Loss: 0.002518\n",
      "processing the 0 epoch\n",
      "[001/001] 2.15 sec(s) Test Acc: 0.882500 Loss: 0.005163\n",
      "processing the 0 epoch\n",
      "[001/001] 2.18 sec(s) Test Acc: 0.945000 Loss: 0.002831\n",
      "processing the 0 epoch\n",
      "[001/001] 2.19 sec(s) Test Acc: 0.922500 Loss: 0.003332\n",
      "processing the 0 epoch\n",
      "[001/001] 2.15 sec(s) Test Acc: 0.950000 Loss: 0.002370\n",
      "processing the 0 epoch\n",
      "[001/001] 2.17 sec(s) Test Acc: 0.917500 Loss: 0.003232\n",
      "processing the 0 epoch\n",
      "[001/001] 2.19 sec(s) Test Acc: 0.917500 Loss: 0.003258\n",
      "processing the 0 epoch\n",
      "[001/001] 2.22 sec(s) Test Acc: 0.882500 Loss: 0.004528\n"
     ]
    }
   ],
   "source": [
    "his_fi_acc_=[]\n",
    "his_fi_loss_=[]\n",
    "for i in range(24):\n",
    "    path=r'D:\\CS\\NTU\\BS6207\\Assign\\BS6207-assignment4\\Model\\model_train_valid_epoch_{}'.format(str(i*2))\n",
    "    fi_model=CNNModel_pool_normal()\n",
    "    fi_model.load_state_dict(torch.load(path))\n",
    "    fi_loss,fi_acc=test(fi_model,test_iter)\n",
    "    his_fi_loss_.append(fi_loss)\n",
    "    his_fi_acc_.append(fi_acc) "
   ]
  },
  {
   "cell_type": "code",
   "execution_count": 373,
   "metadata": {},
   "outputs": [
    {
     "name": "stdout",
     "output_type": "stream",
     "text": [
      "processing the 0 epoch\n",
      "[001/001] 2.18 sec(s) Test Acc: 0.865000 Loss: 0.005337\n",
      "processing the 0 epoch\n",
      "[001/001] 2.22 sec(s) Test Acc: 0.922500 Loss: 0.003507\n",
      "processing the 0 epoch\n",
      "[001/001] 2.20 sec(s) Test Acc: 0.915000 Loss: 0.002425\n",
      "processing the 0 epoch\n",
      "[001/001] 2.19 sec(s) Test Acc: 0.930000 Loss: 0.002601\n",
      "processing the 0 epoch\n",
      "[001/001] 2.17 sec(s) Test Acc: 0.930000 Loss: 0.002884\n",
      "processing the 0 epoch\n",
      "[001/001] 2.14 sec(s) Test Acc: 0.922500 Loss: 0.003779\n",
      "processing the 0 epoch\n",
      "[001/001] 2.18 sec(s) Test Acc: 0.857500 Loss: 0.005762\n",
      "processing the 0 epoch\n",
      "[001/001] 2.14 sec(s) Test Acc: 0.940000 Loss: 0.003392\n",
      "processing the 0 epoch\n",
      "[001/001] 2.15 sec(s) Test Acc: 0.882500 Loss: 0.003720\n",
      "processing the 0 epoch\n",
      "[001/001] 2.19 sec(s) Test Acc: 0.945000 Loss: 0.002477\n",
      "processing the 0 epoch\n",
      "[001/001] 2.15 sec(s) Test Acc: 0.950000 Loss: 0.002354\n",
      "processing the 0 epoch\n",
      "[001/001] 2.15 sec(s) Test Acc: 0.947500 Loss: 0.002004\n",
      "processing the 0 epoch\n",
      "[001/001] 2.14 sec(s) Test Acc: 0.952500 Loss: 0.002032\n",
      "processing the 0 epoch\n",
      "[001/001] 2.17 sec(s) Test Acc: 0.887500 Loss: 0.003789\n",
      "processing the 0 epoch\n",
      "[001/001] 2.16 sec(s) Test Acc: 0.907500 Loss: 0.003684\n",
      "processing the 0 epoch\n",
      "[001/001] 2.14 sec(s) Test Acc: 0.805000 Loss: 0.004497\n",
      "processing the 0 epoch\n",
      "[001/001] 2.14 sec(s) Test Acc: 0.927500 Loss: 0.002170\n",
      "processing the 0 epoch\n",
      "[001/001] 2.09 sec(s) Test Acc: 0.950000 Loss: 0.001703\n",
      "processing the 0 epoch\n",
      "[001/001] 2.23 sec(s) Test Acc: 0.907500 Loss: 0.002772\n",
      "processing the 0 epoch\n",
      "[001/001] 2.15 sec(s) Test Acc: 0.897500 Loss: 0.005179\n",
      "processing the 0 epoch\n",
      "[001/001] 2.18 sec(s) Test Acc: 0.915000 Loss: 0.003342\n",
      "processing the 0 epoch\n",
      "[001/001] 2.17 sec(s) Test Acc: 0.930000 Loss: 0.002690\n",
      "processing the 0 epoch\n",
      "[001/001] 2.17 sec(s) Test Acc: 0.960000 Loss: 0.001501\n",
      "processing the 0 epoch\n",
      "[001/001] 2.21 sec(s) Test Acc: 0.945000 Loss: 0.002503\n"
     ]
    }
   ],
   "source": [
    "his_fi_acc=[]\n",
    "his_fi_loss=[]\n",
    "for i in range(24):\n",
    "    path=r'D:\\CS\\NTU\\BS6207\\Assign\\BS6207-assignment4\\Model\\model_train_valid_50_epoch_{}'.format(str(i*2))\n",
    "    fi_model=CNNModel_pool_normal()\n",
    "    fi_model.load_state_dict(torch.load(path))\n",
    "    fi_loss,fi_acc=test(fi_model,test_iter)\n",
    "    his_fi_loss.append(fi_loss)\n",
    "    his_fi_acc.append(fi_acc) "
   ]
  },
  {
   "cell_type": "code",
   "execution_count": 445,
   "metadata": {},
   "outputs": [
    {
     "data": {
      "text/plain": [
       "Text(0.5, 1.0, 'Size MAX(6529)')"
      ]
     },
     "execution_count": 445,
     "metadata": {},
     "output_type": "execute_result"
    },
    {
     "data": {
      "image/png": "[encoded data removed]",
      "text/plain": [
       "<Figure size 432x288 with 1 Axes>"
      ]
     },
     "metadata": {
      "needs_background": "light"
     },
     "output_type": "display_data"
    }
   ],
   "source": [
    "plt.plot(his_acc_all[\"train\"]+his_acc_all_2[\"train\"])\n",
    "plt.plot(range(0,96,2),his_fi_acc_+his_fi_acc)\n",
    "plt.legend([\"train\",\"test\"])\n",
    "plt.title(\"Size MAX(6529)\")"
   ]
  },
  {
   "cell_type": "code",
   "execution_count": 377,
   "metadata": {},
   "outputs": [
    {
     "name": "stdout",
     "output_type": "stream",
     "text": [
      "processing the 0 epoch\n",
      "[001/001] 2.31 sec(s) Test Acc: 0.960000 Loss: 0.001501\n"
     ]
    }
   ],
   "source": [
    "path=r'D:\\CS\\NTU\\BS6207\\Assign\\BS6207-assignment4\\Model\\model_train_valid_50_epoch_{}'.format(str(44))\n",
    "fi_model=CNNModel_pool_normal()\n",
    "fi_model.load_state_dict(torch.load(path))\n",
    "fi_loss,fi_acc=test(fi_model,test_iter)"
   ]
  },
  {
   "cell_type": "code",
   "execution_count": 419,
   "metadata": {},
   "outputs": [
    {
     "data": {
      "text/plain": [
       "[40, 80, 160, 320, 640, 1280, 2560, 5120]"
      ]
     },
     "execution_count": 419,
     "metadata": {},
     "output_type": "execute_result"
    }
   ],
   "source": [
    "batch=[40]\n",
    "i=40\n",
    "while(i<6959):\n",
    "    i*=2\n",
    "    batch.append(i)\n",
    "batch.pop()\n",
    "batch"
   ]
  },
  {
   "cell_type": "code",
   "execution_count": 383,
   "metadata": {},
   "outputs": [],
   "source": [
    "size_data=[]\n",
    "for i in batch:\n",
    "    train_valid_iter=DataLoader(train_valid_ds,i, shuffle=True)\n",
    "    for batch_x,batch_y in train_valid_iter:\n",
    "        size_data.append((batch_x,batch_y))\n",
    "        break"
   ]
  },
  {
   "cell_type": "code",
   "execution_count": 414,
   "metadata": {},
   "outputs": [],
   "source": [
    "import random\n",
    "\n",
    "def train_sets(net,train_iter,valid_iter,optim,epoches,batch_size=128,early_stop=False,name=None):\n",
    "    \n",
    "    X,y=train_iter\n",
    "    \n",
    "    \n",
    "    history_loss=dict()\n",
    "    history_acc=dict()\n",
    "    history_loss[\"val\"]=[]\n",
    "    history_loss[\"train\"]=[]\n",
    "        \n",
    "    history_acc[\"val\"]=[]\n",
    "    history_acc[\"train\"]=[]\n",
    "    \n",
    "    \n",
    "    best_acc=0\n",
    "    num_batchs=X.shape[0]//batch_size\n",
    "    \n",
    "    if batch_size*num_batchs!=X.shape[0]:\n",
    "        num_batchs+=1\n",
    "\n",
    "    for epoch in range(epoches):\n",
    "        li=list(range(X.shape[0]))\n",
    "        random.shuffle(li)\n",
    "        print(\"processing the {} epoch\".format(epoch))\n",
    "        epoch_start_time = time.time()\n",
    "        train_acc = []\n",
    "        train_loss = []\n",
    "        val_acc = []\n",
    "        val_loss = []\n",
    "        len_train=0\n",
    "        net.train()\n",
    "        for ba in range(num_batchs):\n",
    "#             print(batch_x.shape)\n",
    "#             print(batch_y.shape)\n",
    "            left=ba*batch_size\n",
    "            right=min((ba+1)*batch_size,X.shape[0])\n",
    "            \n",
    "            batch_x=X[li[left:right]]\n",
    "            batch_y=y[li[left:right]]\n",
    "            y_hat=net(batch_x)\n",
    "            l=loss(y_hat,batch_y)\n",
    "            optim.zero_grad()\n",
    "            l.backward()\n",
    "            optim.step()\n",
    "            train_acc.append(np.sum(np.argmax(y_hat.detach().numpy(),axis=1)==batch_y.detach().numpy()))\n",
    "            train_loss.append(l.item())\n",
    "#             print(\"finish {} batch in {} epoch\".format(i,epoch))\n",
    "            len_train+=batch_x.shape[0]\n",
    "\n",
    "        train_loss=np.sum(train_loss)/len_train\n",
    "        train_acc=np.sum(train_acc)/len_train\n",
    "        history_loss[\"train\"].append(train_loss)\n",
    "        history_acc[\"train\"].append(train_acc)\n",
    "        if valid_iter is not None:\n",
    "            #eval\n",
    "            net.eval()\n",
    "            len_val=0\n",
    "            with torch.no_grad():\n",
    "                for batch_x,batch_y in valid_iter:\n",
    "                    y_hat=net(batch_x)\n",
    "                    l=loss(y_hat,batch_y)\n",
    "                    val_acc.append(np.sum(np.argmax(y_hat.numpy(),axis=1)==batch_y.numpy()))\n",
    "                    val_loss.append(l.item())\n",
    "                    len_val+=batch_x.shape[0]\n",
    "\n",
    "            val_loss=np.sum(val_loss)/len_val\n",
    "            val_acc=np.sum(val_acc)/len_val\n",
    "            history_loss[\"val\"].append(val_loss)\n",
    "            history_acc[\"val\"].append(val_acc)\n",
    "            print('[%03d/%03d] %2.2f sec(s) Train Acc: %3.6f Loss: %3.6f | Val Acc: %3.6f loss: %3.6f' % \\\n",
    "                    (epoch + 1, epoches, time.time()-epoch_start_time, \\\n",
    "                     train_acc, train_loss, val_acc, val_loss))          \n",
    "        else:\n",
    "            print('[%03d/%03d] %2.2f sec(s) Train Acc: %3.6f Loss: %3.6f' % \\\n",
    "                    (epoch + 1, epoches, time.time()-epoch_start_time, \\\n",
    "                     train_acc, train_loss))\n",
    "        if name==None:\n",
    "            PATH =r'D:\\CS\\NTU\\BS6207\\Assign\\BS6207-assignment4\\Model\\model_epoch_{}'.format(epoch)\n",
    "        else:\n",
    "            PATH =r'D:\\CS\\NTU\\BS6207\\Assign\\BS6207-assignment4\\Model\\{}_epoch_{}'.format(name,epoch)\n",
    "            \n",
    "        check_point =r'D:\\CS\\NTU\\BS6207\\Assign\\BS6207-assignment4\\train_size_{}_check_point.txt'.format(X.shape[0])\n",
    "        #self-implement early stop\n",
    "        if early_stop==True:\n",
    "            if val_acc > best_acc:\n",
    "                best_acc = val_acc\n",
    "                es = 0\n",
    "                torch.save(net.state_dict(), check_point)\n",
    "                print('Model saved at {}'.format(check_point))\n",
    "            else:\n",
    "                es += 1\n",
    "                print(\"Counter {} of 15\".format(es))\n",
    "                torch.save(net.state_dict(), PATH)\n",
    "                print('Model saved at {}'.format(PATH))\n",
    "            if es > 14:\n",
    "                print(\"Early stopping with best_acc: \", best_acc, \"and val_acc for this epoch: \", val_acc, \"...\")\n",
    "                break\n",
    "        else:\n",
    "            if epoch%2==0:\n",
    "                torch.save(net.state_dict(), PATH)\n",
    "                print('Model saved at {}'.format(PATH))\n",
    "            \n",
    "    return history_loss,history_acc"
   ]
  },
  {
   "cell_type": "code",
   "execution_count": 415,
   "metadata": {
    "scrolled": true
   },
   "outputs": [
    {
     "name": "stdout",
     "output_type": "stream",
     "text": [
      "processing the 0 epoch\n",
      "[001/050] 2.54 sec(s) Train Acc: 0.300000 Loss: 0.034923 | Val Acc: 0.447500 loss: 0.014443\n",
      "Model saved at D:\\CS\\NTU\\BS6207\\Assign\\BS6207-assignment4\\train_size_40_check_point.txt\n",
      "processing the 1 epoch\n",
      "[002/050] 2.59 sec(s) Train Acc: 0.575000 Loss: 0.017965 | Val Acc: 0.452500 loss: 0.014955\n",
      "Model saved at D:\\CS\\NTU\\BS6207\\Assign\\BS6207-assignment4\\train_size_40_check_point.txt\n",
      "processing the 2 epoch\n",
      "[003/050] 2.61 sec(s) Train Acc: 0.625000 Loss: 0.020639 | Val Acc: 0.365000 loss: 0.015897\n",
      "Counter 1 of 15\n",
      "Model saved at D:\\CS\\NTU\\BS6207\\Assign\\BS6207-assignment4\\Model\\model_size_40_train__epoch_2\n",
      "processing the 3 epoch\n",
      "[004/050] 2.52 sec(s) Train Acc: 0.900000 Loss: 0.009054 | Val Acc: 0.315000 loss: 0.016898\n",
      "Counter 2 of 15\n",
      "Model saved at D:\\CS\\NTU\\BS6207\\Assign\\BS6207-assignment4\\Model\\model_size_40_train__epoch_3\n",
      "processing the 4 epoch\n",
      "[005/050] 2.54 sec(s) Train Acc: 0.950000 Loss: 0.005908 | Val Acc: 0.437500 loss: 0.017223\n",
      "Counter 3 of 15\n",
      "Model saved at D:\\CS\\NTU\\BS6207\\Assign\\BS6207-assignment4\\Model\\model_size_40_train__epoch_4\n",
      "processing the 5 epoch\n",
      "[006/050] 2.60 sec(s) Train Acc: 0.950000 Loss: 0.005022 | Val Acc: 0.592500 loss: 0.017715\n",
      "Model saved at D:\\CS\\NTU\\BS6207\\Assign\\BS6207-assignment4\\train_size_40_check_point.txt\n",
      "processing the 6 epoch\n",
      "[007/050] 2.66 sec(s) Train Acc: 0.975000 Loss: 0.002579 | Val Acc: 0.635000 loss: 0.018854\n",
      "Model saved at D:\\CS\\NTU\\BS6207\\Assign\\BS6207-assignment4\\train_size_40_check_point.txt\n",
      "processing the 7 epoch\n",
      "[008/050] 2.51 sec(s) Train Acc: 1.000000 Loss: 0.001414 | Val Acc: 0.615000 loss: 0.020646\n",
      "Counter 1 of 15\n",
      "Model saved at D:\\CS\\NTU\\BS6207\\Assign\\BS6207-assignment4\\Model\\model_size_40_train__epoch_7\n",
      "processing the 8 epoch\n",
      "[009/050] 2.56 sec(s) Train Acc: 1.000000 Loss: 0.001198 | Val Acc: 0.575000 loss: 0.022956\n",
      "Counter 2 of 15\n",
      "Model saved at D:\\CS\\NTU\\BS6207\\Assign\\BS6207-assignment4\\Model\\model_size_40_train__epoch_8\n",
      "processing the 9 epoch\n",
      "[010/050] 2.63 sec(s) Train Acc: 1.000000 Loss: 0.000917 | Val Acc: 0.532500 loss: 0.025892\n",
      "Counter 3 of 15\n",
      "Model saved at D:\\CS\\NTU\\BS6207\\Assign\\BS6207-assignment4\\Model\\model_size_40_train__epoch_9\n",
      "processing the 10 epoch\n",
      "[011/050] 2.58 sec(s) Train Acc: 1.000000 Loss: 0.000506 | Val Acc: 0.490000 loss: 0.029497\n",
      "Counter 4 of 15\n",
      "Model saved at D:\\CS\\NTU\\BS6207\\Assign\\BS6207-assignment4\\Model\\model_size_40_train__epoch_10\n",
      "processing the 11 epoch\n",
      "[012/050] 2.56 sec(s) Train Acc: 1.000000 Loss: 0.000246 | Val Acc: 0.455000 loss: 0.033618\n",
      "Counter 5 of 15\n",
      "Model saved at D:\\CS\\NTU\\BS6207\\Assign\\BS6207-assignment4\\Model\\model_size_40_train__epoch_11\n",
      "processing the 12 epoch\n",
      "[013/050] 2.60 sec(s) Train Acc: 1.000000 Loss: 0.000140 | Val Acc: 0.395000 loss: 0.038081\n",
      "Counter 6 of 15\n",
      "Model saved at D:\\CS\\NTU\\BS6207\\Assign\\BS6207-assignment4\\Model\\model_size_40_train__epoch_12\n",
      "processing the 13 epoch\n",
      "[014/050] 2.64 sec(s) Train Acc: 1.000000 Loss: 0.000098 | Val Acc: 0.385000 loss: 0.042644\n",
      "Counter 7 of 15\n",
      "Model saved at D:\\CS\\NTU\\BS6207\\Assign\\BS6207-assignment4\\Model\\model_size_40_train__epoch_13\n",
      "processing the 14 epoch\n",
      "[015/050] 2.90 sec(s) Train Acc: 1.000000 Loss: 0.000081 | Val Acc: 0.357500 loss: 0.047041\n",
      "Counter 8 of 15\n",
      "Model saved at D:\\CS\\NTU\\BS6207\\Assign\\BS6207-assignment4\\Model\\model_size_40_train__epoch_14\n",
      "processing the 15 epoch\n",
      "[016/050] 2.90 sec(s) Train Acc: 1.000000 Loss: 0.000073 | Val Acc: 0.355000 loss: 0.051027\n",
      "Counter 9 of 15\n",
      "Model saved at D:\\CS\\NTU\\BS6207\\Assign\\BS6207-assignment4\\Model\\model_size_40_train__epoch_15\n",
      "processing the 16 epoch\n",
      "[017/050] 2.81 sec(s) Train Acc: 1.000000 Loss: 0.000067 | Val Acc: 0.355000 loss: 0.054436\n",
      "Counter 10 of 15\n",
      "Model saved at D:\\CS\\NTU\\BS6207\\Assign\\BS6207-assignment4\\Model\\model_size_40_train__epoch_16\n",
      "processing the 17 epoch\n",
      "[018/050] 2.58 sec(s) Train Acc: 1.000000 Loss: 0.000061 | Val Acc: 0.367500 loss: 0.057207\n",
      "Counter 11 of 15\n",
      "Model saved at D:\\CS\\NTU\\BS6207\\Assign\\BS6207-assignment4\\Model\\model_size_40_train__epoch_17\n",
      "processing the 18 epoch\n",
      "[019/050] 2.67 sec(s) Train Acc: 1.000000 Loss: 0.000054 | Val Acc: 0.382500 loss: 0.059408\n",
      "Counter 12 of 15\n",
      "Model saved at D:\\CS\\NTU\\BS6207\\Assign\\BS6207-assignment4\\Model\\model_size_40_train__epoch_18\n",
      "processing the 19 epoch\n",
      "[020/050] 2.69 sec(s) Train Acc: 1.000000 Loss: 0.000045 | Val Acc: 0.402500 loss: 0.061189\n",
      "Counter 13 of 15\n",
      "Model saved at D:\\CS\\NTU\\BS6207\\Assign\\BS6207-assignment4\\Model\\model_size_40_train__epoch_19\n",
      "processing the 20 epoch\n",
      "[021/050] 2.76 sec(s) Train Acc: 1.000000 Loss: 0.000036 | Val Acc: 0.427500 loss: 0.062727\n",
      "Counter 14 of 15\n",
      "Model saved at D:\\CS\\NTU\\BS6207\\Assign\\BS6207-assignment4\\Model\\model_size_40_train__epoch_20\n",
      "processing the 21 epoch\n",
      "[022/050] 2.53 sec(s) Train Acc: 1.000000 Loss: 0.000029 | Val Acc: 0.472500 loss: 0.064162\n",
      "Counter 15 of 15\n",
      "Model saved at D:\\CS\\NTU\\BS6207\\Assign\\BS6207-assignment4\\Model\\model_size_40_train__epoch_21\n",
      "Early stopping with best_acc:  0.635 and val_acc for this epoch:  0.4725 ...\n",
      "processing the 0 epoch\n",
      "[001/050] 3.31 sec(s) Train Acc: 0.212500 Loss: 0.017683 | Val Acc: 0.337500 loss: 0.014656\n",
      "Model saved at D:\\CS\\NTU\\BS6207\\Assign\\BS6207-assignment4\\train_size_80_check_point.txt\n",
      "processing the 1 epoch\n",
      "[002/050] 2.86 sec(s) Train Acc: 0.637500 Loss: 0.015299 | Val Acc: 0.250000 loss: 0.015615\n",
      "Counter 1 of 15\n",
      "Model saved at D:\\CS\\NTU\\BS6207\\Assign\\BS6207-assignment4\\Model\\model_size_80_train__epoch_1\n",
      "processing the 2 epoch\n",
      "[003/050] 2.84 sec(s) Train Acc: 0.537500 Loss: 0.014198 | Val Acc: 0.462500 loss: 0.015247\n",
      "Model saved at D:\\CS\\NTU\\BS6207\\Assign\\BS6207-assignment4\\train_size_80_check_point.txt\n",
      "processing the 3 epoch\n",
      "[004/050] 2.88 sec(s) Train Acc: 0.712500 Loss: 0.008901 | Val Acc: 0.467500 loss: 0.014890\n",
      "Model saved at D:\\CS\\NTU\\BS6207\\Assign\\BS6207-assignment4\\train_size_80_check_point.txt\n",
      "processing the 4 epoch\n",
      "[005/050] 2.88 sec(s) Train Acc: 0.712500 Loss: 0.008573 | Val Acc: 0.452500 loss: 0.014504\n",
      "Counter 1 of 15\n",
      "Model saved at D:\\CS\\NTU\\BS6207\\Assign\\BS6207-assignment4\\Model\\model_size_80_train__epoch_4\n",
      "processing the 5 epoch\n",
      "[006/050] 2.89 sec(s) Train Acc: 0.712500 Loss: 0.007738 | Val Acc: 0.407500 loss: 0.014272\n",
      "Counter 2 of 15\n",
      "Model saved at D:\\CS\\NTU\\BS6207\\Assign\\BS6207-assignment4\\Model\\model_size_80_train__epoch_5\n",
      "processing the 6 epoch\n",
      "[007/050] 2.96 sec(s) Train Acc: 0.762500 Loss: 0.006767 | Val Acc: 0.375000 loss: 0.014200\n",
      "Counter 3 of 15\n",
      "Model saved at D:\\CS\\NTU\\BS6207\\Assign\\BS6207-assignment4\\Model\\model_size_80_train__epoch_6\n",
      "processing the 7 epoch\n",
      "[008/050] 2.88 sec(s) Train Acc: 0.825000 Loss: 0.005973 | Val Acc: 0.340000 loss: 0.014238\n",
      "Counter 4 of 15\n",
      "Model saved at D:\\CS\\NTU\\BS6207\\Assign\\BS6207-assignment4\\Model\\model_size_80_train__epoch_7\n",
      "processing the 8 epoch\n",
      "[009/050] 2.87 sec(s) Train Acc: 0.837500 Loss: 0.005330 | Val Acc: 0.327500 loss: 0.014359\n",
      "Counter 5 of 15\n",
      "Model saved at D:\\CS\\NTU\\BS6207\\Assign\\BS6207-assignment4\\Model\\model_size_80_train__epoch_8\n",
      "processing the 9 epoch\n",
      "[010/050] 2.92 sec(s) Train Acc: 0.837500 Loss: 0.004771 | Val Acc: 0.347500 loss: 0.014402\n",
      "Counter 6 of 15\n",
      "Model saved at D:\\CS\\NTU\\BS6207\\Assign\\BS6207-assignment4\\Model\\model_size_80_train__epoch_9\n",
      "processing the 10 epoch\n",
      "[011/050] 2.86 sec(s) Train Acc: 0.875000 Loss: 0.004175 | Val Acc: 0.387500 loss: 0.014243\n",
      "Counter 7 of 15\n",
      "Model saved at D:\\CS\\NTU\\BS6207\\Assign\\BS6207-assignment4\\Model\\model_size_80_train__epoch_10\n",
      "processing the 11 epoch\n",
      "[012/050] 2.90 sec(s) Train Acc: 0.900000 Loss: 0.003538 | Val Acc: 0.407500 loss: 0.013952\n",
      "Counter 8 of 15\n",
      "Model saved at D:\\CS\\NTU\\BS6207\\Assign\\BS6207-assignment4\\Model\\model_size_80_train__epoch_11\n",
      "processing the 12 epoch\n",
      "[013/050] 2.85 sec(s) Train Acc: 0.937500 Loss: 0.002915 | Val Acc: 0.430000 loss: 0.013741\n",
      "Counter 9 of 15\n",
      "Model saved at D:\\CS\\NTU\\BS6207\\Assign\\BS6207-assignment4\\Model\\model_size_80_train__epoch_12\n",
      "processing the 13 epoch\n",
      "[014/050] 2.86 sec(s) Train Acc: 0.962500 Loss: 0.002333 | Val Acc: 0.445000 loss: 0.013508\n",
      "Counter 10 of 15\n",
      "Model saved at D:\\CS\\NTU\\BS6207\\Assign\\BS6207-assignment4\\Model\\model_size_80_train__epoch_13\n",
      "processing the 14 epoch\n",
      "[015/050] 2.87 sec(s) Train Acc: 0.987500 Loss: 0.001821 | Val Acc: 0.477500 loss: 0.013131\n",
      "Model saved at D:\\CS\\NTU\\BS6207\\Assign\\BS6207-assignment4\\train_size_80_check_point.txt\n",
      "processing the 15 epoch\n"
     ]
    },
    {
     "name": "stdout",
     "output_type": "stream",
     "text": [
      "[016/050] 2.89 sec(s) Train Acc: 1.000000 Loss: 0.001408 | Val Acc: 0.535000 loss: 0.012702\n",
      "Model saved at D:\\CS\\NTU\\BS6207\\Assign\\BS6207-assignment4\\train_size_80_check_point.txt\n",
      "processing the 16 epoch\n",
      "[017/050] 2.90 sec(s) Train Acc: 1.000000 Loss: 0.001064 | Val Acc: 0.537500 loss: 0.012313\n",
      "Model saved at D:\\CS\\NTU\\BS6207\\Assign\\BS6207-assignment4\\train_size_80_check_point.txt\n",
      "processing the 17 epoch\n",
      "[018/050] 2.90 sec(s) Train Acc: 1.000000 Loss: 0.000771 | Val Acc: 0.542500 loss: 0.012024\n",
      "Model saved at D:\\CS\\NTU\\BS6207\\Assign\\BS6207-assignment4\\train_size_80_check_point.txt\n",
      "processing the 18 epoch\n",
      "[019/050] 2.88 sec(s) Train Acc: 1.000000 Loss: 0.000557 | Val Acc: 0.535000 loss: 0.011767\n",
      "Counter 1 of 15\n",
      "Model saved at D:\\CS\\NTU\\BS6207\\Assign\\BS6207-assignment4\\Model\\model_size_80_train__epoch_18\n",
      "processing the 19 epoch\n",
      "[020/050] 2.91 sec(s) Train Acc: 1.000000 Loss: 0.000413 | Val Acc: 0.550000 loss: 0.011464\n",
      "Model saved at D:\\CS\\NTU\\BS6207\\Assign\\BS6207-assignment4\\train_size_80_check_point.txt\n",
      "processing the 20 epoch\n",
      "[021/050] 2.94 sec(s) Train Acc: 1.000000 Loss: 0.000301 | Val Acc: 0.582500 loss: 0.011114\n",
      "Model saved at D:\\CS\\NTU\\BS6207\\Assign\\BS6207-assignment4\\train_size_80_check_point.txt\n",
      "processing the 21 epoch\n",
      "[022/050] 2.87 sec(s) Train Acc: 1.000000 Loss: 0.000210 | Val Acc: 0.612500 loss: 0.010789\n",
      "Model saved at D:\\CS\\NTU\\BS6207\\Assign\\BS6207-assignment4\\train_size_80_check_point.txt\n",
      "processing the 22 epoch\n",
      "[023/050] 2.91 sec(s) Train Acc: 1.000000 Loss: 0.000148 | Val Acc: 0.620000 loss: 0.010539\n",
      "Model saved at D:\\CS\\NTU\\BS6207\\Assign\\BS6207-assignment4\\train_size_80_check_point.txt\n",
      "processing the 23 epoch\n",
      "[024/050] 2.92 sec(s) Train Acc: 1.000000 Loss: 0.000110 | Val Acc: 0.615000 loss: 0.010362\n",
      "Counter 1 of 15\n",
      "Model saved at D:\\CS\\NTU\\BS6207\\Assign\\BS6207-assignment4\\Model\\model_size_80_train__epoch_23\n",
      "processing the 24 epoch\n",
      "[025/050] 2.93 sec(s) Train Acc: 1.000000 Loss: 0.000085 | Val Acc: 0.612500 loss: 0.010215\n",
      "Counter 2 of 15\n",
      "Model saved at D:\\CS\\NTU\\BS6207\\Assign\\BS6207-assignment4\\Model\\model_size_80_train__epoch_24\n",
      "processing the 25 epoch\n",
      "[026/050] 2.90 sec(s) Train Acc: 1.000000 Loss: 0.000066 | Val Acc: 0.620000 loss: 0.010060\n",
      "Counter 3 of 15\n",
      "Model saved at D:\\CS\\NTU\\BS6207\\Assign\\BS6207-assignment4\\Model\\model_size_80_train__epoch_25\n",
      "processing the 26 epoch\n",
      "[027/050] 2.85 sec(s) Train Acc: 1.000000 Loss: 0.000050 | Val Acc: 0.627500 loss: 0.009897\n",
      "Model saved at D:\\CS\\NTU\\BS6207\\Assign\\BS6207-assignment4\\train_size_80_check_point.txt\n",
      "processing the 27 epoch\n",
      "[028/050] 2.84 sec(s) Train Acc: 1.000000 Loss: 0.000039 | Val Acc: 0.640000 loss: 0.009735\n",
      "Model saved at D:\\CS\\NTU\\BS6207\\Assign\\BS6207-assignment4\\train_size_80_check_point.txt\n",
      "processing the 28 epoch\n",
      "[029/050] 2.84 sec(s) Train Acc: 1.000000 Loss: 0.000031 | Val Acc: 0.645000 loss: 0.009566\n",
      "Model saved at D:\\CS\\NTU\\BS6207\\Assign\\BS6207-assignment4\\train_size_80_check_point.txt\n",
      "processing the 29 epoch\n",
      "[030/050] 2.87 sec(s) Train Acc: 1.000000 Loss: 0.000025 | Val Acc: 0.650000 loss: 0.009386\n",
      "Model saved at D:\\CS\\NTU\\BS6207\\Assign\\BS6207-assignment4\\train_size_80_check_point.txt\n",
      "processing the 30 epoch\n",
      "[031/050] 2.84 sec(s) Train Acc: 1.000000 Loss: 0.000021 | Val Acc: 0.647500 loss: 0.009206\n",
      "Counter 1 of 15\n",
      "Model saved at D:\\CS\\NTU\\BS6207\\Assign\\BS6207-assignment4\\Model\\model_size_80_train__epoch_30\n",
      "processing the 31 epoch\n",
      "[032/050] 2.85 sec(s) Train Acc: 1.000000 Loss: 0.000017 | Val Acc: 0.652500 loss: 0.009049\n",
      "Model saved at D:\\CS\\NTU\\BS6207\\Assign\\BS6207-assignment4\\train_size_80_check_point.txt\n",
      "processing the 32 epoch\n",
      "[033/050] 2.85 sec(s) Train Acc: 1.000000 Loss: 0.000014 | Val Acc: 0.655000 loss: 0.008951\n",
      "Model saved at D:\\CS\\NTU\\BS6207\\Assign\\BS6207-assignment4\\train_size_80_check_point.txt\n",
      "processing the 33 epoch\n",
      "[034/050] 2.86 sec(s) Train Acc: 1.000000 Loss: 0.000012 | Val Acc: 0.657500 loss: 0.008935\n",
      "Model saved at D:\\CS\\NTU\\BS6207\\Assign\\BS6207-assignment4\\train_size_80_check_point.txt\n",
      "processing the 34 epoch\n",
      "[035/050] 2.85 sec(s) Train Acc: 1.000000 Loss: 0.000010 | Val Acc: 0.662500 loss: 0.009004\n",
      "Model saved at D:\\CS\\NTU\\BS6207\\Assign\\BS6207-assignment4\\train_size_80_check_point.txt\n",
      "processing the 35 epoch\n",
      "[036/050] 2.86 sec(s) Train Acc: 1.000000 Loss: 0.000008 | Val Acc: 0.667500 loss: 0.009148\n",
      "Model saved at D:\\CS\\NTU\\BS6207\\Assign\\BS6207-assignment4\\train_size_80_check_point.txt\n",
      "processing the 36 epoch\n",
      "[037/050] 2.85 sec(s) Train Acc: 1.000000 Loss: 0.000007 | Val Acc: 0.662500 loss: 0.009353\n",
      "Counter 1 of 15\n",
      "Model saved at D:\\CS\\NTU\\BS6207\\Assign\\BS6207-assignment4\\Model\\model_size_80_train__epoch_36\n",
      "processing the 37 epoch\n",
      "[038/050] 2.86 sec(s) Train Acc: 1.000000 Loss: 0.000006 | Val Acc: 0.660000 loss: 0.009599\n",
      "Counter 2 of 15\n",
      "Model saved at D:\\CS\\NTU\\BS6207\\Assign\\BS6207-assignment4\\Model\\model_size_80_train__epoch_37\n",
      "processing the 38 epoch\n",
      "[039/050] 2.86 sec(s) Train Acc: 1.000000 Loss: 0.000005 | Val Acc: 0.647500 loss: 0.009869\n",
      "Counter 3 of 15\n",
      "Model saved at D:\\CS\\NTU\\BS6207\\Assign\\BS6207-assignment4\\Model\\model_size_80_train__epoch_38\n",
      "processing the 39 epoch\n",
      "[040/050] 2.86 sec(s) Train Acc: 1.000000 Loss: 0.000005 | Val Acc: 0.642500 loss: 0.010149\n",
      "Counter 4 of 15\n",
      "Model saved at D:\\CS\\NTU\\BS6207\\Assign\\BS6207-assignment4\\Model\\model_size_80_train__epoch_39\n",
      "processing the 40 epoch\n",
      "[041/050] 2.91 sec(s) Train Acc: 1.000000 Loss: 0.000004 | Val Acc: 0.642500 loss: 0.010430\n",
      "Counter 5 of 15\n",
      "Model saved at D:\\CS\\NTU\\BS6207\\Assign\\BS6207-assignment4\\Model\\model_size_80_train__epoch_40\n",
      "processing the 41 epoch\n",
      "[042/050] 3.02 sec(s) Train Acc: 1.000000 Loss: 0.000004 | Val Acc: 0.640000 loss: 0.010703\n",
      "Counter 6 of 15\n",
      "Model saved at D:\\CS\\NTU\\BS6207\\Assign\\BS6207-assignment4\\Model\\model_size_80_train__epoch_41\n",
      "processing the 42 epoch\n",
      "[043/050] 2.94 sec(s) Train Acc: 1.000000 Loss: 0.000004 | Val Acc: 0.645000 loss: 0.010963\n",
      "Counter 7 of 15\n",
      "Model saved at D:\\CS\\NTU\\BS6207\\Assign\\BS6207-assignment4\\Model\\model_size_80_train__epoch_42\n",
      "processing the 43 epoch\n",
      "[044/050] 2.81 sec(s) Train Acc: 1.000000 Loss: 0.000003 | Val Acc: 0.642500 loss: 0.011206\n",
      "Counter 8 of 15\n",
      "Model saved at D:\\CS\\NTU\\BS6207\\Assign\\BS6207-assignment4\\Model\\model_size_80_train__epoch_43\n",
      "processing the 44 epoch\n",
      "[045/050] 2.85 sec(s) Train Acc: 1.000000 Loss: 0.000003 | Val Acc: 0.640000 loss: 0.011434\n",
      "Counter 9 of 15\n",
      "Model saved at D:\\CS\\NTU\\BS6207\\Assign\\BS6207-assignment4\\Model\\model_size_80_train__epoch_44\n",
      "processing the 45 epoch\n",
      "[046/050] 2.86 sec(s) Train Acc: 1.000000 Loss: 0.000003 | Val Acc: 0.637500 loss: 0.011648\n",
      "Counter 10 of 15\n",
      "Model saved at D:\\CS\\NTU\\BS6207\\Assign\\BS6207-assignment4\\Model\\model_size_80_train__epoch_45\n",
      "processing the 46 epoch\n",
      "[047/050] 2.88 sec(s) Train Acc: 1.000000 Loss: 0.000003 | Val Acc: 0.635000 loss: 0.011848\n",
      "Counter 11 of 15\n",
      "Model saved at D:\\CS\\NTU\\BS6207\\Assign\\BS6207-assignment4\\Model\\model_size_80_train__epoch_46\n",
      "processing the 47 epoch\n",
      "[048/050] 2.87 sec(s) Train Acc: 1.000000 Loss: 0.000002 | Val Acc: 0.635000 loss: 0.012036\n",
      "Counter 12 of 15\n",
      "Model saved at D:\\CS\\NTU\\BS6207\\Assign\\BS6207-assignment4\\Model\\model_size_80_train__epoch_47\n",
      "processing the 48 epoch\n",
      "[049/050] 2.88 sec(s) Train Acc: 1.000000 Loss: 0.000002 | Val Acc: 0.635000 loss: 0.012217\n",
      "Counter 13 of 15\n",
      "Model saved at D:\\CS\\NTU\\BS6207\\Assign\\BS6207-assignment4\\Model\\model_size_80_train__epoch_48\n",
      "processing the 49 epoch\n",
      "[050/050] 2.90 sec(s) Train Acc: 1.000000 Loss: 0.000002 | Val Acc: 0.635000 loss: 0.012391\n",
      "Counter 14 of 15\n",
      "Model saved at D:\\CS\\NTU\\BS6207\\Assign\\BS6207-assignment4\\Model\\model_size_80_train__epoch_49\n",
      "processing the 0 epoch\n",
      "[001/050] 3.57 sec(s) Train Acc: 0.187500 Loss: 0.018466 | Val Acc: 0.407500 loss: 0.014839\n",
      "Model saved at D:\\CS\\NTU\\BS6207\\Assign\\BS6207-assignment4\\train_size_160_check_point.txt\n",
      "processing the 1 epoch\n",
      "[002/050] 3.59 sec(s) Train Acc: 0.487500 Loss: 0.014076 | Val Acc: 0.342500 loss: 0.015556\n",
      "Counter 1 of 15\n",
      "Model saved at D:\\CS\\NTU\\BS6207\\Assign\\BS6207-assignment4\\Model\\model_size_160_train__epoch_1\n",
      "processing the 2 epoch\n",
      "[003/050] 3.73 sec(s) Train Acc: 0.693750 Loss: 0.008761 | Val Acc: 0.312500 loss: 0.016521\n",
      "Counter 2 of 15\n",
      "Model saved at D:\\CS\\NTU\\BS6207\\Assign\\BS6207-assignment4\\Model\\model_size_160_train__epoch_2\n",
      "processing the 3 epoch\n"
     ]
    },
    {
     "name": "stdout",
     "output_type": "stream",
     "text": [
      "[004/050] 3.74 sec(s) Train Acc: 0.768750 Loss: 0.007872 | Val Acc: 0.385000 loss: 0.017529\n",
      "Counter 3 of 15\n",
      "Model saved at D:\\CS\\NTU\\BS6207\\Assign\\BS6207-assignment4\\Model\\model_size_160_train__epoch_3\n",
      "processing the 4 epoch\n",
      "[005/050] 3.62 sec(s) Train Acc: 0.762500 Loss: 0.007594 | Val Acc: 0.367500 loss: 0.018614\n",
      "Counter 4 of 15\n",
      "Model saved at D:\\CS\\NTU\\BS6207\\Assign\\BS6207-assignment4\\Model\\model_size_160_train__epoch_4\n",
      "processing the 5 epoch\n",
      "[006/050] 3.67 sec(s) Train Acc: 0.768750 Loss: 0.007418 | Val Acc: 0.375000 loss: 0.018029\n",
      "Counter 5 of 15\n",
      "Model saved at D:\\CS\\NTU\\BS6207\\Assign\\BS6207-assignment4\\Model\\model_size_160_train__epoch_5\n",
      "processing the 6 epoch\n",
      "[007/050] 3.50 sec(s) Train Acc: 0.800000 Loss: 0.005883 | Val Acc: 0.437500 loss: 0.016223\n",
      "Model saved at D:\\CS\\NTU\\BS6207\\Assign\\BS6207-assignment4\\train_size_160_check_point.txt\n",
      "processing the 7 epoch\n",
      "[008/050] 3.70 sec(s) Train Acc: 0.812500 Loss: 0.006084 | Val Acc: 0.505000 loss: 0.015090\n",
      "Model saved at D:\\CS\\NTU\\BS6207\\Assign\\BS6207-assignment4\\train_size_160_check_point.txt\n",
      "processing the 8 epoch\n",
      "[009/050] 3.68 sec(s) Train Acc: 0.818750 Loss: 0.005634 | Val Acc: 0.510000 loss: 0.014332\n",
      "Model saved at D:\\CS\\NTU\\BS6207\\Assign\\BS6207-assignment4\\train_size_160_check_point.txt\n",
      "processing the 9 epoch\n",
      "[010/050] 3.52 sec(s) Train Acc: 0.850000 Loss: 0.004635 | Val Acc: 0.535000 loss: 0.013416\n",
      "Model saved at D:\\CS\\NTU\\BS6207\\Assign\\BS6207-assignment4\\train_size_160_check_point.txt\n",
      "processing the 10 epoch\n",
      "[011/050] 3.51 sec(s) Train Acc: 0.850000 Loss: 0.004626 | Val Acc: 0.580000 loss: 0.012515\n",
      "Model saved at D:\\CS\\NTU\\BS6207\\Assign\\BS6207-assignment4\\train_size_160_check_point.txt\n",
      "processing the 11 epoch\n",
      "[012/050] 3.48 sec(s) Train Acc: 0.856250 Loss: 0.004036 | Val Acc: 0.610000 loss: 0.011859\n",
      "Model saved at D:\\CS\\NTU\\BS6207\\Assign\\BS6207-assignment4\\train_size_160_check_point.txt\n",
      "processing the 12 epoch\n",
      "[013/050] 3.46 sec(s) Train Acc: 0.875000 Loss: 0.003166 | Val Acc: 0.612500 loss: 0.011222\n",
      "Model saved at D:\\CS\\NTU\\BS6207\\Assign\\BS6207-assignment4\\train_size_160_check_point.txt\n",
      "processing the 13 epoch\n",
      "[014/050] 3.48 sec(s) Train Acc: 0.887500 Loss: 0.003258 | Val Acc: 0.680000 loss: 0.010684\n",
      "Model saved at D:\\CS\\NTU\\BS6207\\Assign\\BS6207-assignment4\\train_size_160_check_point.txt\n",
      "processing the 14 epoch\n",
      "[015/050] 3.66 sec(s) Train Acc: 0.931250 Loss: 0.002539 | Val Acc: 0.717500 loss: 0.010259\n",
      "Model saved at D:\\CS\\NTU\\BS6207\\Assign\\BS6207-assignment4\\train_size_160_check_point.txt\n",
      "processing the 15 epoch\n",
      "[016/050] 3.56 sec(s) Train Acc: 0.950000 Loss: 0.002696 | Val Acc: 0.800000 loss: 0.009846\n",
      "Model saved at D:\\CS\\NTU\\BS6207\\Assign\\BS6207-assignment4\\train_size_160_check_point.txt\n",
      "processing the 16 epoch\n",
      "[017/050] 3.50 sec(s) Train Acc: 0.981250 Loss: 0.002396 | Val Acc: 0.680000 loss: 0.011038\n",
      "Counter 1 of 15\n",
      "Model saved at D:\\CS\\NTU\\BS6207\\Assign\\BS6207-assignment4\\Model\\model_size_160_train__epoch_16\n",
      "processing the 17 epoch\n",
      "[018/050] 3.48 sec(s) Train Acc: 0.962500 Loss: 0.001883 | Val Acc: 0.670000 loss: 0.011504\n",
      "Counter 2 of 15\n",
      "Model saved at D:\\CS\\NTU\\BS6207\\Assign\\BS6207-assignment4\\Model\\model_size_160_train__epoch_17\n",
      "processing the 18 epoch\n",
      "[019/050] 3.54 sec(s) Train Acc: 0.956250 Loss: 0.001881 | Val Acc: 0.815000 loss: 0.009246\n",
      "Model saved at D:\\CS\\NTU\\BS6207\\Assign\\BS6207-assignment4\\train_size_160_check_point.txt\n",
      "processing the 19 epoch\n",
      "[020/050] 3.54 sec(s) Train Acc: 0.981250 Loss: 0.001001 | Val Acc: 0.805000 loss: 0.008451\n",
      "Counter 1 of 15\n",
      "Model saved at D:\\CS\\NTU\\BS6207\\Assign\\BS6207-assignment4\\Model\\model_size_160_train__epoch_19\n",
      "processing the 20 epoch\n",
      "[021/050] 3.54 sec(s) Train Acc: 0.981250 Loss: 0.001206 | Val Acc: 0.810000 loss: 0.007886\n",
      "Counter 2 of 15\n",
      "Model saved at D:\\CS\\NTU\\BS6207\\Assign\\BS6207-assignment4\\Model\\model_size_160_train__epoch_20\n",
      "processing the 21 epoch\n",
      "[022/050] 3.52 sec(s) Train Acc: 0.993750 Loss: 0.001077 | Val Acc: 0.772500 loss: 0.008761\n",
      "Counter 3 of 15\n",
      "Model saved at D:\\CS\\NTU\\BS6207\\Assign\\BS6207-assignment4\\Model\\model_size_160_train__epoch_21\n",
      "processing the 22 epoch\n",
      "[023/050] 3.59 sec(s) Train Acc: 1.000000 Loss: 0.000639 | Val Acc: 0.655000 loss: 0.013153\n",
      "Counter 4 of 15\n",
      "Model saved at D:\\CS\\NTU\\BS6207\\Assign\\BS6207-assignment4\\Model\\model_size_160_train__epoch_22\n",
      "processing the 23 epoch\n",
      "[024/050] 3.59 sec(s) Train Acc: 0.993750 Loss: 0.000494 | Val Acc: 0.620000 loss: 0.015136\n",
      "Counter 5 of 15\n",
      "Model saved at D:\\CS\\NTU\\BS6207\\Assign\\BS6207-assignment4\\Model\\model_size_160_train__epoch_23\n",
      "processing the 24 epoch\n",
      "[025/050] 3.70 sec(s) Train Acc: 0.993750 Loss: 0.000339 | Val Acc: 0.605000 loss: 0.015260\n",
      "Counter 6 of 15\n",
      "Model saved at D:\\CS\\NTU\\BS6207\\Assign\\BS6207-assignment4\\Model\\model_size_160_train__epoch_24\n",
      "processing the 25 epoch\n",
      "[026/050] 3.53 sec(s) Train Acc: 0.993750 Loss: 0.000328 | Val Acc: 0.657500 loss: 0.014556\n",
      "Counter 7 of 15\n",
      "Model saved at D:\\CS\\NTU\\BS6207\\Assign\\BS6207-assignment4\\Model\\model_size_160_train__epoch_25\n",
      "processing the 26 epoch\n",
      "[027/050] 3.58 sec(s) Train Acc: 1.000000 Loss: 0.000202 | Val Acc: 0.620000 loss: 0.018233\n",
      "Counter 8 of 15\n",
      "Model saved at D:\\CS\\NTU\\BS6207\\Assign\\BS6207-assignment4\\Model\\model_size_160_train__epoch_26\n",
      "processing the 27 epoch\n",
      "[028/050] 3.56 sec(s) Train Acc: 1.000000 Loss: 0.000325 | Val Acc: 0.645000 loss: 0.015955\n",
      "Counter 9 of 15\n",
      "Model saved at D:\\CS\\NTU\\BS6207\\Assign\\BS6207-assignment4\\Model\\model_size_160_train__epoch_27\n",
      "processing the 28 epoch\n",
      "[029/050] 3.57 sec(s) Train Acc: 1.000000 Loss: 0.000214 | Val Acc: 0.705000 loss: 0.012458\n",
      "Counter 10 of 15\n",
      "Model saved at D:\\CS\\NTU\\BS6207\\Assign\\BS6207-assignment4\\Model\\model_size_160_train__epoch_28\n",
      "processing the 29 epoch\n",
      "[030/050] 3.51 sec(s) Train Acc: 1.000000 Loss: 0.000331 | Val Acc: 0.630000 loss: 0.016131\n",
      "Counter 11 of 15\n",
      "Model saved at D:\\CS\\NTU\\BS6207\\Assign\\BS6207-assignment4\\Model\\model_size_160_train__epoch_29\n",
      "processing the 30 epoch\n",
      "[031/050] 3.58 sec(s) Train Acc: 1.000000 Loss: 0.000119 | Val Acc: 0.545000 loss: 0.026220\n",
      "Counter 12 of 15\n",
      "Model saved at D:\\CS\\NTU\\BS6207\\Assign\\BS6207-assignment4\\Model\\model_size_160_train__epoch_30\n",
      "processing the 31 epoch\n",
      "[032/050] 3.51 sec(s) Train Acc: 1.000000 Loss: 0.000337 | Val Acc: 0.580000 loss: 0.024312\n",
      "Counter 13 of 15\n",
      "Model saved at D:\\CS\\NTU\\BS6207\\Assign\\BS6207-assignment4\\Model\\model_size_160_train__epoch_31\n",
      "processing the 32 epoch\n",
      "[033/050] 3.57 sec(s) Train Acc: 0.993750 Loss: 0.000396 | Val Acc: 0.745000 loss: 0.013044\n",
      "Counter 14 of 15\n",
      "Model saved at D:\\CS\\NTU\\BS6207\\Assign\\BS6207-assignment4\\Model\\model_size_160_train__epoch_32\n",
      "processing the 33 epoch\n",
      "[034/050] 3.56 sec(s) Train Acc: 1.000000 Loss: 0.000084 | Val Acc: 0.792500 loss: 0.011038\n",
      "Counter 15 of 15\n",
      "Model saved at D:\\CS\\NTU\\BS6207\\Assign\\BS6207-assignment4\\Model\\model_size_160_train__epoch_33\n",
      "Early stopping with best_acc:  0.815 and val_acc for this epoch:  0.7925 ...\n",
      "processing the 0 epoch\n",
      "[001/050] 5.03 sec(s) Train Acc: 0.450000 Loss: 0.014305 | Val Acc: 0.257500 loss: 0.013837\n",
      "Model saved at D:\\CS\\NTU\\BS6207\\Assign\\BS6207-assignment4\\train_size_320_check_point.txt\n",
      "processing the 1 epoch\n",
      "[002/050] 4.85 sec(s) Train Acc: 0.675000 Loss: 0.008082 | Val Acc: 0.512500 loss: 0.011984\n",
      "Model saved at D:\\CS\\NTU\\BS6207\\Assign\\BS6207-assignment4\\train_size_320_check_point.txt\n",
      "processing the 2 epoch\n",
      "[003/050] 4.89 sec(s) Train Acc: 0.712500 Loss: 0.007015 | Val Acc: 0.532500 loss: 0.011757\n",
      "Model saved at D:\\CS\\NTU\\BS6207\\Assign\\BS6207-assignment4\\train_size_320_check_point.txt\n",
      "processing the 3 epoch\n",
      "[004/050] 4.82 sec(s) Train Acc: 0.715625 Loss: 0.006812 | Val Acc: 0.542500 loss: 0.011984\n",
      "Model saved at D:\\CS\\NTU\\BS6207\\Assign\\BS6207-assignment4\\train_size_320_check_point.txt\n",
      "processing the 4 epoch\n",
      "[005/050] 4.82 sec(s) Train Acc: 0.743750 Loss: 0.006134 | Val Acc: 0.605000 loss: 0.011390\n",
      "Model saved at D:\\CS\\NTU\\BS6207\\Assign\\BS6207-assignment4\\train_size_320_check_point.txt\n",
      "processing the 5 epoch\n",
      "[006/050] 4.85 sec(s) Train Acc: 0.778125 Loss: 0.005593 | Val Acc: 0.642500 loss: 0.010044\n",
      "Model saved at D:\\CS\\NTU\\BS6207\\Assign\\BS6207-assignment4\\train_size_320_check_point.txt\n",
      "processing the 6 epoch\n",
      "[007/050] 4.83 sec(s) Train Acc: 0.781250 Loss: 0.005285 | Val Acc: 0.695000 loss: 0.008518\n",
      "Model saved at D:\\CS\\NTU\\BS6207\\Assign\\BS6207-assignment4\\train_size_320_check_point.txt\n",
      "processing the 7 epoch\n"
     ]
    },
    {
     "name": "stdout",
     "output_type": "stream",
     "text": [
      "[008/050] 4.87 sec(s) Train Acc: 0.790625 Loss: 0.004910 | Val Acc: 0.665000 loss: 0.007828\n",
      "Counter 1 of 15\n",
      "Model saved at D:\\CS\\NTU\\BS6207\\Assign\\BS6207-assignment4\\Model\\model_size_320_train__epoch_7\n",
      "processing the 8 epoch\n",
      "[009/050] 4.85 sec(s) Train Acc: 0.800000 Loss: 0.004699 | Val Acc: 0.782500 loss: 0.006917\n",
      "Model saved at D:\\CS\\NTU\\BS6207\\Assign\\BS6207-assignment4\\train_size_320_check_point.txt\n",
      "processing the 9 epoch\n",
      "[010/050] 4.79 sec(s) Train Acc: 0.840625 Loss: 0.004357 | Val Acc: 0.710000 loss: 0.006718\n",
      "Counter 1 of 15\n",
      "Model saved at D:\\CS\\NTU\\BS6207\\Assign\\BS6207-assignment4\\Model\\model_size_320_train__epoch_9\n",
      "processing the 10 epoch\n",
      "[011/050] 4.98 sec(s) Train Acc: 0.840625 Loss: 0.004237 | Val Acc: 0.792500 loss: 0.005997\n",
      "Model saved at D:\\CS\\NTU\\BS6207\\Assign\\BS6207-assignment4\\train_size_320_check_point.txt\n",
      "processing the 11 epoch\n",
      "[012/050] 4.86 sec(s) Train Acc: 0.871875 Loss: 0.003839 | Val Acc: 0.780000 loss: 0.005896\n",
      "Counter 1 of 15\n",
      "Model saved at D:\\CS\\NTU\\BS6207\\Assign\\BS6207-assignment4\\Model\\model_size_320_train__epoch_11\n",
      "processing the 12 epoch\n",
      "[013/050] 4.78 sec(s) Train Acc: 0.850000 Loss: 0.003512 | Val Acc: 0.802500 loss: 0.005794\n",
      "Model saved at D:\\CS\\NTU\\BS6207\\Assign\\BS6207-assignment4\\train_size_320_check_point.txt\n",
      "processing the 13 epoch\n",
      "[014/050] 4.87 sec(s) Train Acc: 0.875000 Loss: 0.003315 | Val Acc: 0.572500 loss: 0.010443\n",
      "Counter 1 of 15\n",
      "Model saved at D:\\CS\\NTU\\BS6207\\Assign\\BS6207-assignment4\\Model\\model_size_320_train__epoch_13\n",
      "processing the 14 epoch\n",
      "[015/050] 4.85 sec(s) Train Acc: 0.865625 Loss: 0.003250 | Val Acc: 0.775000 loss: 0.005607\n",
      "Counter 2 of 15\n",
      "Model saved at D:\\CS\\NTU\\BS6207\\Assign\\BS6207-assignment4\\Model\\model_size_320_train__epoch_14\n",
      "processing the 15 epoch\n",
      "[016/050] 4.82 sec(s) Train Acc: 0.871875 Loss: 0.002860 | Val Acc: 0.770000 loss: 0.006091\n",
      "Counter 3 of 15\n",
      "Model saved at D:\\CS\\NTU\\BS6207\\Assign\\BS6207-assignment4\\Model\\model_size_320_train__epoch_15\n",
      "processing the 16 epoch\n",
      "[017/050] 4.87 sec(s) Train Acc: 0.918750 Loss: 0.002275 | Val Acc: 0.697500 loss: 0.006680\n",
      "Counter 4 of 15\n",
      "Model saved at D:\\CS\\NTU\\BS6207\\Assign\\BS6207-assignment4\\Model\\model_size_320_train__epoch_16\n",
      "processing the 17 epoch\n",
      "[018/050] 4.81 sec(s) Train Acc: 0.956250 Loss: 0.001847 | Val Acc: 0.745000 loss: 0.005801\n",
      "Counter 5 of 15\n",
      "Model saved at D:\\CS\\NTU\\BS6207\\Assign\\BS6207-assignment4\\Model\\model_size_320_train__epoch_17\n",
      "processing the 18 epoch\n",
      "[019/050] 4.79 sec(s) Train Acc: 0.950000 Loss: 0.001511 | Val Acc: 0.717500 loss: 0.006136\n",
      "Counter 6 of 15\n",
      "Model saved at D:\\CS\\NTU\\BS6207\\Assign\\BS6207-assignment4\\Model\\model_size_320_train__epoch_18\n",
      "processing the 19 epoch\n",
      "[020/050] 4.99 sec(s) Train Acc: 0.959375 Loss: 0.001208 | Val Acc: 0.662500 loss: 0.007722\n",
      "Counter 7 of 15\n",
      "Model saved at D:\\CS\\NTU\\BS6207\\Assign\\BS6207-assignment4\\Model\\model_size_320_train__epoch_19\n",
      "processing the 20 epoch\n",
      "[021/050] 4.84 sec(s) Train Acc: 0.981250 Loss: 0.000853 | Val Acc: 0.782500 loss: 0.005451\n",
      "Counter 8 of 15\n",
      "Model saved at D:\\CS\\NTU\\BS6207\\Assign\\BS6207-assignment4\\Model\\model_size_320_train__epoch_20\n",
      "processing the 21 epoch\n",
      "[022/050] 4.85 sec(s) Train Acc: 0.984375 Loss: 0.000670 | Val Acc: 0.672500 loss: 0.007662\n",
      "Counter 9 of 15\n",
      "Model saved at D:\\CS\\NTU\\BS6207\\Assign\\BS6207-assignment4\\Model\\model_size_320_train__epoch_21\n",
      "processing the 22 epoch\n",
      "[023/050] 4.95 sec(s) Train Acc: 0.990625 Loss: 0.000481 | Val Acc: 0.727500 loss: 0.006305\n",
      "Counter 10 of 15\n",
      "Model saved at D:\\CS\\NTU\\BS6207\\Assign\\BS6207-assignment4\\Model\\model_size_320_train__epoch_22\n",
      "processing the 23 epoch\n",
      "[024/050] 4.80 sec(s) Train Acc: 0.984375 Loss: 0.000696 | Val Acc: 0.567500 loss: 0.021049\n",
      "Counter 11 of 15\n",
      "Model saved at D:\\CS\\NTU\\BS6207\\Assign\\BS6207-assignment4\\Model\\model_size_320_train__epoch_23\n",
      "processing the 24 epoch\n",
      "[025/050] 4.84 sec(s) Train Acc: 0.971875 Loss: 0.000690 | Val Acc: 0.777500 loss: 0.005616\n",
      "Counter 12 of 15\n",
      "Model saved at D:\\CS\\NTU\\BS6207\\Assign\\BS6207-assignment4\\Model\\model_size_320_train__epoch_24\n",
      "processing the 25 epoch\n",
      "[026/050] 4.87 sec(s) Train Acc: 0.981250 Loss: 0.000640 | Val Acc: 0.547500 loss: 0.019132\n",
      "Counter 13 of 15\n",
      "Model saved at D:\\CS\\NTU\\BS6207\\Assign\\BS6207-assignment4\\Model\\model_size_320_train__epoch_25\n",
      "processing the 26 epoch\n",
      "[027/050] 4.87 sec(s) Train Acc: 0.993750 Loss: 0.000329 | Val Acc: 0.530000 loss: 0.029366\n",
      "Counter 14 of 15\n",
      "Model saved at D:\\CS\\NTU\\BS6207\\Assign\\BS6207-assignment4\\Model\\model_size_320_train__epoch_26\n",
      "processing the 27 epoch\n",
      "[028/050] 4.86 sec(s) Train Acc: 1.000000 Loss: 0.000308 | Val Acc: 0.717500 loss: 0.009329\n",
      "Counter 15 of 15\n",
      "Model saved at D:\\CS\\NTU\\BS6207\\Assign\\BS6207-assignment4\\Model\\model_size_320_train__epoch_27\n",
      "Early stopping with best_acc:  0.8025 and val_acc for this epoch:  0.7175 ...\n",
      "processing the 0 epoch\n",
      "[001/050] 7.54 sec(s) Train Acc: 0.521875 Loss: 0.009898 | Val Acc: 0.480000 loss: 0.014556\n",
      "Model saved at D:\\CS\\NTU\\BS6207\\Assign\\BS6207-assignment4\\train_size_640_check_point.txt\n",
      "processing the 1 epoch\n",
      "[002/050] 7.47 sec(s) Train Acc: 0.671875 Loss: 0.006166 | Val Acc: 0.407500 loss: 0.016134\n",
      "Counter 1 of 15\n",
      "Model saved at D:\\CS\\NTU\\BS6207\\Assign\\BS6207-assignment4\\Model\\model_size_640_train__epoch_1\n",
      "processing the 2 epoch\n",
      "[003/050] 7.57 sec(s) Train Acc: 0.701562 Loss: 0.005333 | Val Acc: 0.482500 loss: 0.013518\n",
      "Model saved at D:\\CS\\NTU\\BS6207\\Assign\\BS6207-assignment4\\train_size_640_check_point.txt\n",
      "processing the 3 epoch\n",
      "[004/050] 7.49 sec(s) Train Acc: 0.712500 Loss: 0.004977 | Val Acc: 0.542500 loss: 0.011491\n",
      "Model saved at D:\\CS\\NTU\\BS6207\\Assign\\BS6207-assignment4\\train_size_640_check_point.txt\n",
      "processing the 4 epoch\n",
      "[005/050] 7.45 sec(s) Train Acc: 0.759375 Loss: 0.004761 | Val Acc: 0.640000 loss: 0.010855\n",
      "Model saved at D:\\CS\\NTU\\BS6207\\Assign\\BS6207-assignment4\\train_size_640_check_point.txt\n",
      "processing the 5 epoch\n",
      "[006/050] 7.39 sec(s) Train Acc: 0.801562 Loss: 0.004073 | Val Acc: 0.677500 loss: 0.009300\n",
      "Model saved at D:\\CS\\NTU\\BS6207\\Assign\\BS6207-assignment4\\train_size_640_check_point.txt\n",
      "processing the 6 epoch\n",
      "[007/050] 7.45 sec(s) Train Acc: 0.812500 Loss: 0.003827 | Val Acc: 0.720000 loss: 0.008734\n",
      "Model saved at D:\\CS\\NTU\\BS6207\\Assign\\BS6207-assignment4\\train_size_640_check_point.txt\n",
      "processing the 7 epoch\n",
      "[008/050] 7.49 sec(s) Train Acc: 0.834375 Loss: 0.003427 | Val Acc: 0.785000 loss: 0.007858\n",
      "Model saved at D:\\CS\\NTU\\BS6207\\Assign\\BS6207-assignment4\\train_size_640_check_point.txt\n",
      "processing the 8 epoch\n",
      "[009/050] 7.45 sec(s) Train Acc: 0.854688 Loss: 0.002810 | Val Acc: 0.720000 loss: 0.008351\n",
      "Counter 1 of 15\n",
      "Model saved at D:\\CS\\NTU\\BS6207\\Assign\\BS6207-assignment4\\Model\\model_size_640_train__epoch_8\n",
      "processing the 9 epoch\n",
      "[010/050] 7.52 sec(s) Train Acc: 0.882812 Loss: 0.002630 | Val Acc: 0.777500 loss: 0.006782\n",
      "Counter 2 of 15\n",
      "Model saved at D:\\CS\\NTU\\BS6207\\Assign\\BS6207-assignment4\\Model\\model_size_640_train__epoch_9\n",
      "processing the 10 epoch\n",
      "[011/050] 7.58 sec(s) Train Acc: 0.890625 Loss: 0.002400 | Val Acc: 0.765000 loss: 0.006847\n",
      "Counter 3 of 15\n",
      "Model saved at D:\\CS\\NTU\\BS6207\\Assign\\BS6207-assignment4\\Model\\model_size_640_train__epoch_10\n",
      "processing the 11 epoch\n",
      "[012/050] 7.63 sec(s) Train Acc: 0.900000 Loss: 0.002126 | Val Acc: 0.822500 loss: 0.005756\n",
      "Model saved at D:\\CS\\NTU\\BS6207\\Assign\\BS6207-assignment4\\train_size_640_check_point.txt\n",
      "processing the 12 epoch\n",
      "[013/050] 7.94 sec(s) Train Acc: 0.931250 Loss: 0.001597 | Val Acc: 0.685000 loss: 0.007603\n",
      "Counter 1 of 15\n",
      "Model saved at D:\\CS\\NTU\\BS6207\\Assign\\BS6207-assignment4\\Model\\model_size_640_train__epoch_12\n",
      "processing the 13 epoch\n",
      "[014/050] 7.39 sec(s) Train Acc: 0.962500 Loss: 0.001248 | Val Acc: 0.702500 loss: 0.007388\n",
      "Counter 2 of 15\n",
      "Model saved at D:\\CS\\NTU\\BS6207\\Assign\\BS6207-assignment4\\Model\\model_size_640_train__epoch_13\n",
      "processing the 14 epoch\n",
      "[015/050] 7.49 sec(s) Train Acc: 0.948438 Loss: 0.001110 | Val Acc: 0.702500 loss: 0.006495\n",
      "Counter 3 of 15\n",
      "Model saved at D:\\CS\\NTU\\BS6207\\Assign\\BS6207-assignment4\\Model\\model_size_640_train__epoch_14\n",
      "processing the 15 epoch\n",
      "[016/050] 7.44 sec(s) Train Acc: 0.978125 Loss: 0.000753 | Val Acc: 0.860000 loss: 0.005265\n",
      "Model saved at D:\\CS\\NTU\\BS6207\\Assign\\BS6207-assignment4\\train_size_640_check_point.txt\n",
      "processing the 16 epoch\n"
     ]
    },
    {
     "name": "stdout",
     "output_type": "stream",
     "text": [
      "[017/050] 7.41 sec(s) Train Acc: 0.976562 Loss: 0.000556 | Val Acc: 0.737500 loss: 0.008707\n",
      "Counter 1 of 15\n",
      "Model saved at D:\\CS\\NTU\\BS6207\\Assign\\BS6207-assignment4\\Model\\model_size_640_train__epoch_16\n",
      "processing the 17 epoch\n",
      "[018/050] 7.52 sec(s) Train Acc: 0.976562 Loss: 0.000607 | Val Acc: 0.580000 loss: 0.026574\n",
      "Counter 2 of 15\n",
      "Model saved at D:\\CS\\NTU\\BS6207\\Assign\\BS6207-assignment4\\Model\\model_size_640_train__epoch_17\n",
      "processing the 18 epoch\n",
      "[019/050] 7.40 sec(s) Train Acc: 0.957812 Loss: 0.000820 | Val Acc: 0.845000 loss: 0.005829\n",
      "Counter 3 of 15\n",
      "Model saved at D:\\CS\\NTU\\BS6207\\Assign\\BS6207-assignment4\\Model\\model_size_640_train__epoch_18\n",
      "processing the 19 epoch\n",
      "[020/050] 7.42 sec(s) Train Acc: 0.967187 Loss: 0.000829 | Val Acc: 0.805000 loss: 0.007372\n",
      "Counter 4 of 15\n",
      "Model saved at D:\\CS\\NTU\\BS6207\\Assign\\BS6207-assignment4\\Model\\model_size_640_train__epoch_19\n",
      "processing the 20 epoch\n",
      "[021/050] 7.42 sec(s) Train Acc: 0.971875 Loss: 0.000629 | Val Acc: 0.692500 loss: 0.011932\n",
      "Counter 5 of 15\n",
      "Model saved at D:\\CS\\NTU\\BS6207\\Assign\\BS6207-assignment4\\Model\\model_size_640_train__epoch_20\n",
      "processing the 21 epoch\n",
      "[022/050] 7.46 sec(s) Train Acc: 0.985938 Loss: 0.000362 | Val Acc: 0.822500 loss: 0.007654\n",
      "Counter 6 of 15\n",
      "Model saved at D:\\CS\\NTU\\BS6207\\Assign\\BS6207-assignment4\\Model\\model_size_640_train__epoch_21\n",
      "processing the 22 epoch\n",
      "[023/050] 7.60 sec(s) Train Acc: 0.990625 Loss: 0.000277 | Val Acc: 0.795000 loss: 0.005427\n",
      "Counter 7 of 15\n",
      "Model saved at D:\\CS\\NTU\\BS6207\\Assign\\BS6207-assignment4\\Model\\model_size_640_train__epoch_22\n",
      "processing the 23 epoch\n",
      "[024/050] 7.44 sec(s) Train Acc: 0.995313 Loss: 0.000215 | Val Acc: 0.770000 loss: 0.007288\n",
      "Counter 8 of 15\n",
      "Model saved at D:\\CS\\NTU\\BS6207\\Assign\\BS6207-assignment4\\Model\\model_size_640_train__epoch_23\n",
      "processing the 24 epoch\n",
      "[025/050] 7.50 sec(s) Train Acc: 1.000000 Loss: 0.000106 | Val Acc: 0.610000 loss: 0.021510\n",
      "Counter 9 of 15\n",
      "Model saved at D:\\CS\\NTU\\BS6207\\Assign\\BS6207-assignment4\\Model\\model_size_640_train__epoch_24\n",
      "processing the 25 epoch\n",
      "[026/050] 7.52 sec(s) Train Acc: 0.995313 Loss: 0.000171 | Val Acc: 0.737500 loss: 0.012215\n",
      "Counter 10 of 15\n",
      "Model saved at D:\\CS\\NTU\\BS6207\\Assign\\BS6207-assignment4\\Model\\model_size_640_train__epoch_25\n",
      "processing the 26 epoch\n",
      "[027/050] 7.58 sec(s) Train Acc: 0.992188 Loss: 0.000189 | Val Acc: 0.727500 loss: 0.009689\n",
      "Counter 11 of 15\n",
      "Model saved at D:\\CS\\NTU\\BS6207\\Assign\\BS6207-assignment4\\Model\\model_size_640_train__epoch_26\n",
      "processing the 27 epoch\n",
      "[028/050] 7.58 sec(s) Train Acc: 0.995313 Loss: 0.000137 | Val Acc: 0.777500 loss: 0.009593\n",
      "Counter 12 of 15\n",
      "Model saved at D:\\CS\\NTU\\BS6207\\Assign\\BS6207-assignment4\\Model\\model_size_640_train__epoch_27\n",
      "processing the 28 epoch\n",
      "[029/050] 7.49 sec(s) Train Acc: 0.998437 Loss: 0.000076 | Val Acc: 0.807500 loss: 0.007904\n",
      "Counter 13 of 15\n",
      "Model saved at D:\\CS\\NTU\\BS6207\\Assign\\BS6207-assignment4\\Model\\model_size_640_train__epoch_28\n",
      "processing the 29 epoch\n",
      "[030/050] 7.51 sec(s) Train Acc: 1.000000 Loss: 0.000033 | Val Acc: 0.735000 loss: 0.008808\n",
      "Counter 14 of 15\n",
      "Model saved at D:\\CS\\NTU\\BS6207\\Assign\\BS6207-assignment4\\Model\\model_size_640_train__epoch_29\n",
      "processing the 30 epoch\n",
      "[031/050] 7.48 sec(s) Train Acc: 1.000000 Loss: 0.000036 | Val Acc: 0.730000 loss: 0.009132\n",
      "Counter 15 of 15\n",
      "Model saved at D:\\CS\\NTU\\BS6207\\Assign\\BS6207-assignment4\\Model\\model_size_640_train__epoch_30\n",
      "Early stopping with best_acc:  0.86 and val_acc for this epoch:  0.73 ...\n",
      "processing the 0 epoch\n",
      "[001/050] 12.95 sec(s) Train Acc: 0.590625 Loss: 0.008456 | Val Acc: 0.390000 loss: 0.016166\n",
      "Model saved at D:\\CS\\NTU\\BS6207\\Assign\\BS6207-assignment4\\train_size_1280_check_point.txt\n",
      "processing the 1 epoch\n",
      "[002/050] 12.67 sec(s) Train Acc: 0.671094 Loss: 0.006226 | Val Acc: 0.482500 loss: 0.011976\n",
      "Model saved at D:\\CS\\NTU\\BS6207\\Assign\\BS6207-assignment4\\train_size_1280_check_point.txt\n",
      "processing the 2 epoch\n",
      "[003/050] 12.65 sec(s) Train Acc: 0.700000 Loss: 0.005469 | Val Acc: 0.677500 loss: 0.010883\n",
      "Model saved at D:\\CS\\NTU\\BS6207\\Assign\\BS6207-assignment4\\train_size_1280_check_point.txt\n",
      "processing the 3 epoch\n",
      "[004/050] 12.73 sec(s) Train Acc: 0.740625 Loss: 0.004951 | Val Acc: 0.710000 loss: 0.009812\n",
      "Model saved at D:\\CS\\NTU\\BS6207\\Assign\\BS6207-assignment4\\train_size_1280_check_point.txt\n",
      "processing the 4 epoch\n",
      "[005/050] 12.72 sec(s) Train Acc: 0.769531 Loss: 0.004418 | Val Acc: 0.787500 loss: 0.008343\n",
      "Model saved at D:\\CS\\NTU\\BS6207\\Assign\\BS6207-assignment4\\train_size_1280_check_point.txt\n",
      "processing the 5 epoch\n",
      "[006/050] 12.73 sec(s) Train Acc: 0.807031 Loss: 0.003909 | Val Acc: 0.645000 loss: 0.011249\n",
      "Counter 1 of 15\n",
      "Model saved at D:\\CS\\NTU\\BS6207\\Assign\\BS6207-assignment4\\Model\\model_size_1280_train__epoch_5\n",
      "processing the 6 epoch\n",
      "[007/050] 12.83 sec(s) Train Acc: 0.832031 Loss: 0.003383 | Val Acc: 0.595000 loss: 0.010976\n",
      "Counter 2 of 15\n",
      "Model saved at D:\\CS\\NTU\\BS6207\\Assign\\BS6207-assignment4\\Model\\model_size_1280_train__epoch_6\n",
      "processing the 7 epoch\n",
      "[008/050] 12.84 sec(s) Train Acc: 0.847656 Loss: 0.003102 | Val Acc: 0.710000 loss: 0.007642\n",
      "Counter 3 of 15\n",
      "Model saved at D:\\CS\\NTU\\BS6207\\Assign\\BS6207-assignment4\\Model\\model_size_1280_train__epoch_7\n",
      "processing the 8 epoch\n",
      "[009/050] 13.04 sec(s) Train Acc: 0.880469 Loss: 0.002562 | Val Acc: 0.517500 loss: 0.034751\n",
      "Counter 4 of 15\n",
      "Model saved at D:\\CS\\NTU\\BS6207\\Assign\\BS6207-assignment4\\Model\\model_size_1280_train__epoch_8\n",
      "processing the 9 epoch\n",
      "[010/050] 12.78 sec(s) Train Acc: 0.889844 Loss: 0.002383 | Val Acc: 0.840000 loss: 0.006872\n",
      "Model saved at D:\\CS\\NTU\\BS6207\\Assign\\BS6207-assignment4\\train_size_1280_check_point.txt\n",
      "processing the 10 epoch\n",
      "[011/050] 12.84 sec(s) Train Acc: 0.908594 Loss: 0.002014 | Val Acc: 0.855000 loss: 0.004346\n",
      "Model saved at D:\\CS\\NTU\\BS6207\\Assign\\BS6207-assignment4\\train_size_1280_check_point.txt\n",
      "processing the 11 epoch\n",
      "[012/050] 12.84 sec(s) Train Acc: 0.927344 Loss: 0.001618 | Val Acc: 0.742500 loss: 0.010713\n",
      "Counter 1 of 15\n",
      "Model saved at D:\\CS\\NTU\\BS6207\\Assign\\BS6207-assignment4\\Model\\model_size_1280_train__epoch_11\n",
      "processing the 12 epoch\n",
      "[013/050] 12.79 sec(s) Train Acc: 0.928906 Loss: 0.001480 | Val Acc: 0.742500 loss: 0.006380\n",
      "Counter 2 of 15\n",
      "Model saved at D:\\CS\\NTU\\BS6207\\Assign\\BS6207-assignment4\\Model\\model_size_1280_train__epoch_12\n",
      "processing the 13 epoch\n",
      "[014/050] 12.73 sec(s) Train Acc: 0.948438 Loss: 0.001243 | Val Acc: 0.710000 loss: 0.009082\n",
      "Counter 3 of 15\n",
      "Model saved at D:\\CS\\NTU\\BS6207\\Assign\\BS6207-assignment4\\Model\\model_size_1280_train__epoch_13\n",
      "processing the 14 epoch\n",
      "[015/050] 12.86 sec(s) Train Acc: 0.966406 Loss: 0.000880 | Val Acc: 0.635000 loss: 0.011078\n",
      "Counter 4 of 15\n",
      "Model saved at D:\\CS\\NTU\\BS6207\\Assign\\BS6207-assignment4\\Model\\model_size_1280_train__epoch_14\n",
      "processing the 15 epoch\n",
      "[016/050] 12.94 sec(s) Train Acc: 0.950000 Loss: 0.001119 | Val Acc: 0.745000 loss: 0.011056\n",
      "Counter 5 of 15\n",
      "Model saved at D:\\CS\\NTU\\BS6207\\Assign\\BS6207-assignment4\\Model\\model_size_1280_train__epoch_15\n",
      "processing the 16 epoch\n",
      "[017/050] 13.12 sec(s) Train Acc: 0.983594 Loss: 0.000512 | Val Acc: 0.810000 loss: 0.006618\n",
      "Counter 6 of 15\n",
      "Model saved at D:\\CS\\NTU\\BS6207\\Assign\\BS6207-assignment4\\Model\\model_size_1280_train__epoch_16\n",
      "processing the 17 epoch\n",
      "[018/050] 12.94 sec(s) Train Acc: 0.989844 Loss: 0.000350 | Val Acc: 0.720000 loss: 0.011318\n",
      "Counter 7 of 15\n",
      "Model saved at D:\\CS\\NTU\\BS6207\\Assign\\BS6207-assignment4\\Model\\model_size_1280_train__epoch_17\n",
      "processing the 18 epoch\n",
      "[019/050] 12.92 sec(s) Train Acc: 0.990625 Loss: 0.000276 | Val Acc: 0.877500 loss: 0.006284\n",
      "Model saved at D:\\CS\\NTU\\BS6207\\Assign\\BS6207-assignment4\\train_size_1280_check_point.txt\n",
      "processing the 19 epoch\n",
      "[020/050] 12.76 sec(s) Train Acc: 0.987500 Loss: 0.000352 | Val Acc: 0.720000 loss: 0.011540\n",
      "Counter 1 of 15\n",
      "Model saved at D:\\CS\\NTU\\BS6207\\Assign\\BS6207-assignment4\\Model\\model_size_1280_train__epoch_19\n",
      "processing the 20 epoch\n",
      "[021/050] 12.92 sec(s) Train Acc: 0.985156 Loss: 0.000358 | Val Acc: 0.840000 loss: 0.006745\n",
      "Counter 2 of 15\n",
      "Model saved at D:\\CS\\NTU\\BS6207\\Assign\\BS6207-assignment4\\Model\\model_size_1280_train__epoch_20\n",
      "processing the 21 epoch\n",
      "[022/050] 12.82 sec(s) Train Acc: 0.989844 Loss: 0.000242 | Val Acc: 0.762500 loss: 0.009635\n",
      "Counter 3 of 15\n",
      "Model saved at D:\\CS\\NTU\\BS6207\\Assign\\BS6207-assignment4\\Model\\model_size_1280_train__epoch_21\n",
      "processing the 22 epoch\n"
     ]
    },
    {
     "name": "stdout",
     "output_type": "stream",
     "text": [
      "[023/050] 12.90 sec(s) Train Acc: 0.994531 Loss: 0.000190 | Val Acc: 0.882500 loss: 0.004045\n",
      "Model saved at D:\\CS\\NTU\\BS6207\\Assign\\BS6207-assignment4\\train_size_1280_check_point.txt\n",
      "processing the 23 epoch\n",
      "[024/050] 12.89 sec(s) Train Acc: 0.990625 Loss: 0.000250 | Val Acc: 0.642500 loss: 0.020953\n",
      "Counter 1 of 15\n",
      "Model saved at D:\\CS\\NTU\\BS6207\\Assign\\BS6207-assignment4\\Model\\model_size_1280_train__epoch_23\n",
      "processing the 24 epoch\n",
      "[025/050] 12.80 sec(s) Train Acc: 1.000000 Loss: 0.000116 | Val Acc: 0.787500 loss: 0.010320\n",
      "Counter 2 of 15\n",
      "Model saved at D:\\CS\\NTU\\BS6207\\Assign\\BS6207-assignment4\\Model\\model_size_1280_train__epoch_24\n",
      "processing the 25 epoch\n",
      "[026/050] 12.84 sec(s) Train Acc: 0.988281 Loss: 0.000356 | Val Acc: 0.737500 loss: 0.009803\n",
      "Counter 3 of 15\n",
      "Model saved at D:\\CS\\NTU\\BS6207\\Assign\\BS6207-assignment4\\Model\\model_size_1280_train__epoch_25\n",
      "processing the 26 epoch\n",
      "[027/050] 12.79 sec(s) Train Acc: 0.990625 Loss: 0.000207 | Val Acc: 0.642500 loss: 0.018678\n",
      "Counter 4 of 15\n",
      "Model saved at D:\\CS\\NTU\\BS6207\\Assign\\BS6207-assignment4\\Model\\model_size_1280_train__epoch_26\n",
      "processing the 27 epoch\n",
      "[028/050] 12.87 sec(s) Train Acc: 0.995313 Loss: 0.000139 | Val Acc: 0.822500 loss: 0.007441\n",
      "Counter 5 of 15\n",
      "Model saved at D:\\CS\\NTU\\BS6207\\Assign\\BS6207-assignment4\\Model\\model_size_1280_train__epoch_27\n",
      "processing the 28 epoch\n",
      "[029/050] 12.92 sec(s) Train Acc: 0.999219 Loss: 0.000086 | Val Acc: 0.732500 loss: 0.010636\n",
      "Counter 6 of 15\n",
      "Model saved at D:\\CS\\NTU\\BS6207\\Assign\\BS6207-assignment4\\Model\\model_size_1280_train__epoch_28\n",
      "processing the 29 epoch\n",
      "[030/050] 12.90 sec(s) Train Acc: 0.999219 Loss: 0.000048 | Val Acc: 0.682500 loss: 0.014752\n",
      "Counter 7 of 15\n",
      "Model saved at D:\\CS\\NTU\\BS6207\\Assign\\BS6207-assignment4\\Model\\model_size_1280_train__epoch_29\n",
      "processing the 30 epoch\n",
      "[031/050] 12.87 sec(s) Train Acc: 1.000000 Loss: 0.000020 | Val Acc: 0.700000 loss: 0.013482\n",
      "Counter 8 of 15\n",
      "Model saved at D:\\CS\\NTU\\BS6207\\Assign\\BS6207-assignment4\\Model\\model_size_1280_train__epoch_30\n",
      "processing the 31 epoch\n",
      "[032/050] 12.86 sec(s) Train Acc: 0.999219 Loss: 0.000031 | Val Acc: 0.802500 loss: 0.008752\n",
      "Counter 9 of 15\n",
      "Model saved at D:\\CS\\NTU\\BS6207\\Assign\\BS6207-assignment4\\Model\\model_size_1280_train__epoch_31\n",
      "processing the 32 epoch\n",
      "[033/050] 12.91 sec(s) Train Acc: 1.000000 Loss: 0.000022 | Val Acc: 0.795000 loss: 0.009394\n",
      "Counter 10 of 15\n",
      "Model saved at D:\\CS\\NTU\\BS6207\\Assign\\BS6207-assignment4\\Model\\model_size_1280_train__epoch_32\n",
      "processing the 33 epoch\n",
      "[034/050] 12.88 sec(s) Train Acc: 1.000000 Loss: 0.000024 | Val Acc: 0.877500 loss: 0.006378\n",
      "Counter 11 of 15\n",
      "Model saved at D:\\CS\\NTU\\BS6207\\Assign\\BS6207-assignment4\\Model\\model_size_1280_train__epoch_33\n",
      "processing the 34 epoch\n",
      "[035/050] 12.93 sec(s) Train Acc: 1.000000 Loss: 0.000011 | Val Acc: 0.767500 loss: 0.010455\n",
      "Counter 12 of 15\n",
      "Model saved at D:\\CS\\NTU\\BS6207\\Assign\\BS6207-assignment4\\Model\\model_size_1280_train__epoch_34\n",
      "processing the 35 epoch\n",
      "[036/050] 12.89 sec(s) Train Acc: 1.000000 Loss: 0.000006 | Val Acc: 0.810000 loss: 0.009114\n",
      "Counter 13 of 15\n",
      "Model saved at D:\\CS\\NTU\\BS6207\\Assign\\BS6207-assignment4\\Model\\model_size_1280_train__epoch_35\n",
      "processing the 36 epoch\n",
      "[037/050] 12.85 sec(s) Train Acc: 1.000000 Loss: 0.000005 | Val Acc: 0.805000 loss: 0.009314\n",
      "Counter 14 of 15\n",
      "Model saved at D:\\CS\\NTU\\BS6207\\Assign\\BS6207-assignment4\\Model\\model_size_1280_train__epoch_36\n",
      "processing the 37 epoch\n",
      "[038/050] 13.03 sec(s) Train Acc: 1.000000 Loss: 0.000005 | Val Acc: 0.780000 loss: 0.010443\n",
      "Counter 15 of 15\n",
      "Model saved at D:\\CS\\NTU\\BS6207\\Assign\\BS6207-assignment4\\Model\\model_size_1280_train__epoch_37\n",
      "Early stopping with best_acc:  0.8825 and val_acc for this epoch:  0.78 ...\n",
      "processing the 0 epoch\n",
      "[001/050] 23.67 sec(s) Train Acc: 0.651953 Loss: 0.006958 | Val Acc: 0.575000 loss: 0.010645\n",
      "Model saved at D:\\CS\\NTU\\BS6207\\Assign\\BS6207-assignment4\\train_size_2560_check_point.txt\n",
      "processing the 1 epoch\n",
      "[002/050] 24.10 sec(s) Train Acc: 0.758203 Loss: 0.004790 | Val Acc: 0.787500 loss: 0.008079\n",
      "Model saved at D:\\CS\\NTU\\BS6207\\Assign\\BS6207-assignment4\\train_size_2560_check_point.txt\n",
      "processing the 2 epoch\n",
      "[003/050] 23.72 sec(s) Train Acc: 0.813281 Loss: 0.003995 | Val Acc: 0.732500 loss: 0.007143\n",
      "Counter 1 of 15\n",
      "Model saved at D:\\CS\\NTU\\BS6207\\Assign\\BS6207-assignment4\\Model\\model_size_2560_train__epoch_2\n",
      "processing the 3 epoch\n",
      "[004/050] 23.66 sec(s) Train Acc: 0.833203 Loss: 0.003533 | Val Acc: 0.580000 loss: 0.018101\n",
      "Counter 2 of 15\n",
      "Model saved at D:\\CS\\NTU\\BS6207\\Assign\\BS6207-assignment4\\Model\\model_size_2560_train__epoch_3\n",
      "processing the 4 epoch\n",
      "[005/050] 24.09 sec(s) Train Acc: 0.855469 Loss: 0.003150 | Val Acc: 0.695000 loss: 0.008278\n",
      "Counter 3 of 15\n",
      "Model saved at D:\\CS\\NTU\\BS6207\\Assign\\BS6207-assignment4\\Model\\model_size_2560_train__epoch_4\n",
      "processing the 5 epoch\n",
      "[006/050] 24.08 sec(s) Train Acc: 0.865625 Loss: 0.002862 | Val Acc: 0.770000 loss: 0.006725\n",
      "Counter 4 of 15\n",
      "Model saved at D:\\CS\\NTU\\BS6207\\Assign\\BS6207-assignment4\\Model\\model_size_2560_train__epoch_5\n",
      "processing the 6 epoch\n",
      "[007/050] 23.91 sec(s) Train Acc: 0.894141 Loss: 0.002251 | Val Acc: 0.795000 loss: 0.005609\n",
      "Model saved at D:\\CS\\NTU\\BS6207\\Assign\\BS6207-assignment4\\train_size_2560_check_point.txt\n",
      "processing the 7 epoch\n",
      "[008/050] 24.11 sec(s) Train Acc: 0.927734 Loss: 0.001658 | Val Acc: 0.640000 loss: 0.011044\n",
      "Counter 1 of 15\n",
      "Model saved at D:\\CS\\NTU\\BS6207\\Assign\\BS6207-assignment4\\Model\\model_size_2560_train__epoch_7\n",
      "processing the 8 epoch\n",
      "[009/050] 24.73 sec(s) Train Acc: 0.935937 Loss: 0.001464 | Val Acc: 0.755000 loss: 0.009165\n",
      "Counter 2 of 15\n",
      "Model saved at D:\\CS\\NTU\\BS6207\\Assign\\BS6207-assignment4\\Model\\model_size_2560_train__epoch_8\n",
      "processing the 9 epoch\n",
      "[010/050] 24.21 sec(s) Train Acc: 0.932422 Loss: 0.001466 | Val Acc: 0.810000 loss: 0.007936\n",
      "Model saved at D:\\CS\\NTU\\BS6207\\Assign\\BS6207-assignment4\\train_size_2560_check_point.txt\n",
      "processing the 10 epoch\n",
      "[011/050] 24.48 sec(s) Train Acc: 0.937891 Loss: 0.001320 | Val Acc: 0.772500 loss: 0.008801\n",
      "Counter 1 of 15\n",
      "Model saved at D:\\CS\\NTU\\BS6207\\Assign\\BS6207-assignment4\\Model\\model_size_2560_train__epoch_10\n",
      "processing the 11 epoch\n",
      "[012/050] 24.20 sec(s) Train Acc: 0.964063 Loss: 0.000867 | Val Acc: 0.845000 loss: 0.008428\n",
      "Model saved at D:\\CS\\NTU\\BS6207\\Assign\\BS6207-assignment4\\train_size_2560_check_point.txt\n",
      "processing the 12 epoch\n",
      "[013/050] 23.84 sec(s) Train Acc: 0.967969 Loss: 0.000721 | Val Acc: 0.617500 loss: 0.020144\n",
      "Counter 1 of 15\n",
      "Model saved at D:\\CS\\NTU\\BS6207\\Assign\\BS6207-assignment4\\Model\\model_size_2560_train__epoch_12\n",
      "processing the 13 epoch\n",
      "[014/050] 24.26 sec(s) Train Acc: 0.971875 Loss: 0.000697 | Val Acc: 0.887500 loss: 0.003913\n",
      "Model saved at D:\\CS\\NTU\\BS6207\\Assign\\BS6207-assignment4\\train_size_2560_check_point.txt\n",
      "processing the 14 epoch\n",
      "[015/050] 23.98 sec(s) Train Acc: 0.969531 Loss: 0.000700 | Val Acc: 0.742500 loss: 0.009089\n",
      "Counter 1 of 15\n",
      "Model saved at D:\\CS\\NTU\\BS6207\\Assign\\BS6207-assignment4\\Model\\model_size_2560_train__epoch_14\n",
      "processing the 15 epoch\n",
      "[016/050] 24.27 sec(s) Train Acc: 0.985547 Loss: 0.000353 | Val Acc: 0.740000 loss: 0.010229\n",
      "Counter 2 of 15\n",
      "Model saved at D:\\CS\\NTU\\BS6207\\Assign\\BS6207-assignment4\\Model\\model_size_2560_train__epoch_15\n",
      "processing the 16 epoch\n",
      "[017/050] 25.26 sec(s) Train Acc: 0.982422 Loss: 0.000376 | Val Acc: 0.822500 loss: 0.009213\n",
      "Counter 3 of 15\n",
      "Model saved at D:\\CS\\NTU\\BS6207\\Assign\\BS6207-assignment4\\Model\\model_size_2560_train__epoch_16\n",
      "processing the 17 epoch\n",
      "[018/050] 23.80 sec(s) Train Acc: 0.985156 Loss: 0.000306 | Val Acc: 0.770000 loss: 0.009428\n",
      "Counter 4 of 15\n",
      "Model saved at D:\\CS\\NTU\\BS6207\\Assign\\BS6207-assignment4\\Model\\model_size_2560_train__epoch_17\n",
      "processing the 18 epoch\n",
      "[019/050] 23.95 sec(s) Train Acc: 0.990625 Loss: 0.000269 | Val Acc: 0.880000 loss: 0.006705\n",
      "Counter 5 of 15\n",
      "Model saved at D:\\CS\\NTU\\BS6207\\Assign\\BS6207-assignment4\\Model\\model_size_2560_train__epoch_18\n",
      "processing the 19 epoch\n",
      "[020/050] 24.41 sec(s) Train Acc: 0.994531 Loss: 0.000169 | Val Acc: 0.870000 loss: 0.005224\n",
      "Counter 6 of 15\n",
      "Model saved at D:\\CS\\NTU\\BS6207\\Assign\\BS6207-assignment4\\Model\\model_size_2560_train__epoch_19\n",
      "processing the 20 epoch\n",
      "[021/050] 24.26 sec(s) Train Acc: 0.996484 Loss: 0.000114 | Val Acc: 0.830000 loss: 0.007510\n",
      "Counter 7 of 15\n",
      "Model saved at D:\\CS\\NTU\\BS6207\\Assign\\BS6207-assignment4\\Model\\model_size_2560_train__epoch_20\n",
      "processing the 21 epoch\n"
     ]
    },
    {
     "name": "stdout",
     "output_type": "stream",
     "text": [
      "[022/050] 24.13 sec(s) Train Acc: 0.997656 Loss: 0.000066 | Val Acc: 0.892500 loss: 0.005383\n",
      "Model saved at D:\\CS\\NTU\\BS6207\\Assign\\BS6207-assignment4\\train_size_2560_check_point.txt\n",
      "processing the 22 epoch\n",
      "[023/050] 24.79 sec(s) Train Acc: 0.986719 Loss: 0.000312 | Val Acc: 0.775000 loss: 0.009932\n",
      "Counter 1 of 15\n",
      "Model saved at D:\\CS\\NTU\\BS6207\\Assign\\BS6207-assignment4\\Model\\model_size_2560_train__epoch_22\n",
      "processing the 23 epoch\n",
      "[024/050] 24.62 sec(s) Train Acc: 0.967187 Loss: 0.000781 | Val Acc: 0.825000 loss: 0.013690\n",
      "Counter 2 of 15\n",
      "Model saved at D:\\CS\\NTU\\BS6207\\Assign\\BS6207-assignment4\\Model\\model_size_2560_train__epoch_23\n",
      "processing the 24 epoch\n",
      "[025/050] 24.58 sec(s) Train Acc: 0.980078 Loss: 0.000432 | Val Acc: 0.907500 loss: 0.006156\n",
      "Model saved at D:\\CS\\NTU\\BS6207\\Assign\\BS6207-assignment4\\train_size_2560_check_point.txt\n",
      "processing the 25 epoch\n",
      "[026/050] 23.95 sec(s) Train Acc: 0.992188 Loss: 0.000182 | Val Acc: 0.695000 loss: 0.016596\n",
      "Counter 1 of 15\n",
      "Model saved at D:\\CS\\NTU\\BS6207\\Assign\\BS6207-assignment4\\Model\\model_size_2560_train__epoch_25\n",
      "processing the 26 epoch\n",
      "[027/050] 24.09 sec(s) Train Acc: 0.996484 Loss: 0.000111 | Val Acc: 0.717500 loss: 0.014992\n",
      "Counter 2 of 15\n",
      "Model saved at D:\\CS\\NTU\\BS6207\\Assign\\BS6207-assignment4\\Model\\model_size_2560_train__epoch_26\n",
      "processing the 27 epoch\n",
      "[028/050] 23.82 sec(s) Train Acc: 0.999219 Loss: 0.000051 | Val Acc: 0.862500 loss: 0.005570\n",
      "Counter 3 of 15\n",
      "Model saved at D:\\CS\\NTU\\BS6207\\Assign\\BS6207-assignment4\\Model\\model_size_2560_train__epoch_27\n",
      "processing the 28 epoch\n",
      "[029/050] 24.48 sec(s) Train Acc: 0.999219 Loss: 0.000029 | Val Acc: 0.847500 loss: 0.007231\n",
      "Counter 4 of 15\n",
      "Model saved at D:\\CS\\NTU\\BS6207\\Assign\\BS6207-assignment4\\Model\\model_size_2560_train__epoch_28\n",
      "processing the 29 epoch\n",
      "[030/050] 24.03 sec(s) Train Acc: 0.997656 Loss: 0.000063 | Val Acc: 0.852500 loss: 0.008842\n",
      "Counter 5 of 15\n",
      "Model saved at D:\\CS\\NTU\\BS6207\\Assign\\BS6207-assignment4\\Model\\model_size_2560_train__epoch_29\n",
      "processing the 30 epoch\n",
      "[031/050] 23.49 sec(s) Train Acc: 0.984766 Loss: 0.000284 | Val Acc: 0.800000 loss: 0.009035\n",
      "Counter 6 of 15\n",
      "Model saved at D:\\CS\\NTU\\BS6207\\Assign\\BS6207-assignment4\\Model\\model_size_2560_train__epoch_30\n",
      "processing the 31 epoch\n",
      "[032/050] 24.54 sec(s) Train Acc: 0.981250 Loss: 0.000425 | Val Acc: 0.887500 loss: 0.007254\n",
      "Counter 7 of 15\n",
      "Model saved at D:\\CS\\NTU\\BS6207\\Assign\\BS6207-assignment4\\Model\\model_size_2560_train__epoch_31\n",
      "processing the 32 epoch\n",
      "[033/050] 23.96 sec(s) Train Acc: 0.982812 Loss: 0.000354 | Val Acc: 0.767500 loss: 0.016626\n",
      "Counter 8 of 15\n",
      "Model saved at D:\\CS\\NTU\\BS6207\\Assign\\BS6207-assignment4\\Model\\model_size_2560_train__epoch_32\n",
      "processing the 33 epoch\n",
      "[034/050] 24.72 sec(s) Train Acc: 0.989062 Loss: 0.000244 | Val Acc: 0.760000 loss: 0.010773\n",
      "Counter 9 of 15\n",
      "Model saved at D:\\CS\\NTU\\BS6207\\Assign\\BS6207-assignment4\\Model\\model_size_2560_train__epoch_33\n",
      "processing the 34 epoch\n",
      "[035/050] 24.32 sec(s) Train Acc: 0.994531 Loss: 0.000129 | Val Acc: 0.875000 loss: 0.008444\n",
      "Counter 10 of 15\n",
      "Model saved at D:\\CS\\NTU\\BS6207\\Assign\\BS6207-assignment4\\Model\\model_size_2560_train__epoch_34\n",
      "processing the 35 epoch\n",
      "[036/050] 24.43 sec(s) Train Acc: 0.996094 Loss: 0.000080 | Val Acc: 0.742500 loss: 0.015097\n",
      "Counter 11 of 15\n",
      "Model saved at D:\\CS\\NTU\\BS6207\\Assign\\BS6207-assignment4\\Model\\model_size_2560_train__epoch_35\n",
      "processing the 36 epoch\n",
      "[037/050] 23.85 sec(s) Train Acc: 0.998828 Loss: 0.000033 | Val Acc: 0.897500 loss: 0.005596\n",
      "Counter 12 of 15\n",
      "Model saved at D:\\CS\\NTU\\BS6207\\Assign\\BS6207-assignment4\\Model\\model_size_2560_train__epoch_36\n",
      "processing the 37 epoch\n",
      "[038/050] 24.11 sec(s) Train Acc: 1.000000 Loss: 0.000011 | Val Acc: 0.845000 loss: 0.009094\n",
      "Counter 13 of 15\n",
      "Model saved at D:\\CS\\NTU\\BS6207\\Assign\\BS6207-assignment4\\Model\\model_size_2560_train__epoch_37\n",
      "processing the 38 epoch\n",
      "[039/050] 23.96 sec(s) Train Acc: 1.000000 Loss: 0.000006 | Val Acc: 0.847500 loss: 0.008341\n",
      "Counter 14 of 15\n",
      "Model saved at D:\\CS\\NTU\\BS6207\\Assign\\BS6207-assignment4\\Model\\model_size_2560_train__epoch_38\n",
      "processing the 39 epoch\n",
      "[040/050] 24.26 sec(s) Train Acc: 1.000000 Loss: 0.000003 | Val Acc: 0.850000 loss: 0.007861\n",
      "Counter 15 of 15\n",
      "Model saved at D:\\CS\\NTU\\BS6207\\Assign\\BS6207-assignment4\\Model\\model_size_2560_train__epoch_39\n",
      "Early stopping with best_acc:  0.9075 and val_acc for this epoch:  0.85 ...\n",
      "processing the 0 epoch\n",
      "[001/050] 47.03 sec(s) Train Acc: 0.721875 Loss: 0.005637 | Val Acc: 0.622500 loss: 0.010261\n",
      "Model saved at D:\\CS\\NTU\\BS6207\\Assign\\BS6207-assignment4\\train_size_5120_check_point.txt\n",
      "processing the 1 epoch\n",
      "[002/050] 45.79 sec(s) Train Acc: 0.826758 Loss: 0.003592 | Val Acc: 0.540000 loss: 0.017178\n",
      "Counter 1 of 15\n",
      "Model saved at D:\\CS\\NTU\\BS6207\\Assign\\BS6207-assignment4\\Model\\model_size_5120_train__epoch_1\n",
      "processing the 2 epoch\n",
      "[003/050] 45.63 sec(s) Train Acc: 0.855469 Loss: 0.002991 | Val Acc: 0.685000 loss: 0.011098\n",
      "Model saved at D:\\CS\\NTU\\BS6207\\Assign\\BS6207-assignment4\\train_size_5120_check_point.txt\n",
      "processing the 3 epoch\n",
      "[004/050] 45.40 sec(s) Train Acc: 0.906055 Loss: 0.002090 | Val Acc: 0.842500 loss: 0.005899\n",
      "Model saved at D:\\CS\\NTU\\BS6207\\Assign\\BS6207-assignment4\\train_size_5120_check_point.txt\n",
      "processing the 4 epoch\n",
      "[005/050] 49.30 sec(s) Train Acc: 0.917188 Loss: 0.001854 | Val Acc: 0.790000 loss: 0.008498\n",
      "Counter 1 of 15\n",
      "Model saved at D:\\CS\\NTU\\BS6207\\Assign\\BS6207-assignment4\\Model\\model_size_5120_train__epoch_4\n",
      "processing the 5 epoch\n",
      "[006/050] 48.18 sec(s) Train Acc: 0.914648 Loss: 0.001735 | Val Acc: 0.870000 loss: 0.006397\n",
      "Model saved at D:\\CS\\NTU\\BS6207\\Assign\\BS6207-assignment4\\train_size_5120_check_point.txt\n",
      "processing the 6 epoch\n",
      "[007/050] 46.85 sec(s) Train Acc: 0.941211 Loss: 0.001247 | Val Acc: 0.885000 loss: 0.005330\n",
      "Model saved at D:\\CS\\NTU\\BS6207\\Assign\\BS6207-assignment4\\train_size_5120_check_point.txt\n",
      "processing the 7 epoch\n",
      "[008/050] 46.15 sec(s) Train Acc: 0.953125 Loss: 0.001000 | Val Acc: 0.700000 loss: 0.012796\n",
      "Counter 1 of 15\n",
      "Model saved at D:\\CS\\NTU\\BS6207\\Assign\\BS6207-assignment4\\Model\\model_size_5120_train__epoch_7\n",
      "processing the 8 epoch\n",
      "[009/050] 46.26 sec(s) Train Acc: 0.947656 Loss: 0.001113 | Val Acc: 0.820000 loss: 0.009468\n",
      "Counter 2 of 15\n",
      "Model saved at D:\\CS\\NTU\\BS6207\\Assign\\BS6207-assignment4\\Model\\model_size_5120_train__epoch_8\n",
      "processing the 9 epoch\n",
      "[010/050] 46.46 sec(s) Train Acc: 0.965430 Loss: 0.000805 | Val Acc: 0.835000 loss: 0.005423\n",
      "Counter 3 of 15\n",
      "Model saved at D:\\CS\\NTU\\BS6207\\Assign\\BS6207-assignment4\\Model\\model_size_5120_train__epoch_9\n",
      "processing the 10 epoch\n",
      "[011/050] 46.27 sec(s) Train Acc: 0.960547 Loss: 0.000878 | Val Acc: 0.900000 loss: 0.003773\n",
      "Model saved at D:\\CS\\NTU\\BS6207\\Assign\\BS6207-assignment4\\train_size_5120_check_point.txt\n",
      "processing the 11 epoch\n",
      "[012/050] 47.01 sec(s) Train Acc: 0.973828 Loss: 0.000619 | Val Acc: 0.707500 loss: 0.012614\n",
      "Counter 1 of 15\n",
      "Model saved at D:\\CS\\NTU\\BS6207\\Assign\\BS6207-assignment4\\Model\\model_size_5120_train__epoch_11\n",
      "processing the 12 epoch\n",
      "[013/050] 46.08 sec(s) Train Acc: 0.974414 Loss: 0.000581 | Val Acc: 0.910000 loss: 0.003241\n",
      "Model saved at D:\\CS\\NTU\\BS6207\\Assign\\BS6207-assignment4\\train_size_5120_check_point.txt\n",
      "processing the 13 epoch\n",
      "[014/050] 45.21 sec(s) Train Acc: 0.979688 Loss: 0.000456 | Val Acc: 0.875000 loss: 0.006090\n",
      "Counter 1 of 15\n",
      "Model saved at D:\\CS\\NTU\\BS6207\\Assign\\BS6207-assignment4\\Model\\model_size_5120_train__epoch_13\n",
      "processing the 14 epoch\n",
      "[015/050] 46.55 sec(s) Train Acc: 0.989844 Loss: 0.000250 | Val Acc: 0.830000 loss: 0.010043\n",
      "Counter 2 of 15\n",
      "Model saved at D:\\CS\\NTU\\BS6207\\Assign\\BS6207-assignment4\\Model\\model_size_5120_train__epoch_14\n",
      "processing the 15 epoch\n",
      "[016/050] 46.98 sec(s) Train Acc: 0.991406 Loss: 0.000236 | Val Acc: 0.877500 loss: 0.005851\n",
      "Counter 3 of 15\n",
      "Model saved at D:\\CS\\NTU\\BS6207\\Assign\\BS6207-assignment4\\Model\\model_size_5120_train__epoch_15\n",
      "processing the 16 epoch\n",
      "[017/050] 46.78 sec(s) Train Acc: 0.985742 Loss: 0.000350 | Val Acc: 0.887500 loss: 0.005607\n",
      "Counter 4 of 15\n",
      "Model saved at D:\\CS\\NTU\\BS6207\\Assign\\BS6207-assignment4\\Model\\model_size_5120_train__epoch_16\n",
      "processing the 17 epoch\n",
      "[018/050] 48.06 sec(s) Train Acc: 0.976172 Loss: 0.000488 | Val Acc: 0.815000 loss: 0.008942\n",
      "Counter 5 of 15\n",
      "Model saved at D:\\CS\\NTU\\BS6207\\Assign\\BS6207-assignment4\\Model\\model_size_5120_train__epoch_17\n",
      "processing the 18 epoch\n"
     ]
    },
    {
     "name": "stdout",
     "output_type": "stream",
     "text": [
      "[019/050] 46.44 sec(s) Train Acc: 0.970508 Loss: 0.000621 | Val Acc: 0.907500 loss: 0.003749\n",
      "Counter 6 of 15\n",
      "Model saved at D:\\CS\\NTU\\BS6207\\Assign\\BS6207-assignment4\\Model\\model_size_5120_train__epoch_18\n",
      "processing the 19 epoch\n",
      "[020/050] 47.20 sec(s) Train Acc: 0.993555 Loss: 0.000184 | Val Acc: 0.897500 loss: 0.004466\n",
      "Counter 7 of 15\n",
      "Model saved at D:\\CS\\NTU\\BS6207\\Assign\\BS6207-assignment4\\Model\\model_size_5120_train__epoch_19\n",
      "processing the 20 epoch\n",
      "[021/050] 46.95 sec(s) Train Acc: 0.994336 Loss: 0.000157 | Val Acc: 0.847500 loss: 0.008527\n",
      "Counter 8 of 15\n",
      "Model saved at D:\\CS\\NTU\\BS6207\\Assign\\BS6207-assignment4\\Model\\model_size_5120_train__epoch_20\n",
      "processing the 21 epoch\n",
      "[022/050] 46.38 sec(s) Train Acc: 0.999219 Loss: 0.000045 | Val Acc: 0.877500 loss: 0.006855\n",
      "Counter 9 of 15\n",
      "Model saved at D:\\CS\\NTU\\BS6207\\Assign\\BS6207-assignment4\\Model\\model_size_5120_train__epoch_21\n",
      "processing the 22 epoch\n",
      "[023/050] 46.32 sec(s) Train Acc: 0.999023 Loss: 0.000037 | Val Acc: 0.920000 loss: 0.005472\n",
      "Model saved at D:\\CS\\NTU\\BS6207\\Assign\\BS6207-assignment4\\train_size_5120_check_point.txt\n",
      "processing the 23 epoch\n",
      "[024/050] 46.92 sec(s) Train Acc: 0.998828 Loss: 0.000045 | Val Acc: 0.870000 loss: 0.007879\n",
      "Counter 1 of 15\n",
      "Model saved at D:\\CS\\NTU\\BS6207\\Assign\\BS6207-assignment4\\Model\\model_size_5120_train__epoch_23\n",
      "processing the 24 epoch\n",
      "[025/050] 48.55 sec(s) Train Acc: 0.999023 Loss: 0.000035 | Val Acc: 0.882500 loss: 0.005360\n",
      "Counter 2 of 15\n",
      "Model saved at D:\\CS\\NTU\\BS6207\\Assign\\BS6207-assignment4\\Model\\model_size_5120_train__epoch_24\n",
      "processing the 25 epoch\n",
      "[026/050] 48.08 sec(s) Train Acc: 0.999805 Loss: 0.000014 | Val Acc: 0.885000 loss: 0.005736\n",
      "Counter 3 of 15\n",
      "Model saved at D:\\CS\\NTU\\BS6207\\Assign\\BS6207-assignment4\\Model\\model_size_5120_train__epoch_25\n",
      "processing the 26 epoch\n",
      "[027/050] 46.87 sec(s) Train Acc: 1.000000 Loss: 0.000006 | Val Acc: 0.890000 loss: 0.007417\n",
      "Counter 4 of 15\n",
      "Model saved at D:\\CS\\NTU\\BS6207\\Assign\\BS6207-assignment4\\Model\\model_size_5120_train__epoch_26\n",
      "processing the 27 epoch\n",
      "[028/050] 46.53 sec(s) Train Acc: 1.000000 Loss: 0.000004 | Val Acc: 0.892500 loss: 0.006731\n",
      "Counter 5 of 15\n",
      "Model saved at D:\\CS\\NTU\\BS6207\\Assign\\BS6207-assignment4\\Model\\model_size_5120_train__epoch_27\n",
      "processing the 28 epoch\n",
      "[029/050] 46.60 sec(s) Train Acc: 0.999805 Loss: 0.000008 | Val Acc: 0.877500 loss: 0.007852\n",
      "Counter 6 of 15\n",
      "Model saved at D:\\CS\\NTU\\BS6207\\Assign\\BS6207-assignment4\\Model\\model_size_5120_train__epoch_28\n",
      "processing the 29 epoch\n",
      "[030/050] 47.32 sec(s) Train Acc: 0.998437 Loss: 0.000037 | Val Acc: 0.832500 loss: 0.009614\n",
      "Counter 7 of 15\n",
      "Model saved at D:\\CS\\NTU\\BS6207\\Assign\\BS6207-assignment4\\Model\\model_size_5120_train__epoch_29\n",
      "processing the 30 epoch\n",
      "[031/050] 47.59 sec(s) Train Acc: 0.999805 Loss: 0.000019 | Val Acc: 0.850000 loss: 0.009231\n",
      "Counter 8 of 15\n",
      "Model saved at D:\\CS\\NTU\\BS6207\\Assign\\BS6207-assignment4\\Model\\model_size_5120_train__epoch_30\n",
      "processing the 31 epoch\n",
      "[032/050] 48.32 sec(s) Train Acc: 1.000000 Loss: 0.000008 | Val Acc: 0.900000 loss: 0.007508\n",
      "Counter 9 of 15\n",
      "Model saved at D:\\CS\\NTU\\BS6207\\Assign\\BS6207-assignment4\\Model\\model_size_5120_train__epoch_31\n",
      "processing the 32 epoch\n",
      "[033/050] 47.95 sec(s) Train Acc: 0.999805 Loss: 0.000013 | Val Acc: 0.880000 loss: 0.008175\n",
      "Counter 10 of 15\n",
      "Model saved at D:\\CS\\NTU\\BS6207\\Assign\\BS6207-assignment4\\Model\\model_size_5120_train__epoch_32\n",
      "processing the 33 epoch\n",
      "[034/050] 45.84 sec(s) Train Acc: 0.999414 Loss: 0.000019 | Val Acc: 0.852500 loss: 0.009182\n",
      "Counter 11 of 15\n",
      "Model saved at D:\\CS\\NTU\\BS6207\\Assign\\BS6207-assignment4\\Model\\model_size_5120_train__epoch_33\n",
      "processing the 34 epoch\n",
      "[035/050] 45.84 sec(s) Train Acc: 0.999023 Loss: 0.000032 | Val Acc: 0.857500 loss: 0.008212\n",
      "Counter 12 of 15\n",
      "Model saved at D:\\CS\\NTU\\BS6207\\Assign\\BS6207-assignment4\\Model\\model_size_5120_train__epoch_34\n",
      "processing the 35 epoch\n",
      "[036/050] 46.03 sec(s) Train Acc: 1.000000 Loss: 0.000004 | Val Acc: 0.872500 loss: 0.007579\n",
      "Counter 13 of 15\n",
      "Model saved at D:\\CS\\NTU\\BS6207\\Assign\\BS6207-assignment4\\Model\\model_size_5120_train__epoch_35\n",
      "processing the 36 epoch\n",
      "[037/050] 46.42 sec(s) Train Acc: 1.000000 Loss: 0.000005 | Val Acc: 0.907500 loss: 0.005134\n",
      "Counter 14 of 15\n",
      "Model saved at D:\\CS\\NTU\\BS6207\\Assign\\BS6207-assignment4\\Model\\model_size_5120_train__epoch_36\n",
      "processing the 37 epoch\n",
      "[038/050] 46.29 sec(s) Train Acc: 1.000000 Loss: 0.000004 | Val Acc: 0.862500 loss: 0.008298\n",
      "Counter 15 of 15\n",
      "Model saved at D:\\CS\\NTU\\BS6207\\Assign\\BS6207-assignment4\\Model\\model_size_5120_train__epoch_37\n",
      "Early stopping with best_acc:  0.92 and val_acc for this epoch:  0.8625 ...\n"
     ]
    }
   ],
   "source": [
    "his_loss_size=[]\n",
    "his_acc_size=[]\n",
    "for datas in size_data:\n",
    "    batch_size=128\n",
    "    model=CNNModel_pool_normal()\n",
    "    loss=nn.CrossEntropyLoss()\n",
    "    optim=torch.optim.Adam(model.parameters(),lr=0.001)\n",
    "    his_lo_size,his_ac_size=train_sets(model,datas,test_iter,optim,50,128,early_stop=True,name=\"model_size_{}_train_\".format(str(datas[0].shape[0])))\n",
    "    his_loss_size.append(his_lo_size)\n",
    "    his_acc_size.append(his_ac_size)"
   ]
  },
  {
   "cell_type": "code",
   "execution_count": 420,
   "metadata": {},
   "outputs": [],
   "source": [
    "batch.append(6529)\n",
    "final_result=[0.635,0.667500,0.815,0.8025,0.86,0.8825,0.9075,0.92,0.96]"
   ]
  },
  {
   "cell_type": "code",
   "execution_count": 422,
   "metadata": {},
   "outputs": [
    {
     "data": {
      "text/plain": [
       "Text(0, 0.5, 'accuracy')"
      ]
     },
     "execution_count": 422,
     "metadata": {},
     "output_type": "execute_result"
    },
    {
     "data": {
      "image/png": "[encoded data removed]",
      "text/plain": [
       "<Figure size 432x288 with 1 Axes>"
      ]
     },
     "metadata": {
      "needs_background": "light"
     },
     "output_type": "display_data"
    }
   ],
   "source": [
    "plt.plot(batch,final_result)\n",
    "plt.xlabel(\"train_size\")\n",
    "plt.ylabel(\"accuracy\")"
   ]
  },
  {
   "cell_type": "code",
   "execution_count": 452,
   "metadata": {},
   "outputs": [
    {
     "data": {
      "image/png": "[encoded data removed]",
      "text/plain": [
       "<Figure size 432x288 with 1 Axes>"
      ]
     },
     "metadata": {
      "needs_background": "light"
     },
     "output_type": "display_data"
    },
    {
     "data": {
      "image/png": "[encoded data removed]",
      "text/plain": [
       "<Figure size 432x288 with 1 Axes>"
      ]
     },
     "metadata": {
      "needs_background": "light"
     },
     "output_type": "display_data"
    },
    {
     "data": {
      "image/png": "[encoded data removed]",
      "text/plain": [
       "<Figure size 432x288 with 1 Axes>"
      ]
     },
     "metadata": {
      "needs_background": "light"
     },
     "output_type": "display_data"
    },
    {
     "data": {
      "image/png": "[encoded data removed]",
      "text/plain": [
       "<Figure size 432x288 with 1 Axes>"
      ]
     },
     "metadata": {
      "needs_background": "light"
     },
     "output_type": "display_data"
    },
    {
     "data": {
      "image/png": "[encoded data removed]",
      "text/plain": [
       "<Figure size 432x288 with 1 Axes>"
      ]
     },
     "metadata": {
      "needs_background": "light"
     },
     "output_type": "display_data"
    },
    {
     "data": {
      "image/png": "[encoded data removed]",
      "text/plain": [
       "<Figure size 432x288 with 1 Axes>"
      ]
     },
     "metadata": {
      "needs_background": "light"
     },
     "output_type": "display_data"
    },
    {
     "data": {
      "image/png": "[encoded data removed]",
      "text/plain": [
       "<Figure size 432x288 with 1 Axes>"
      ]
     },
     "metadata": {
      "needs_background": "light"
     },
     "output_type": "display_data"
    },
    {
     "data": {
      "image/png": "[encoded data removed]",
      "text/plain": [
       "<Figure size 432x288 with 1 Axes>"
      ]
     },
     "metadata": {
      "needs_background": "light"
     },
     "output_type": "display_data"
    }
   ],
   "source": [
    "for i in range(len(his_acc_size)):\n",
    "    name=batch[i]\n",
    "    plt.plot(his_acc_size[i][\"train\"])\n",
    "    plt.plot(his_acc_size[i][\"val\"])\n",
    "    plt.legend([\"train\",\"test\"])\n",
    "    plt.title(\"Size {}\".format(str(name)))\n",
    "    plt.show()"
   ]
  },
  {
   "cell_type": "code",
   "execution_count": null,
   "metadata": {
    "scrolled": true
   },
   "outputs": [],
   "source": []
  },
  {
   "cell_type": "code",
   "execution_count": null,
   "metadata": {},
   "outputs": [],
   "source": []
  },
  {
   "cell_type": "code",
   "execution_count": null,
   "metadata": {},
   "outputs": [],
   "source": []
  }
 ],
 "metadata": {
  "kernelspec": {
   "display_name": "Python 3",
   "language": "python",
   "name": "python3"
  },
  "language_info": {
   "codemirror_mode": {
    "name": "ipython",
    "version": 3
   },
   "file_extension": ".py",
   "mimetype": "text/x-python",
   "name": "python",
   "nbconvert_exporter": "python",
   "pygments_lexer": "ipython3",
   "version": "3.7.6"
  }
 },
 "nbformat": 4,
 "nbformat_minor": 4
}
