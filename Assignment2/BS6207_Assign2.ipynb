{
 "cells": [
  {
   "cell_type": "code",
   "execution_count": 7,
   "metadata": {},
   "outputs": [],
   "source": [
    "import numpy as np\n",
    "import matplotlib.pyplot as plt"
   ]
  },
  {
   "cell_type": "code",
   "execution_count": 8,
   "metadata": {},
   "outputs": [],
   "source": [
    "#generate a sample of the function\n",
    "lr=0.3\n",
    "def val(x,h):\n",
    "    \n",
    "    return max(-x,x) if x<h else -x+2*h"
   ]
  },
  {
   "cell_type": "code",
   "execution_count": 9,
   "metadata": {},
   "outputs": [],
   "source": [
    "y=[]\n",
    "for i in range(-5,5,1):\n",
    "    y.append(val(i,1))"
   ]
  },
  {
   "cell_type": "code",
   "execution_count": 10,
   "metadata": {},
   "outputs": [
    {
     "data": {
      "text/plain": [
       "[<matplotlib.lines.Line2D at 0x190f6bdfac8>]"
      ]
     },
     "execution_count": 10,
     "metadata": {},
     "output_type": "execute_result"
    },
    {
     "data": {
      "image/png": "[encoded data removed]",
      "text/plain": [
       "<Figure size 432x288 with 1 Axes>"
      ]
     },
     "metadata": {
      "needs_background": "light"
     },
     "output_type": "display_data"
    }
   ],
   "source": [
    "#plot the graph of the function\n",
    "plt.plot(range(-5,5),y)"
   ]
  },
  {
   "cell_type": "code",
   "execution_count": 11,
   "metadata": {},
   "outputs": [],
   "source": [
    "#generate the gradient number\n",
    "def grad(x,h):\n",
    "    if x<0:\n",
    "        return -1\n",
    "    elif x<h:\n",
    "        return 1\n",
    "    else:\n",
    "        return -1"
   ]
  },
  {
   "cell_type": "code",
   "execution_count": 12,
   "metadata": {},
   "outputs": [],
   "source": [
    "#generate the parameters of Adam.\n",
    "b1=0.9\n",
    "b2=0.999"
   ]
  },
  {
   "cell_type": "code",
   "execution_count": 19,
   "metadata": {},
   "outputs": [
    {
     "name": "stdout",
     "output_type": "stream",
     "text": [
      "x:0.35348343141803207 and h:0.3 \n",
      "x:0.35348343141803207 and h:0.301 \n",
      "x:0.35348343141803207 and h:0.302 \n",
      "x:0.35348343141803207 and h:0.303 \n",
      "x:0.35348343141803207 and h:0.304 \n",
      "x:0.35348343141803207 and h:0.305 \n",
      "x:0.35348343141803207 and h:0.306 \n",
      "x:0.35348343141803207 and h:0.307 \n",
      "x:0.35348343141803207 and h:0.308 \n",
      "x:0.35348343141803207 and h:0.309 \n",
      "x:0.35348343141803207 and h:0.31 \n",
      "x:0.35348343141803207 and h:0.311 \n",
      "x:0.35348343141803207 and h:0.312 \n",
      "x:0.35348343141803207 and h:0.313 \n",
      "x:0.35348343141803207 and h:0.314 \n",
      "x:0.35348343141803207 and h:0.315 \n",
      "x:0.35348343141803207 and h:0.316 \n",
      "x:0.35348343141803207 and h:0.317 \n",
      "x:0.35348343141803207 and h:0.318 \n",
      "x:0.35348343141803207 and h:0.319 \n",
      "x:0.35348343141803207 and h:0.32 \n",
      "x:0.35348343141803207 and h:0.321 \n",
      "x:0.35348343141803207 and h:0.322 \n",
      "x:0.35348343141803207 and h:0.323 \n",
      "x:0.35348343141803207 and h:0.324 \n",
      "x:0.35348343141803207 and h:0.325 \n",
      "x:0.35348343141803207 and h:0.326 \n",
      "x:0.35348343141803207 and h:0.327 \n",
      "x:0.35348343141803207 and h:0.328 \n",
      "x:0.35348343141803207 and h:0.329 \n",
      "x:0.35348343141803207 and h:0.33 \n",
      "x:0.35348343141803207 and h:0.331 \n",
      "x:0.35348343141803207 and h:0.332 \n",
      "x:0.35348343141803207 and h:0.333 \n",
      "x:0.35348343141803207 and h:0.334 \n",
      "x:0.35348343141803207 and h:0.335 \n",
      "x:0.35348343141803207 and h:0.336 \n",
      "x:0.35348343141803207 and h:0.337 \n",
      "x:0.35348343141803207 and h:0.338 \n",
      "x:0.35348343141803207 and h:0.339 \n",
      "x:0.35348343141803207 and h:0.34 \n",
      "x:0.35348343141803207 and h:0.341 \n",
      "x:0.35348343141803207 and h:0.342 \n",
      "x:0.35348343141803207 and h:0.343 \n",
      "x:0.35348343141803207 and h:0.34400000000000003 \n",
      "x:0.35348343141803207 and h:0.34500000000000003 \n",
      "x:0.35348343141803207 and h:0.34600000000000003 \n",
      "x:0.35348343141803207 and h:0.34700000000000003 \n",
      "x:0.35348343141803207 and h:0.34800000000000003 \n",
      "x:0.35348343141803207 and h:0.34900000000000003 \n",
      "x:0.35348343141803207 and h:0.35000000000000003 \n",
      "x:0.35348343141803207 and h:0.35100000000000003 \n",
      "x:0.35348343141803207 and h:0.35200000000000004 \n",
      "x:0.35348343141803207 and h:0.35300000000000004 \n",
      "x:0.41018429512996585 and h:0.35400000000000004 \n",
      "x:0.41018429512996585 and h:0.35500000000000004 \n",
      "x:0.41018429512996585 and h:0.35600000000000004 \n",
      "x:0.41018429512996585 and h:0.35700000000000004 \n",
      "x:0.41018429512996585 and h:0.35800000000000004 \n",
      "x:0.41018429512996585 and h:0.35900000000000004 \n",
      "x:0.41018429512996585 and h:0.36000000000000004 \n",
      "x:0.41018429512996585 and h:0.36100000000000004 \n",
      "x:0.41018429512996585 and h:0.36200000000000004 \n",
      "x:0.41018429512996585 and h:0.36300000000000004 \n",
      "x:0.41018429512996585 and h:0.36400000000000005 \n",
      "x:0.41018429512996585 and h:0.36500000000000005 \n",
      "x:0.41018429512996585 and h:0.36600000000000005 \n",
      "x:0.41018429512996585 and h:0.36700000000000005 \n",
      "x:0.41018429512996585 and h:0.36800000000000005 \n",
      "x:0.41018429512996585 and h:0.36900000000000005 \n",
      "x:0.41018429512996585 and h:0.37000000000000005 \n",
      "x:0.41018429512996585 and h:0.37100000000000005 \n",
      "x:0.41018429512996585 and h:0.37200000000000005 \n",
      "x:0.41018429512996585 and h:0.37300000000000005 \n",
      "x:0.41018429512996585 and h:0.37400000000000005 \n",
      "x:0.41018429512996585 and h:0.37500000000000006 \n",
      "x:0.41018429512996585 and h:0.37600000000000006 \n",
      "x:0.41018429512996585 and h:0.37700000000000006 \n",
      "x:0.41018429512996585 and h:0.37800000000000006 \n",
      "x:0.41018429512996585 and h:0.37900000000000006 \n",
      "x:0.41018429512996585 and h:0.38000000000000006 \n",
      "x:0.41018429512996585 and h:0.38100000000000006 \n",
      "x:0.41018429512996585 and h:0.38200000000000006 \n",
      "x:0.41018429512996585 and h:0.38300000000000006 \n",
      "x:0.41018429512996585 and h:0.38400000000000006 \n",
      "x:0.41018429512996585 and h:0.38500000000000006 \n",
      "x:0.41018429512996585 and h:0.38600000000000007 \n",
      "x:0.41018429512996585 and h:0.38700000000000007 \n",
      "x:0.41018429512996585 and h:0.38800000000000007 \n",
      "x:0.41018429512996585 and h:0.38900000000000007 \n",
      "x:0.41018429512996585 and h:0.39000000000000007 \n",
      "x:0.41018429512996585 and h:0.39100000000000007 \n",
      "x:0.41018429512996585 and h:0.39200000000000007 \n",
      "x:0.41018429512996585 and h:0.39300000000000007 \n",
      "x:0.41018429512996585 and h:0.3940000000000001 \n",
      "x:0.41018429512996585 and h:0.3950000000000001 \n",
      "x:0.41018429512996585 and h:0.3960000000000001 \n",
      "x:0.41018429512996585 and h:0.3970000000000001 \n",
      "x:0.41018429512996585 and h:0.3980000000000001 \n",
      "x:0.41018429512996585 and h:0.3990000000000001 \n",
      "x:0.41018429512996585 and h:0.4000000000000001 \n",
      "x:0.41018429512996585 and h:0.4010000000000001 \n",
      "x:0.41018429512996585 and h:0.4020000000000001 \n",
      "x:0.41018429512996585 and h:0.4030000000000001 \n",
      "x:0.41018429512996585 and h:0.4040000000000001 \n",
      "x:0.41018429512996585 and h:0.4050000000000001 \n",
      "x:0.41018429512996585 and h:0.4060000000000001 \n",
      "x:0.41018429512996585 and h:0.4070000000000001 \n",
      "x:0.41018429512996585 and h:0.4080000000000001 \n",
      "x:0.41018429512996585 and h:0.4090000000000001 \n",
      "x:0.41018429512996585 and h:0.4100000000000001 \n",
      "maximum height is:  0.4100000000000001\n"
     ]
    }
   ],
   "source": [
    "##change h from 0.3 to 10 with step 0.001\n",
    "#if the i reach maximum round,here is 9999, then the maximum height is found and the loop will break\n",
    "lr=0.3\n",
    "step=0.001\n",
    "for h in np.arange(0.3,10,step):\n",
    "    x=-1\n",
    "    m=0\n",
    "    v=0\n",
    "    for i in range(1,10000):\n",
    "        g=grad(x,h)\n",
    "        m=m*b1+(1-b1)*g\n",
    "        v=v*b2+(1-b2)*(g**2)\n",
    "        mm=m/(1-(b1**i))\n",
    "        vv=v/(1-(b2**i))\n",
    "        x=x-lr*mm/np.sqrt(vv)\n",
    "        if x>h:\n",
    "            print(\"x:{} and h:{} \".format(x,h))\n",
    "            break\n",
    "#     yy.append(h)\n",
    "    if i==9999:\n",
    "        print(\"maximum height is: \",h-step)\n",
    "        break"
   ]
  },
  {
   "cell_type": "code",
   "execution_count": null,
   "metadata": {},
   "outputs": [],
   "source": []
  },
  {
   "cell_type": "code",
   "execution_count": null,
   "metadata": {},
   "outputs": [],
   "source": []
  },
  {
   "cell_type": "code",
   "execution_count": null,
   "metadata": {},
   "outputs": [],
   "source": [
    "\n"
   ]
  },
  {
   "cell_type": "code",
   "execution_count": null,
   "metadata": {},
   "outputs": [],
   "source": []
  }
 ],
 "metadata": {
  "kernelspec": {
   "display_name": "Python 3",
   "language": "python",
   "name": "python3"
  },
  "language_info": {
   "codemirror_mode": {
    "name": "ipython",
    "version": 3
   },
   "file_extension": ".py",
   "mimetype": "text/x-python",
   "name": "python",
   "nbconvert_exporter": "python",
   "pygments_lexer": "ipython3",
   "version": "3.7.6"
  }
 },
 "nbformat": 4,
 "nbformat_minor": 4
}
